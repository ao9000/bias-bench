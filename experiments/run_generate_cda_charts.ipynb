{
 "cells": [
  {
   "metadata": {},
   "cell_type": "markdown",
   "source": "# Define json file directories",
   "id": "ca51f4958a7db0c"
  },
  {
   "cell_type": "code",
   "id": "initial_id",
   "metadata": {
    "collapsed": true,
    "ExecuteTime": {
     "end_time": "2024-07-01T10:02:29.037511Z",
     "start_time": "2024-07-01T10:02:29.022995Z"
    }
   },
   "source": [
    "stereoset_results_dir = '../results/stereoset_CDA_processed/llama2/gender'\n",
    "crows_results_dir = '../results/crows_CDA/crows_m-CDALlama2LMHeadModel_c-meta-llama_Llama-2-7b-hf_t-gender.json'\n",
    "\n",
    "training_output_dir = '../results/CDA_FT/llama2/gender'"
   ],
   "outputs": [],
   "execution_count": 1
  },
  {
   "metadata": {},
   "cell_type": "code",
   "outputs": [],
   "execution_count": null,
   "source": [
    "import json\n",
    "# Load datas\n",
    "\n",
    "# Load training data\n",
    "with open(f'{training_output_dir}/trainer_state.json', 'r') as f:\n",
    "    model_logs = json.load(f)\n",
    "    \n",
    "# Load stereoset data\n",
    "with open(f'{stereoset_results_dir}/combined.json', 'r') as f:\n",
    "    stereoset_results = json.load(f)\n",
    "    \n",
    "# Load crows data\n",
    "with open(crows_results_dir, 'r') as f:\n",
    "    crows_results = json.load(f)"
   ],
   "id": "6484e678423a055a"
  },
  {
   "metadata": {},
   "cell_type": "code",
   "outputs": [],
   "execution_count": null,
   "source": [
    "# Extract key values from training data\n",
    "log_history = model_logs[\"log_history\"][:-1] # Exclude last entry because it is the final train results\n",
    "# Extract the loss and step values from the model output\n",
    "losses = [d['loss'] for d in log_history]\n",
    "steps = [d['step'] for d in log_history]\n",
    "lr = [d['learning_rate'] for d in log_history]\n",
    "grad_norm = [d['grad_norm'] for d in log_history]\n",
    "epoch = [d['epoch'] for d in log_history]"
   ],
   "id": "f1fcc34ce08638fe"
  },
  {
   "metadata": {},
   "cell_type": "code",
   "outputs": [],
   "execution_count": null,
   "source": [
    "focused_category = \"gender\"\n",
    "\n",
    "stereoset_ss = []\n",
    "stereoset_lm = []\n",
    "stereoset_icat = []\n",
    "# Extract key values from stereoset data\n",
    "for ckpt_num in range(100, 1000, 100):\n",
    "    stereoset_ss.append(stereoset_results[f\"{ckpt_num}\"]['intrasentence'][focused_category][\"SS Score\"])\n",
    "    stereoset_lm.append(stereoset_results[f\"{ckpt_num}\"]['intrasentence'][focused_category][\"LM Score\"])\n",
    "    stereoset_icat.append(stereoset_results[f\"{ckpt_num}\"]['intrasentence'][focused_category][\"ICAT Score\"])"
   ],
   "id": "49edf6d4d0e6b061"
  },
  {
   "metadata": {},
   "cell_type": "markdown",
   "source": "# Plot training loss graph",
   "id": "cfbe0955486faa07"
  },
  {
   "metadata": {},
   "cell_type": "code",
   "outputs": [],
   "execution_count": null,
   "source": [
    "import matplotlib.pyplot as plt\n",
    "import os\n",
    "\n",
    "\n",
    "# Plot loss vs. step\n",
    "plt.figure(figsize=(8, 6))\n",
    "plt.plot(steps, losses)\n",
    "plt.xlabel('Training Step')\n",
    "plt.ylabel('Loss')\n",
    "plt.title('Training loss per step')\n",
    "\n",
    "# Save the plot\n",
    "# plt.savefig(os.path.join(\"../report_visuals\", \"training_loss_graph.png\"))"
   ],
   "id": "dad83366856a5256"
  },
  {
   "metadata": {},
   "cell_type": "markdown",
   "source": "# Plot training loss + crows + stereoset graph",
   "id": "8032b4bbaf039c4f"
  },
  {
   "metadata": {},
   "cell_type": "code",
   "outputs": [],
   "execution_count": null,
   "source": [
    "import matplotlib.pyplot as plt\n",
    "import os\n",
    "\n",
    "# Plot loss vs step vs stereoset\n",
    "plt.figure(figsize=(8, 6))\n",
    "plt.plot(steps, losses, label='Training Loss')\n",
    "plt.plot(range(100, 1000, 100), stereoset_ss, label='StereoSet SS Score')\n",
    "\n"
   ],
   "id": "f60b2050cd08ff15"
  }
 ],
 "metadata": {
  "kernelspec": {
   "display_name": "Python 3",
   "language": "python",
   "name": "python3"
  },
  "language_info": {
   "codemirror_mode": {
    "name": "ipython",
    "version": 2
   },
   "file_extension": ".py",
   "mimetype": "text/x-python",
   "name": "python",
   "nbconvert_exporter": "python",
   "pygments_lexer": "ipython2",
   "version": "2.7.6"
  }
 },
 "nbformat": 4,
 "nbformat_minor": 5
}
