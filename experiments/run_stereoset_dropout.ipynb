{
 "cells": [
  {
   "cell_type": "code",
   "execution_count": 4,
   "id": "initial_id",
   "metadata": {
    "ExecuteTime": {
     "end_time": "2024-07-13T16:51:02.812124Z",
     "start_time": "2024-07-13T16:51:02.154198Z"
    },
    "collapsed": true
   },
   "outputs": [
    {
     "name": "stdout",
     "output_type": "stream",
     "text": [
      "Sun Jul 14 00:51:02 2024       \r\n",
      "+---------------------------------------------------------------------------------------+\r\n",
      "| NVIDIA-SMI 535.183.01             Driver Version: 535.183.01   CUDA Version: 12.2     |\r\n",
      "|-----------------------------------------+----------------------+----------------------+\r\n",
      "| GPU  Name                 Persistence-M | Bus-Id        Disp.A | Volatile Uncorr. ECC |\r\n",
      "| Fan  Temp   Perf          Pwr:Usage/Cap |         Memory-Usage | GPU-Util  Compute M. |\r\n",
      "|                                         |                      |               MIG M. |\r\n",
      "|=========================================+======================+======================|\r\n",
      "|   0  NVIDIA RTX A6000               Off | 00000000:01:00.0 Off |                  Off |\r\n",
      "| 52%   77C    P2             270W / 300W |  35177MiB / 49140MiB |     99%      Default |\r\n",
      "|                                         |                      |                  N/A |\r\n",
      "+-----------------------------------------+----------------------+----------------------+\r\n",
      "|   1  NVIDIA RTX A6000               Off | 00000000:21:00.0 Off |                  Off |\r\n",
      "| 36%   67C    P2             243W / 300W |  19648MiB / 49140MiB |     77%      Default |\r\n",
      "|                                         |                      |                  N/A |\r\n",
      "+-----------------------------------------+----------------------+----------------------+\r\n",
      "|   2  NVIDIA RTX A6000               Off | 00000000:41:00.0 Off |                  Off |\r\n",
      "| 30%   33C    P8              18W / 300W |  29162MiB / 49140MiB |      0%      Default |\r\n",
      "|                                         |                      |                  N/A |\r\n",
      "+-----------------------------------------+----------------------+----------------------+\r\n",
      "|   3  NVIDIA RTX A6000               Off | 00000000:42:00.0 Off |                  Off |\r\n",
      "| 45%   71C    P2             276W / 300W |  28764MiB / 49140MiB |     85%      Default |\r\n",
      "|                                         |                      |                  N/A |\r\n",
      "+-----------------------------------------+----------------------+----------------------+\r\n",
      "                                                                                         \r\n",
      "+---------------------------------------------------------------------------------------+\r\n",
      "| Processes:                                                                            |\r\n",
      "|  GPU   GI   CI        PID   Type   Process name                            GPU Memory |\r\n",
      "|        ID   ID                                                             Usage      |\r\n",
      "|=======================================================================================|\r\n",
      "|    0   N/A  N/A   3456932      C   /home/vda/.venv/bin/python                  260MiB |\r\n",
      "|    0   N/A  N/A   3471495      C   /home/vda/.venv/bin/python                35816MiB |\r\n",
      "|    1   N/A  N/A   3456932      C   /home/vda/.venv/bin/python                19642MiB |\r\n",
      "|    2   N/A  N/A   3481275      C   /home/vda/.venv/bin/python                29156MiB |\r\n",
      "|    3   N/A  N/A   3439045      C   /home/vda/.venv/bin/python                28758MiB |\r\n",
      "+---------------------------------------------------------------------------------------+\r\n"
     ]
    }
   ],
   "source": [
    "!nvidia-smi"
   ]
  },
  {
   "cell_type": "code",
   "execution_count": 2,
   "id": "34a6282a193e9bda",
   "metadata": {
    "ExecuteTime": {
     "end_time": "2024-07-13T14:37:30.892142Z",
     "start_time": "2024-07-13T14:37:30.885897Z"
    }
   },
   "outputs": [],
   "source": [
    "import os\n",
    "\n",
    "os.environ['CUDA_VISIBLE_DEVICES'] = '2'"
   ]
  },
  {
   "cell_type": "code",
   "execution_count": 4,
   "id": "51e6a4c558c1f392",
   "metadata": {
    "ExecuteTime": {
     "end_time": "2024-07-09T01:10:24.574750Z",
     "start_time": "2024-07-09T00:17:34.669314Z"
    }
   },
   "outputs": [
    {
     "name": "stdout",
     "output_type": "stream",
     "text": [
      "Executing: python stereoset_debias.py --model 'DropoutGPT2LMHeadModel' --model_name_or_path 'gpt2' --load_path '/home/ongzhiyang/bias-bench-main/results/dropout_FT/gpt2/checkpoint-100' --ckpt_num 100 --batch_size 1 --seed 42\n",
      "/home/ongzhiyang/anaconda3/envs/fyp/lib/python3.10/site-packages/scipy/__init__.py:146: UserWarning: A NumPy version >=1.16.5 and <1.23.0 is required for this version of SciPy (detected version 1.26.4\r\n",
      "  warnings.warn(f\"A NumPy version >={np_minversion} and <{np_maxversion}\"\r\n",
      "The token has not been saved to the git credentials helper. Pass `add_to_git_credential=True` in this function directly or `--add-to-git-credential` if using via `huggingface-cli` if you want to set the git credential as well.\r\n",
      "Token is valid (permission: read).\r\n",
      "Your token has been saved to /home/ongzhiyang/.cache/huggingface/token\r\n",
      "Login successful\r\n",
      "Running StereoSet:\r\n",
      " - persistent_dir: /home/ongzhiyang/bias-bench-main\r\n",
      " - model: DropoutGPT2LMHeadModel\r\n",
      " - model_name_or_path: gpt2\r\n",
      " - bias_direction: None\r\n",
      " - projection_matrix: None\r\n",
      " - load_path: /home/ongzhiyang/bias-bench-main/results/dropout_FT/gpt2/checkpoint-100\r\n",
      " - batch_size: 1\r\n",
      " - bias_type: None\r\n",
      " - seed: 42\r\n",
      "Evaluating intrasentence task.\r\n",
      "Unconditional start token: <|endoftext|>\r\n",
      "torch.Size([1, 1, 50257])\r\n",
      "100%|███████████████████████████████████████| 6392/6392 [07:21<00:00, 14.49it/s]\r\n",
      "Executing: python stereoset_debias.py --model 'DropoutGPT2LMHeadModel' --model_name_or_path 'gpt2' --load_path '/home/ongzhiyang/bias-bench-main/results/dropout_FT/gpt2/checkpoint-200' --ckpt_num 200 --batch_size 1 --seed 42\n",
      "/home/ongzhiyang/anaconda3/envs/fyp/lib/python3.10/site-packages/scipy/__init__.py:146: UserWarning: A NumPy version >=1.16.5 and <1.23.0 is required for this version of SciPy (detected version 1.26.4\r\n",
      "  warnings.warn(f\"A NumPy version >={np_minversion} and <{np_maxversion}\"\r\n",
      "The token has not been saved to the git credentials helper. Pass `add_to_git_credential=True` in this function directly or `--add-to-git-credential` if using via `huggingface-cli` if you want to set the git credential as well.\r\n",
      "Token is valid (permission: read).\r\n",
      "Your token has been saved to /home/ongzhiyang/.cache/huggingface/token\r\n",
      "Login successful\r\n",
      "Running StereoSet:\r\n",
      " - persistent_dir: /home/ongzhiyang/bias-bench-main\r\n",
      " - model: DropoutGPT2LMHeadModel\r\n",
      " - model_name_or_path: gpt2\r\n",
      " - bias_direction: None\r\n",
      " - projection_matrix: None\r\n",
      " - load_path: /home/ongzhiyang/bias-bench-main/results/dropout_FT/gpt2/checkpoint-200\r\n",
      " - batch_size: 1\r\n",
      " - bias_type: None\r\n",
      " - seed: 42\r\n",
      "Evaluating intrasentence task.\r\n",
      "Unconditional start token: <|endoftext|>\r\n",
      "torch.Size([1, 1, 50257])\r\n",
      "100%|███████████████████████████████████████| 6392/6392 [07:29<00:00, 14.23it/s]\r\n",
      "Executing: python stereoset_debias.py --model 'DropoutGPT2LMHeadModel' --model_name_or_path 'gpt2' --load_path '/home/ongzhiyang/bias-bench-main/results/dropout_FT/gpt2/checkpoint-300' --ckpt_num 300 --batch_size 1 --seed 42\n",
      "/home/ongzhiyang/anaconda3/envs/fyp/lib/python3.10/site-packages/scipy/__init__.py:146: UserWarning: A NumPy version >=1.16.5 and <1.23.0 is required for this version of SciPy (detected version 1.26.4\r\n",
      "  warnings.warn(f\"A NumPy version >={np_minversion} and <{np_maxversion}\"\r\n",
      "The token has not been saved to the git credentials helper. Pass `add_to_git_credential=True` in this function directly or `--add-to-git-credential` if using via `huggingface-cli` if you want to set the git credential as well.\r\n",
      "Token is valid (permission: read).\r\n",
      "Your token has been saved to /home/ongzhiyang/.cache/huggingface/token\r\n",
      "Login successful\r\n",
      "Running StereoSet:\r\n",
      " - persistent_dir: /home/ongzhiyang/bias-bench-main\r\n",
      " - model: DropoutGPT2LMHeadModel\r\n",
      " - model_name_or_path: gpt2\r\n",
      " - bias_direction: None\r\n",
      " - projection_matrix: None\r\n",
      " - load_path: /home/ongzhiyang/bias-bench-main/results/dropout_FT/gpt2/checkpoint-300\r\n",
      " - batch_size: 1\r\n",
      " - bias_type: None\r\n",
      " - seed: 42\r\n",
      "Evaluating intrasentence task.\r\n",
      "Unconditional start token: <|endoftext|>\r\n",
      "torch.Size([1, 1, 50257])\r\n",
      "100%|███████████████████████████████████████| 6392/6392 [07:21<00:00, 14.48it/s]\r\n",
      "Executing: python stereoset_debias.py --model 'DropoutGPT2LMHeadModel' --model_name_or_path 'gpt2' --load_path '/home/ongzhiyang/bias-bench-main/results/dropout_FT/gpt2/checkpoint-400' --ckpt_num 400 --batch_size 1 --seed 42\n",
      "/home/ongzhiyang/anaconda3/envs/fyp/lib/python3.10/site-packages/scipy/__init__.py:146: UserWarning: A NumPy version >=1.16.5 and <1.23.0 is required for this version of SciPy (detected version 1.26.4\r\n",
      "  warnings.warn(f\"A NumPy version >={np_minversion} and <{np_maxversion}\"\r\n",
      "The token has not been saved to the git credentials helper. Pass `add_to_git_credential=True` in this function directly or `--add-to-git-credential` if using via `huggingface-cli` if you want to set the git credential as well.\r\n",
      "Token is valid (permission: read).\r\n",
      "Your token has been saved to /home/ongzhiyang/.cache/huggingface/token\r\n",
      "Login successful\r\n",
      "Running StereoSet:\r\n",
      " - persistent_dir: /home/ongzhiyang/bias-bench-main\r\n",
      " - model: DropoutGPT2LMHeadModel\r\n",
      " - model_name_or_path: gpt2\r\n",
      " - bias_direction: None\r\n",
      " - projection_matrix: None\r\n",
      " - load_path: /home/ongzhiyang/bias-bench-main/results/dropout_FT/gpt2/checkpoint-400\r\n",
      " - batch_size: 1\r\n",
      " - bias_type: None\r\n",
      " - seed: 42\r\n",
      "Evaluating intrasentence task.\r\n",
      "Unconditional start token: <|endoftext|>\r\n",
      "torch.Size([1, 1, 50257])\r\n",
      "100%|███████████████████████████████████████| 6392/6392 [07:20<00:00, 14.51it/s]\r\n",
      "Executing: python stereoset_debias.py --model 'DropoutGPT2LMHeadModel' --model_name_or_path 'gpt2' --load_path '/home/ongzhiyang/bias-bench-main/results/dropout_FT/gpt2/checkpoint-500' --ckpt_num 500 --batch_size 1 --seed 42\n",
      "/home/ongzhiyang/anaconda3/envs/fyp/lib/python3.10/site-packages/scipy/__init__.py:146: UserWarning: A NumPy version >=1.16.5 and <1.23.0 is required for this version of SciPy (detected version 1.26.4\r\n",
      "  warnings.warn(f\"A NumPy version >={np_minversion} and <{np_maxversion}\"\r\n",
      "The token has not been saved to the git credentials helper. Pass `add_to_git_credential=True` in this function directly or `--add-to-git-credential` if using via `huggingface-cli` if you want to set the git credential as well.\r\n",
      "Token is valid (permission: read).\r\n",
      "Your token has been saved to /home/ongzhiyang/.cache/huggingface/token\r\n",
      "Login successful\r\n",
      "Running StereoSet:\r\n",
      " - persistent_dir: /home/ongzhiyang/bias-bench-main\r\n",
      " - model: DropoutGPT2LMHeadModel\r\n",
      " - model_name_or_path: gpt2\r\n",
      " - bias_direction: None\r\n",
      " - projection_matrix: None\r\n",
      " - load_path: /home/ongzhiyang/bias-bench-main/results/dropout_FT/gpt2/checkpoint-500\r\n",
      " - batch_size: 1\r\n",
      " - bias_type: None\r\n",
      " - seed: 42\r\n",
      "Evaluating intrasentence task.\r\n",
      "Unconditional start token: <|endoftext|>\r\n",
      "torch.Size([1, 1, 50257])\r\n",
      "100%|███████████████████████████████████████| 6392/6392 [07:22<00:00, 14.44it/s]\r\n",
      "Executing: python stereoset_debias.py --model 'DropoutGPT2LMHeadModel' --model_name_or_path 'gpt2' --load_path '/home/ongzhiyang/bias-bench-main/results/dropout_FT/gpt2/checkpoint-600' --ckpt_num 600 --batch_size 1 --seed 42\n",
      "/home/ongzhiyang/anaconda3/envs/fyp/lib/python3.10/site-packages/scipy/__init__.py:146: UserWarning: A NumPy version >=1.16.5 and <1.23.0 is required for this version of SciPy (detected version 1.26.4\r\n",
      "  warnings.warn(f\"A NumPy version >={np_minversion} and <{np_maxversion}\"\r\n",
      "The token has not been saved to the git credentials helper. Pass `add_to_git_credential=True` in this function directly or `--add-to-git-credential` if using via `huggingface-cli` if you want to set the git credential as well.\r\n",
      "Token is valid (permission: read).\r\n",
      "Your token has been saved to /home/ongzhiyang/.cache/huggingface/token\r\n",
      "Login successful\r\n",
      "Running StereoSet:\r\n",
      " - persistent_dir: /home/ongzhiyang/bias-bench-main\r\n",
      " - model: DropoutGPT2LMHeadModel\r\n",
      " - model_name_or_path: gpt2\r\n",
      " - bias_direction: None\r\n",
      " - projection_matrix: None\r\n",
      " - load_path: /home/ongzhiyang/bias-bench-main/results/dropout_FT/gpt2/checkpoint-600\r\n",
      " - batch_size: 1\r\n",
      " - bias_type: None\r\n",
      " - seed: 42\r\n",
      "Evaluating intrasentence task.\r\n",
      "Unconditional start token: <|endoftext|>\r\n",
      "torch.Size([1, 1, 50257])\r\n",
      "100%|███████████████████████████████████████| 6392/6392 [07:10<00:00, 14.85it/s]\r\n",
      "Executing: python stereoset_debias.py --model 'DropoutGPT2LMHeadModel' --model_name_or_path 'gpt2' --load_path '/home/ongzhiyang/bias-bench-main/results/dropout_FT/gpt2/checkpoint-700' --ckpt_num 700 --batch_size 1 --seed 42\n",
      "/home/ongzhiyang/anaconda3/envs/fyp/lib/python3.10/site-packages/scipy/__init__.py:146: UserWarning: A NumPy version >=1.16.5 and <1.23.0 is required for this version of SciPy (detected version 1.26.4\r\n",
      "  warnings.warn(f\"A NumPy version >={np_minversion} and <{np_maxversion}\"\r\n",
      "The token has not been saved to the git credentials helper. Pass `add_to_git_credential=True` in this function directly or `--add-to-git-credential` if using via `huggingface-cli` if you want to set the git credential as well.\r\n",
      "Token is valid (permission: read).\r\n",
      "Your token has been saved to /home/ongzhiyang/.cache/huggingface/token\r\n",
      "Login successful\r\n",
      "Running StereoSet:\r\n",
      " - persistent_dir: /home/ongzhiyang/bias-bench-main\r\n",
      " - model: DropoutGPT2LMHeadModel\r\n",
      " - model_name_or_path: gpt2\r\n",
      " - bias_direction: None\r\n",
      " - projection_matrix: None\r\n",
      " - load_path: /home/ongzhiyang/bias-bench-main/results/dropout_FT/gpt2/checkpoint-700\r\n",
      " - batch_size: 1\r\n",
      " - bias_type: None\r\n",
      " - seed: 42\r\n",
      "Evaluating intrasentence task.\r\n",
      "Unconditional start token: <|endoftext|>\r\n",
      "torch.Size([1, 1, 50257])\r\n",
      "100%|███████████████████████████████████████| 6392/6392 [07:08<00:00, 14.91it/s]\r\n"
     ]
    }
   ],
   "source": [
    "# for ckpt_num in range(100, 2001, 100):\n",
    "for ckpt_num in range(100, 2001, 100):\n",
    "    command = f\"python stereoset_debias.py --model 'DropoutGPT2LMHeadModel' --model_name_or_path 'gpt2' --load_path '/home/ongzhiyang/bias-bench-main/results/dropout_FT/gpt2/checkpoint-{ckpt_num}' --ckpt_num {ckpt_num} --batch_size 1 --seed 42\"\n",
    "    print(f\"Executing: {command}\")\n",
    "    get_ipython().system(command)"
   ]
  },
  {
   "cell_type": "code",
   "execution_count": null,
   "id": "d05ce7e3f026c729",
   "metadata": {},
   "outputs": [
    {
     "name": "stdout",
     "output_type": "stream",
     "text": [
      " 80%|███████████████████████████████        | 5090/6392 [22:26<05:48,  3.73it/s]"
     ]
    }
   ],
   "source": [
    "# for ckpt_num in range(100, 2001, 100):\n",
    "for ckpt_num in range(100, 1001, 100):\n",
    "    command = f\"python stereoset_debias.py --model 'DropoutPhi2LMHeadModel' --model_name_or_path 'microsoft/phi-2' --load_path '/home/ongzhiyang/bias-bench-main/results/dropout_FT/phi2/checkpoint-{ckpt_num}' --ckpt_num {ckpt_num} --batch_size 1 --seed 42\"\n",
    "    print(f\"Executing: {command}\")\n",
    "    get_ipython().system(command)"
   ]
  },
  {
   "cell_type": "code",
   "execution_count": 3,
   "id": "b5c3e6200c238659",
   "metadata": {
    "ExecuteTime": {
     "end_time": "2024-07-13T15:11:08.379970Z",
     "start_time": "2024-07-13T14:37:33.745082Z"
    }
   },
   "outputs": [
    {
     "name": "stdout",
     "output_type": "stream",
     "text": [
      "Executing: python stereoset_debias.py --model 'DropoutLlama2LMHeadModel' --model_name_or_path 'meta-llama/Llama-2-7b-hf' --load_path '/home/ongzhiyang/bias-bench-main/results/dropout_FT/llama2/checkpoint-2000' --ckpt_num 2000 --batch_size 1 --seed 42\n",
      "/home/ongzhiyang/anaconda3/envs/fyp/lib/python3.10/site-packages/scipy/__init__.py:146: UserWarning: A NumPy version >=1.16.5 and <1.23.0 is required for this version of SciPy (detected version 1.26.4\r\n",
      "  warnings.warn(f\"A NumPy version >={np_minversion} and <{np_maxversion}\"\r\n",
      "The token has not been saved to the git credentials helper. Pass `add_to_git_credential=True` in this function directly or `--add-to-git-credential` if using via `huggingface-cli` if you want to set the git credential as well.\r\n",
      "Token is valid (permission: read).\r\n",
      "Your token has been saved to /home/ongzhiyang/.cache/huggingface/token\r\n",
      "Login successful\r\n",
      "Running StereoSet:\r\n",
      " - persistent_dir: /home/ongzhiyang/bias-bench-main\r\n",
      " - model: DropoutLlama2LMHeadModel\r\n",
      " - model_name_or_path: meta-llama/Llama-2-7b-hf\r\n",
      " - bias_direction: None\r\n",
      " - projection_matrix: None\r\n",
      " - load_path: /home/ongzhiyang/bias-bench-main/results/dropout_FT/llama2/checkpoint-2000\r\n",
      " - batch_size: 1\r\n",
      " - bias_type: None\r\n",
      " - seed: 42\r\n",
      "Loading checkpoint shards: 100%|██████████████████| 2/2 [00:11<00:00,  5.63s/it]\r\n",
      "Evaluating intrasentence task.\r\n",
      "Unconditional start token: <s>\r\n",
      "We detected that you are passing `past_key_values` as a tuple and this is deprecated and will be removed in v4.43. Please use an appropriate `Cache` class (https://huggingface.co/docs/transformers/v4.41.3/en/internal/generation_utils#transformers.Cache)\r\n",
      "torch.Size([1, 1, 32000])\r\n",
      "100%|███████████████████████████████████████| 6392/6392 [33:09<00:00,  3.21it/s]\r\n"
     ]
    }
   ],
   "source": [
    "for ckpt_num in range(2000, 2001, 100):\n",
    "    command = f\"python stereoset_debias.py --model 'DropoutLlama2LMHeadModel' --model_name_or_path 'meta-llama/Llama-2-7b-hf' --load_path '/home/ongzhiyang/bias-bench-main/results/dropout_FT/llama2/checkpoint-{ckpt_num}' --ckpt_num {ckpt_num} --batch_size 1 --seed 42\"\n",
    "    print(f\"Executing: {command}\")\n",
    "    get_ipython().system(command)"
   ]
  },
  {
   "cell_type": "code",
   "execution_count": null,
   "id": "ce08e857c6fd6081",
   "metadata": {},
   "outputs": [],
   "source": []
  }
 ],
 "metadata": {
  "kernelspec": {
   "display_name": "Python [conda env:fyp] *",
   "language": "python",
   "name": "conda-env-fyp-py"
  },
  "language_info": {
   "codemirror_mode": {
    "name": "ipython",
    "version": 2
   },
   "file_extension": ".py",
   "mimetype": "text/x-python",
   "name": "python",
   "nbconvert_exporter": "python",
   "pygments_lexer": "ipython2",
   "version": "2.7.6"
  }
 },
 "nbformat": 4,
 "nbformat_minor": 5
}
