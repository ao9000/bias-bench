{
 "cells": [
  {
   "cell_type": "markdown",
   "id": "d209882a224531b4",
   "metadata": {},
   "source": [
    "# Only first time running"
   ]
  },
  {
   "cell_type": "code",
   "execution_count": 4,
   "id": "eb3757b5b6770bbb",
   "metadata": {
    "ExecuteTime": {
     "end_time": "2024-06-17T08:35:31.642046Z",
     "start_time": "2024-06-17T08:35:28.209395Z"
    }
   },
   "outputs": [
    {
     "name": "stderr",
     "output_type": "stream",
     "text": [
      "/home/FYP/on0008an/.conda/envs/RunJupyter/lib/python3.10/site-packages/scipy/__init__.py:146: UserWarning: A NumPy version >=1.16.5 and <1.23.0 is required for this version of SciPy (detected version 1.26.4\n",
      "  warnings.warn(f\"A NumPy version >={np_minversion} and <{np_maxversion}\"\n",
      "[nltk_data] Downloading package punkt to\n",
      "[nltk_data]     /home/FYP/on0008an/nltk_data...\n",
      "[nltk_data]   Unzipping tokenizers/punkt.zip.\n"
     ]
    },
    {
     "data": {
      "text/plain": [
       "True"
      ]
     },
     "execution_count": 4,
     "metadata": {},
     "output_type": "execute_result"
    }
   ],
   "source": [
    "# First time running\n",
    "import nltk\n",
    "nltk.download('punkt')"
   ]
  },
  {
   "cell_type": "markdown",
   "id": "2a435cec6f40af3d",
   "metadata": {},
   "source": [
    "# Calculate bias subspace"
   ]
  },
  {
   "cell_type": "code",
   "execution_count": 1,
   "id": "597f16373642e5e7",
   "metadata": {
    "ExecuteTime": {
     "end_time": "2024-06-17T15:40:15.770980Z",
     "start_time": "2024-06-17T15:17:23.992107Z"
    }
   },
   "outputs": [
    {
     "name": "stdout",
     "output_type": "stream",
     "text": [
      "Executing: python sentence_debias_subspace.py --model 'GPT2Model' --model_name_or_path 'gpt2' --persistent_dir '/home/FYP/on0008an/bias-bench-main' --batch_size 4 --bias_type 'religion'\n",
      "/home/FYP/on0008an/.conda/envs/RunJupyter/lib/python3.10/site-packages/scipy/__init__.py:146: UserWarning: A NumPy version >=1.16.5 and <1.23.0 is required for this version of SciPy (detected version 1.26.4\r\n",
      "  warnings.warn(f\"A NumPy version >={np_minversion} and <{np_maxversion}\"\r\n",
      "The token has not been saved to the git credentials helper. Pass `add_to_git_credential=True` in this function directly or `--add-to-git-credential` if using via `huggingface-cli` if you want to set the git credential as well.\r\n",
      "Token is valid (permission: read).\r\n",
      "Your token has been saved to /home/FYP/on0008an/.cache/huggingface/token\r\n",
      "Login successful\r\n",
      "Computing bias subspace:\r\n",
      " - persistent_dir: /home/FYP/on0008an/bias-bench-main\r\n",
      " - model_name_or_path: gpt2\r\n",
      " - model: GPT2Model\r\n",
      " - bias_type: religion\r\n",
      " - batch_size: 4\r\n",
      "Encoding religion examples: 100%|███████████| 9883/9883 [06:16<00:00, 26.22it/s]\r\n",
      "Saving computed PCA components to: /home/FYP/on0008an/bias-bench-main/results/subspace/subspace_m-GPT2Model_c-gpt2_t-religion.pt.\r\n",
      "Executing: python sentence_debias_subspace.py --model 'GPT2Model' --model_name_or_path 'gpt2' --persistent_dir '/home/FYP/on0008an/bias-bench-main' --batch_size 4 --bias_type 'race'\n",
      "/home/FYP/on0008an/.conda/envs/RunJupyter/lib/python3.10/site-packages/scipy/__init__.py:146: UserWarning: A NumPy version >=1.16.5 and <1.23.0 is required for this version of SciPy (detected version 1.26.4\r\n",
      "  warnings.warn(f\"A NumPy version >={np_minversion} and <{np_maxversion}\"\r\n",
      "The token has not been saved to the git credentials helper. Pass `add_to_git_credential=True` in this function directly or `--add-to-git-credential` if using via `huggingface-cli` if you want to set the git credential as well.\r\n",
      "Token is valid (permission: read).\r\n",
      "Your token has been saved to /home/FYP/on0008an/.cache/huggingface/token\r\n",
      "Login successful\r\n",
      "Computing bias subspace:\r\n",
      " - persistent_dir: /home/FYP/on0008an/bias-bench-main\r\n",
      " - model_name_or_path: gpt2\r\n",
      " - model: GPT2Model\r\n",
      " - bias_type: race\r\n",
      " - batch_size: 4\r\n",
      "Encoding race examples: 100%|█████████████| 20975/20975 [13:19<00:00, 26.25it/s]\r\n",
      "Saving computed PCA components to: /home/FYP/on0008an/bias-bench-main/results/subspace/subspace_m-GPT2Model_c-gpt2_t-race.pt.\r\n"
     ]
    }
   ],
   "source": [
    "bias_types = [\n",
    "    \"gender\", \n",
    "    \"religion\", \n",
    "    \"race\"\n",
    "]\n",
    "\n",
    "for bias in bias_types:\n",
    "    command = f\"python sentence_debias_subspace.py --model 'GPT2Model' --model_name_or_path 'gpt2' --persistent_dir '/home/FYP/on0008an/bias-bench-main' --batch_size 4 --bias_type '{bias}'\"\n",
    "    print(f\"Executing: {command}\")\n",
    "    get_ipython().system(command)"
   ]
  },
  {
   "cell_type": "code",
   "execution_count": null,
   "id": "1451a5c33624ede2",
   "metadata": {
    "ExecuteTime": {
     "start_time": "2024-06-18T07:27:26.242718Z"
    }
   },
   "outputs": [
    {
     "name": "stdout",
     "output_type": "stream",
     "text": [
      "Executing: python sentence_debias_subspace.py --model 'PhiForCausalLM_Quantized' --model_name_or_path 'microsoft/phi-2' --persistent_dir '/home/FYP/on0008an/bias-bench-main' --batch_size 4 --bias_type 'religion'\n",
      "/home/FYP/on0008an/.conda/envs/RunJupyter/lib/python3.10/site-packages/scipy/__init__.py:146: UserWarning: A NumPy version >=1.16.5 and <1.23.0 is required for this version of SciPy (detected version 1.26.4\r\n",
      "  warnings.warn(f\"A NumPy version >={np_minversion} and <{np_maxversion}\"\r\n",
      "The token has not been saved to the git credentials helper. Pass `add_to_git_credential=True` in this function directly or `--add-to-git-credential` if using via `huggingface-cli` if you want to set the git credential as well.\r\n",
      "Token is valid (permission: read).\r\n",
      "Your token has been saved to /home/FYP/on0008an/.cache/huggingface/token\r\n",
      "Login successful\r\n",
      "Computing bias subspace:\r\n",
      " - persistent_dir: /home/FYP/on0008an/bias-bench-main\r\n",
      " - model_name_or_path: microsoft/phi-2\r\n",
      " - model: PhiForCausalLM_Quantized\r\n",
      " - bias_type: religion\r\n",
      " - batch_size: 4\r\n",
      "Loading checkpoint shards: 100%|██████████████████| 2/2 [00:03<00:00,  1.57s/it]\r\n",
      "Special tokens have been added in the vocabulary, make sure the associated word embeddings are fine-tuned or trained.\r\n",
      "Pad token: <|endoftext|>\r\n",
      "Encoding religion examples:   1%|          | 104/9883 [01:38<2:32:49,  1.07it/s]^C\r\n",
      "Encoding religion examples:   1%|          | 104/9883 [01:38<2:34:44,  1.05it/s]\r\n",
      "Traceback (most recent call last):\r\n",
      "  File \"/home/FYP/on0008an/bias-bench-main/experiments/sentence_debias_subspace.py\", line 129, in <module>\r\n",
      "    bias_direction = compute_religion_subspace(\r\n",
      "  File \"/home/FYP/on0008an/bias-bench-main/bias_bench/debias/sentence_debias.py\", line 327, in compute_religion_subspace\r\n",
      "    embedding_r3 = model(\r\n",
      "  File \"/home/FYP/on0008an/.conda/envs/RunJupyter/lib/python3.10/site-packages/torch/nn/modules/module.py\", line 1532, in _wrapped_call_impl\r\n",
      "    return self._call_impl(*args, **kwargs)\r\n",
      "  File \"/home/FYP/on0008an/.conda/envs/RunJupyter/lib/python3.10/site-packages/torch/nn/modules/module.py\", line 1541, in _call_impl\r\n",
      "    return forward_call(*args, **kwargs)\r\n",
      "  File \"/home/FYP/on0008an/.conda/envs/RunJupyter/lib/python3.10/site-packages/accelerate/hooks.py\", line 166, in new_forward\r\n",
      "    output = module._old_forward(*args, **kwargs)\r\n",
      "  File \"/home/FYP/on0008an/.conda/envs/RunJupyter/lib/python3.10/site-packages/transformers/models/phi/modeling_phi.py\", line 1166, in forward\r\n",
      "    outputs = self.model(\r\n",
      "  File \"/home/FYP/on0008an/.conda/envs/RunJupyter/lib/python3.10/site-packages/torch/nn/modules/module.py\", line 1532, in _wrapped_call_impl\r\n",
      "    return self._call_impl(*args, **kwargs)\r\n",
      "  File \"/home/FYP/on0008an/.conda/envs/RunJupyter/lib/python3.10/site-packages/torch/nn/modules/module.py\", line 1541, in _call_impl\r\n",
      "    return forward_call(*args, **kwargs)\r\n",
      "  File \"/home/FYP/on0008an/.conda/envs/RunJupyter/lib/python3.10/site-packages/accelerate/hooks.py\", line 166, in new_forward\r\n",
      "    output = module._old_forward(*args, **kwargs)\r\n",
      "  File \"/home/FYP/on0008an/.conda/envs/RunJupyter/lib/python3.10/site-packages/transformers/models/phi/modeling_phi.py\", line 1012, in forward\r\n",
      "    attention_mask = _prepare_4d_causal_attention_mask_for_sdpa(\r\n",
      "  File \"/home/FYP/on0008an/.conda/envs/RunJupyter/lib/python3.10/site-packages/transformers/modeling_attn_mask_utils.py\", line 372, in _prepare_4d_causal_attention_mask_for_sdpa\r\n",
      "    ignore_causal_mask = AttentionMaskConverter._ignore_causal_mask_sdpa(\r\n",
      "  File \"/home/FYP/on0008an/.conda/envs/RunJupyter/lib/python3.10/site-packages/transformers/modeling_attn_mask_utils.py\", line 279, in _ignore_causal_mask_sdpa\r\n",
      "    elif (is_training or not is_tracing) and torch.all(attention_mask == 1):\r\n",
      "KeyboardInterrupt\r\n"
     ]
    }
   ],
   "source": [
    "bias_types = [\n",
    "    #\"gender\", \n",
    "    # \"religion\",\n",
    "    \"race\"\n",
    "]\n",
    "\n",
    "for bias in bias_types:\n",
    "    command = f\"python sentence_debias_subspace.py --model 'PhiForCausalLM_Quantized' --model_name_or_path 'microsoft/phi-2' --persistent_dir '/home/FYP/on0008an/bias-bench-main' --batch_size 4 --bias_type '{bias}'\"\n",
    "    print(f\"Executing: {command}\")\n",
    "    get_ipython().system(command)"
   ]
  },
  {
   "cell_type": "code",
   "execution_count": null,
   "id": "b91b9c360526cf8",
   "metadata": {},
   "outputs": [],
   "source": [
    "bias_types = [\n",
    "    # \"gender\", \n",
    "    \"religion\", \n",
    "    \"race\"\n",
    "]\n",
    "\n",
    "for bias in bias_types:\n",
    "    command = f\"python sentence_debias_subspace.py --model 'LlamaForCausalLM_NonBFloat16' --model_name_or_path 'meta-llama/Llama-2-7b-hf' --persistent_dir '/home/FYP/on0008an/bias-bench-main' --batch_size 4 --bias_type '{bias}'\"\n",
    "    print(f\"Executing: {command}\")\n",
    "    get_ipython().system(command)"
   ]
  },
  {
   "cell_type": "code",
   "execution_count": null,
   "id": "feb7b8688ec54a36",
   "metadata": {},
   "outputs": [],
   "source": []
  }
 ],
 "metadata": {
  "kernelspec": {
   "display_name": "Python 3",
   "language": "python",
   "name": "python3"
  },
  "language_info": {
   "codemirror_mode": {
    "name": "ipython",
    "version": 2
   },
   "file_extension": ".py",
   "mimetype": "text/x-python",
   "name": "python",
   "nbconvert_exporter": "python",
   "pygments_lexer": "ipython2",
   "version": "2.7.6"
  }
 },
 "nbformat": 4,
 "nbformat_minor": 5
}
