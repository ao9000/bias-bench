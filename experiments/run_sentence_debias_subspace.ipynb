{
 "cells": [
  {
   "cell_type": "markdown",
   "id": "d209882a224531b4",
   "metadata": {},
   "source": [
    "# Only first time running"
   ]
  },
  {
   "cell_type": "code",
   "execution_count": null,
   "id": "eb3757b5b6770bbb",
   "metadata": {},
   "outputs": [],
   "source": [
    "# First time running\n",
    "import nltk\n",
    "nltk.download('punkt')"
   ]
  },
  {
   "cell_type": "markdown",
   "id": "8fdc6c5a0054751f",
   "metadata": {},
   "source": [
    "# Generate sample of the dataset, too long to run on full dataset"
   ]
  },
  {
   "cell_type": "code",
   "execution_count": 1,
   "id": "9f11c2ae5b24aec4",
   "metadata": {
    "ExecuteTime": {
     "end_time": "2024-06-18T12:18:44.191262Z",
     "start_time": "2024-06-18T12:18:41.835776Z"
    }
   },
   "outputs": [],
   "source": [
    "import random\n",
    "random.seed(42) # Set a random seed for reproducibility\n",
    "\n",
    "dataset_path = \"/home/FYP/on0008an/bias-bench-main/data/wikipedia-2.5.txt\"\n",
    "sampling_ratio = 0.25\n",
    "sampled_dataset_path = \"/home/FYP/on0008an/bias-bench-main/data/wikipedia-2.5_sample.txt\"\n",
    "\n",
    "# Read\n",
    "with open(dataset_path, \"r\") as f:\n",
    "    lines = f.readlines()\n",
    "\n",
    "sampled_lines = random.sample(lines, int(len(lines) * sampling_ratio))\n",
    "\n",
    "# Write sampled dataset\n",
    "with open(sampled_dataset_path, \"w\") as f:\n",
    "    f.writelines(sampled_lines)"
   ]
  },
  {
   "cell_type": "markdown",
   "id": "c785218b87a8fe2b",
   "metadata": {},
   "source": [
    "# Dataset sampling stats for seed=42, sampling_ratio=0.25\n",
    "\n",
    "- Gender examples:  68,299\n",
    "- Religion examples:  x\n",
    "- Race-color: 5168"
   ]
  },
  {
   "cell_type": "markdown",
   "id": "2a435cec6f40af3d",
   "metadata": {},
   "source": [
    "# Calculate bias subspace"
   ]
  },
  {
   "cell_type": "code",
   "execution_count": 1,
   "id": "597f16373642e5e7",
   "metadata": {
    "ExecuteTime": {
     "end_time": "2024-06-19T12:20:22.714608Z",
     "start_time": "2024-06-19T12:16:32.859107Z"
    }
   },
   "outputs": [
    {
     "name": "stdout",
     "output_type": "stream",
     "text": [
      "Executing: python sentence_debias_subspace.py --model 'GPT2Model' --model_name_or_path 'gpt2' --persistent_dir '/home/FYP/on0008an/bias-bench-main' --batch_size 4 --bias_type 'gender' --sample\n",
      "/home/FYP/on0008an/.conda/envs/RunJupyter/lib/python3.10/site-packages/scipy/__init__.py:146: UserWarning: A NumPy version >=1.16.5 and <1.23.0 is required for this version of SciPy (detected version 1.26.4\r\n",
      "  warnings.warn(f\"A NumPy version >={np_minversion} and <{np_maxversion}\"\r\n",
      "The token has not been saved to the git credentials helper. Pass `add_to_git_credential=True` in this function directly or `--add-to-git-credential` if using via `huggingface-cli` if you want to set the git credential as well.\r\n",
      "Token is valid (permission: read).\r\n",
      "Your token has been saved to /home/FYP/on0008an/.cache/huggingface/token\r\n",
      "Login successful\r\n",
      "Computing bias subspace:\r\n",
      " - persistent_dir: /home/FYP/on0008an/bias-bench-main\r\n",
      " - model_name_or_path: gpt2\r\n",
      " - model: GPT2Model\r\n",
      " - bias_type: gender\r\n",
      " - batch_size: 4\r\n",
      "Using sampled dataset.\r\n",
      "Loading dataset: /home/FYP/on0008an/bias-bench-main/data//wikipedia-2.5_tiny.txt\r\n",
      "Pad token: <|endoftext|>                                                        \r\n",
      "Starting from scratch\r\n",
      "Encoding gender examples: 100%|█████████████| 6079/6079 [02:37<00:00, 38.68it/s]\r\n",
      "Saving computed PCA components to: /home/FYP/on0008an/bias-bench-main/results/subspace/subspace_m-GPT2Model_c-gpt2_t-gender.pt.\r\n",
      "Executing: python sentence_debias_subspace.py --model 'GPT2Model' --model_name_or_path 'gpt2' --persistent_dir '/home/FYP/on0008an/bias-bench-main' --batch_size 4 --bias_type 'religion' --sample\n",
      "/home/FYP/on0008an/.conda/envs/RunJupyter/lib/python3.10/site-packages/scipy/__init__.py:146: UserWarning: A NumPy version >=1.16.5 and <1.23.0 is required for this version of SciPy (detected version 1.26.4\r\n",
      "  warnings.warn(f\"A NumPy version >={np_minversion} and <{np_maxversion}\"\r\n",
      "The token has not been saved to the git credentials helper. Pass `add_to_git_credential=True` in this function directly or `--add-to-git-credential` if using via `huggingface-cli` if you want to set the git credential as well.\r\n",
      "Token is valid (permission: read).\r\n",
      "Your token has been saved to /home/FYP/on0008an/.cache/huggingface/token\r\n",
      "Login successful\r\n",
      "Computing bias subspace:\r\n",
      " - persistent_dir: /home/FYP/on0008an/bias-bench-main\r\n",
      " - model_name_or_path: gpt2\r\n",
      " - model: GPT2Model\r\n",
      " - bias_type: religion\r\n",
      " - batch_size: 4\r\n",
      "Using sampled dataset.\r\n",
      "Loading dataset: /home/FYP/on0008an/bias-bench-main/data//wikipedia-2.5_tiny.txt\r\n",
      "Pad token: <|endoftext|>                                                        \r\n",
      "Starting from scratch\r\n",
      "Encoding religion examples: 100%|█████████████| 189/189 [00:07<00:00, 23.85it/s]\r\n",
      "Saving computed PCA components to: /home/FYP/on0008an/bias-bench-main/results/subspace/subspace_m-GPT2Model_c-gpt2_t-religion.pt.\r\n",
      "Executing: python sentence_debias_subspace.py --model 'GPT2Model' --model_name_or_path 'gpt2' --persistent_dir '/home/FYP/on0008an/bias-bench-main' --batch_size 4 --bias_type 'race-color' --sample\n",
      "/home/FYP/on0008an/.conda/envs/RunJupyter/lib/python3.10/site-packages/scipy/__init__.py:146: UserWarning: A NumPy version >=1.16.5 and <1.23.0 is required for this version of SciPy (detected version 1.26.4\r\n",
      "  warnings.warn(f\"A NumPy version >={np_minversion} and <{np_maxversion}\"\r\n",
      "The token has not been saved to the git credentials helper. Pass `add_to_git_credential=True` in this function directly or `--add-to-git-credential` if using via `huggingface-cli` if you want to set the git credential as well.\r\n",
      "Token is valid (permission: read).\r\n",
      "Your token has been saved to /home/FYP/on0008an/.cache/huggingface/token\r\n",
      "Login successful\r\n",
      "Computing bias subspace:\r\n",
      " - persistent_dir: /home/FYP/on0008an/bias-bench-main\r\n",
      " - model_name_or_path: gpt2\r\n",
      " - model: GPT2Model\r\n",
      " - bias_type: race-color\r\n",
      " - batch_size: 4\r\n",
      "Using sampled dataset.\r\n",
      "Loading dataset: /home/FYP/on0008an/bias-bench-main/data//wikipedia-2.5_tiny.txt\r\n",
      "Pad token: <|endoftext|>                                                        \r\n",
      "Starting from scratch\r\n",
      "Encoding race examples: 100%|█████████████████| 535/535 [00:21<00:00, 25.36it/s]\r\n",
      "Saving computed PCA components to: /home/FYP/on0008an/bias-bench-main/results/subspace/subspace_m-GPT2Model_c-gpt2_t-race-color.pt.\r\n"
     ]
    }
   ],
   "source": [
    "bias_types = [\n",
    "    \"gender\", \n",
    "    \"religion\", \n",
    "    \"race-color\"\n",
    "]\n",
    "\n",
    "for bias in bias_types:\n",
    "    command = f\"python sentence_debias_subspace.py --model 'GPT2Model' --model_name_or_path 'gpt2' --persistent_dir '/home/FYP/on0008an/bias-bench-main' --batch_size 4 --bias_type '{bias}' --sample\"\n",
    "    print(f\"Executing: {command}\")\n",
    "    get_ipython().system(command)"
   ]
  },
  {
   "cell_type": "code",
   "execution_count": 2,
   "id": "1451a5c33624ede2",
   "metadata": {
    "ExecuteTime": {
     "end_time": "2024-06-19T15:33:31.518127Z",
     "start_time": "2024-06-19T14:37:42.175735Z"
    }
   },
   "outputs": [
    {
     "name": "stdout",
     "output_type": "stream",
     "text": [
      "Executing: python sentence_debias_subspace.py --model 'PhiForCausalLM_NonBFloat16' --model_name_or_path 'microsoft/phi-2' --persistent_dir '/home/FYP/on0008an/bias-bench-main' --batch_size 4 --bias_type 'gender' --sample\n",
      "/home/FYP/on0008an/.conda/envs/RunJupyter/lib/python3.10/site-packages/scipy/__init__.py:146: UserWarning: A NumPy version >=1.16.5 and <1.23.0 is required for this version of SciPy (detected version 1.26.4\r\n",
      "  warnings.warn(f\"A NumPy version >={np_minversion} and <{np_maxversion}\"\r\n",
      "The token has not been saved to the git credentials helper. Pass `add_to_git_credential=True` in this function directly or `--add-to-git-credential` if using via `huggingface-cli` if you want to set the git credential as well.\r\n",
      "Token is valid (permission: read).\r\n",
      "Your token has been saved to /home/FYP/on0008an/.cache/huggingface/token\r\n",
      "Login successful\r\n",
      "Computing bias subspace:\r\n",
      " - persistent_dir: /home/FYP/on0008an/bias-bench-main\r\n",
      " - model_name_or_path: microsoft/phi-2\r\n",
      " - model: PhiForCausalLM_NonBFloat16\r\n",
      " - bias_type: gender\r\n",
      " - batch_size: 4\r\n",
      "Using sampled dataset.\r\n",
      "Loading dataset: /home/FYP/on0008an/bias-bench-main/data//wikipedia-2.5_tiny.txt\r\n",
      "Loading checkpoint shards: 100%|██████████████████| 2/2 [00:07<00:00,  3.72s/it]\r\n",
      "Special tokens have been added in the vocabulary, make sure the associated word embeddings are fine-tuned or trained.\r\n",
      "Pad token: <|endoftext|>\r\n",
      "Starting from scratch\r\n",
      "Encoding gender examples: 100%|█████████████| 6079/6079 [46:03<00:00,  2.20it/s]\r\n",
      "Saving computed PCA components to: /home/FYP/on0008an/bias-bench-main/results/subspace/subspace_m-PhiForCausalLM_NonBFloat16_c-microsoft/phi-2_t-gender.pt.\r\n",
      "Executing: python sentence_debias_subspace.py --model 'PhiForCausalLM_NonBFloat16' --model_name_or_path 'microsoft/phi-2' --persistent_dir '/home/FYP/on0008an/bias-bench-main' --batch_size 4 --bias_type 'religion' --sample\n",
      "/home/FYP/on0008an/.conda/envs/RunJupyter/lib/python3.10/site-packages/scipy/__init__.py:146: UserWarning: A NumPy version >=1.16.5 and <1.23.0 is required for this version of SciPy (detected version 1.26.4\r\n",
      "  warnings.warn(f\"A NumPy version >={np_minversion} and <{np_maxversion}\"\r\n",
      "The token has not been saved to the git credentials helper. Pass `add_to_git_credential=True` in this function directly or `--add-to-git-credential` if using via `huggingface-cli` if you want to set the git credential as well.\r\n",
      "Token is valid (permission: read).\r\n",
      "Your token has been saved to /home/FYP/on0008an/.cache/huggingface/token\r\n",
      "Login successful\r\n",
      "Computing bias subspace:\r\n",
      " - persistent_dir: /home/FYP/on0008an/bias-bench-main\r\n",
      " - model_name_or_path: microsoft/phi-2\r\n",
      " - model: PhiForCausalLM_NonBFloat16\r\n",
      " - bias_type: religion\r\n",
      " - batch_size: 4\r\n",
      "Using sampled dataset.\r\n",
      "Loading dataset: /home/FYP/on0008an/bias-bench-main/data//wikipedia-2.5_tiny.txt\r\n",
      "Loading checkpoint shards: 100%|██████████████████| 2/2 [00:07<00:00,  3.62s/it]\r\n",
      "Special tokens have been added in the vocabulary, make sure the associated word embeddings are fine-tuned or trained.\r\n",
      "Pad token: <|endoftext|>\r\n",
      "Starting from scratch\r\n",
      "Encoding religion examples: 100%|█████████████| 189/189 [02:09<00:00,  1.46it/s]\r\n",
      "Saving computed PCA components to: /home/FYP/on0008an/bias-bench-main/results/subspace/subspace_m-PhiForCausalLM_NonBFloat16_c-microsoft/phi-2_t-religion.pt.\r\n",
      "Executing: python sentence_debias_subspace.py --model 'PhiForCausalLM_NonBFloat16' --model_name_or_path 'microsoft/phi-2' --persistent_dir '/home/FYP/on0008an/bias-bench-main' --batch_size 4 --bias_type 'race-color' --sample\n",
      "/home/FYP/on0008an/.conda/envs/RunJupyter/lib/python3.10/site-packages/scipy/__init__.py:146: UserWarning: A NumPy version >=1.16.5 and <1.23.0 is required for this version of SciPy (detected version 1.26.4\r\n",
      "  warnings.warn(f\"A NumPy version >={np_minversion} and <{np_maxversion}\"\r\n",
      "The token has not been saved to the git credentials helper. Pass `add_to_git_credential=True` in this function directly or `--add-to-git-credential` if using via `huggingface-cli` if you want to set the git credential as well.\r\n",
      "Token is valid (permission: read).\r\n",
      "Your token has been saved to /home/FYP/on0008an/.cache/huggingface/token\r\n",
      "Login successful\r\n",
      "Computing bias subspace:\r\n",
      " - persistent_dir: /home/FYP/on0008an/bias-bench-main\r\n",
      " - model_name_or_path: microsoft/phi-2\r\n",
      " - model: PhiForCausalLM_NonBFloat16\r\n",
      " - bias_type: race-color\r\n",
      " - batch_size: 4\r\n",
      "Using sampled dataset.\r\n",
      "Loading dataset: /home/FYP/on0008an/bias-bench-main/data//wikipedia-2.5_tiny.txt\r\n",
      "Loading checkpoint shards: 100%|██████████████████| 2/2 [00:07<00:00,  3.62s/it]\r\n",
      "Special tokens have been added in the vocabulary, make sure the associated word embeddings are fine-tuned or trained.\r\n",
      "Pad token: <|endoftext|>\r\n",
      "Starting from scratch\r\n",
      "Encoding race examples: 100%|█████████████████| 535/535 [06:06<00:00,  1.46it/s]\r\n",
      "Saving computed PCA components to: /home/FYP/on0008an/bias-bench-main/results/subspace/subspace_m-PhiForCausalLM_NonBFloat16_c-microsoft/phi-2_t-race-color.pt.\r\n"
     ]
    }
   ],
   "source": [
    "bias_types = [\n",
    "    \"gender\", \n",
    "    \"religion\",\n",
    "    \"race-color\"\n",
    "]\n",
    "\n",
    "for bias in bias_types:\n",
    "    command = f\"python sentence_debias_subspace.py --model 'PhiForCausalLM_NonBFloat16' --model_name_or_path 'microsoft/phi-2' --persistent_dir '/home/FYP/on0008an/bias-bench-main' --batch_size 4 --bias_type '{bias}' --sample\"\n",
    "    print(f\"Executing: {command}\")\n",
    "    get_ipython().system(command)"
   ]
  },
  {
   "cell_type": "code",
   "execution_count": null,
   "id": "b91b9c360526cf8",
   "metadata": {
    "ExecuteTime": {
     "start_time": "2024-06-19T16:40:50.339779Z"
    },
    "jupyter": {
     "is_executing": true
    }
   },
   "outputs": [
    {
     "name": "stdout",
     "output_type": "stream",
     "text": [
      "Executing: python sentence_debias_subspace.py --model 'LlamaForCausalLM_NonBFloat16' --model_name_or_path 'meta-llama/Llama-2-7b-hf' --persistent_dir '/home/FYP/on0008an/bias-bench-main' --batch_size 4 --bias_type 'gender' --sample\n",
      "/home/FYP/on0008an/.conda/envs/RunJupyter/lib/python3.10/site-packages/scipy/__init__.py:146: UserWarning: A NumPy version >=1.16.5 and <1.23.0 is required for this version of SciPy (detected version 1.26.4\r\n",
      "  warnings.warn(f\"A NumPy version >={np_minversion} and <{np_maxversion}\"\r\n",
      "The token has not been saved to the git credentials helper. Pass `add_to_git_credential=True` in this function directly or `--add-to-git-credential` if using via `huggingface-cli` if you want to set the git credential as well.\r\n",
      "Token is valid (permission: read).\r\n",
      "Your token has been saved to /home/FYP/on0008an/.cache/huggingface/token\r\n",
      "Login successful\r\n",
      "Computing bias subspace:\r\n",
      " - persistent_dir: /home/FYP/on0008an/bias-bench-main\r\n",
      " - model_name_or_path: meta-llama/Llama-2-7b-hf\r\n",
      " - model: LlamaForCausalLM_NonBFloat16\r\n",
      " - bias_type: gender\r\n",
      " - batch_size: 4\r\n",
      "Using sampled dataset.\r\n",
      "Loading dataset: /home/FYP/on0008an/bias-bench-main/data//wikipedia-2.5_tiny.txt\r\n",
      "Loading checkpoint shards:  50%|█████████         | 1/2 [00:12<00:12, 12.27s/it]"
     ]
    }
   ],
   "source": [
    "bias_types = [\n",
    "    \"gender\", \n",
    "    \"religion\", \n",
    "    \"race-color\"\n",
    "]\n",
    "\n",
    "for bias in bias_types:\n",
    "    command = f\"python sentence_debias_subspace.py --model 'LlamaForCausalLM_NonBFloat16' --model_name_or_path 'meta-llama/Llama-2-7b-hf' --persistent_dir '/home/FYP/on0008an/bias-bench-main' --batch_size 4 --bias_type '{bias}' --sample\"\n",
    "    print(f\"Executing: {command}\")\n",
    "    get_ipython().system(command)"
   ]
  },
  {
   "cell_type": "code",
   "execution_count": null,
   "id": "cd1caf5185280040",
   "metadata": {},
   "outputs": [],
   "source": []
  }
 ],
 "metadata": {
  "kernelspec": {
   "display_name": "Python 3",
   "language": "python",
   "name": "python3"
  },
  "language_info": {
   "codemirror_mode": {
    "name": "ipython",
    "version": 2
   },
   "file_extension": ".py",
   "mimetype": "text/x-python",
   "name": "python",
   "nbconvert_exporter": "python",
   "pygments_lexer": "ipython2",
   "version": "2.7.6"
  }
 },
 "nbformat": 4,
 "nbformat_minor": 5
}
