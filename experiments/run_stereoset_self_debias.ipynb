{
 "cells": [
  {
   "cell_type": "markdown",
   "id": "5b3e67c6d8ecc00a",
   "metadata": {},
   "source": [
    "# Only evaluate 3 biases because the dataset only support these 3 that matches with self-debiases\n",
    "\n",
    "Self debiasing method supports: choices=[\"race-color\", \"gender\", \"socioeconomic\", \"sexual-orientation\", \"religion\", \"age\", \"nationality\", \"disability\", \"physical-appearance\"],"
   ]
  },
  {
   "cell_type": "code",
   "execution_count": 1,
   "id": "initial_id",
   "metadata": {
    "ExecuteTime": {
     "end_time": "2024-06-16T15:21:50.854593Z",
     "start_time": "2024-06-16T15:01:21.792296Z"
    },
    "collapsed": true
   },
   "outputs": [
    {
     "name": "stdout",
     "output_type": "stream",
     "text": [
      "Executing: python stereoset_debias.py --model 'SelfDebiasGPT2LMHeadModel' --model_name_or_path 'gpt2' --batch_size 1 --seed 42 --bias_type 'gender'\n",
      "/home/FYP/on0008an/.conda/envs/RunJupyter/lib/python3.10/site-packages/scipy/__init__.py:146: UserWarning: A NumPy version >=1.16.5 and <1.23.0 is required for this version of SciPy (detected version 1.26.4\r\n",
      "  warnings.warn(f\"A NumPy version >={np_minversion} and <{np_maxversion}\"\r\n",
      "The token has not been saved to the git credentials helper. Pass `add_to_git_credential=True` in this function directly or `--add-to-git-credential` if using via `huggingface-cli` if you want to set the git credential as well.\r\n",
      "Token is valid (permission: read).\r\n",
      "Your token has been saved to /home/FYP/on0008an/.cache/huggingface/token\r\n",
      "Login successful\r\n",
      "Running StereoSet:\r\n",
      " - persistent_dir: /home/FYP/on0008an/bias-bench-main\r\n",
      " - model: SelfDebiasGPT2LMHeadModel\r\n",
      " - model_name_or_path: gpt2\r\n",
      " - bias_direction: None\r\n",
      " - projection_matrix: None\r\n",
      " - load_path: None\r\n",
      " - batch_size: 1\r\n",
      " - bias_type: gender\r\n",
      " - seed: 42\r\n",
      "Evaluating intrasentence task.\r\n",
      "Unconditional start token: <|endoftext|>\r\n",
      "100%|███████████████████████████████████████| 6392/6392 [06:32<00:00, 16.29it/s]\r\n",
      "Executing: python stereoset_debias.py --model 'SelfDebiasGPT2LMHeadModel' --model_name_or_path 'gpt2' --batch_size 1 --seed 42 --bias_type 'religion'\n",
      "/home/FYP/on0008an/.conda/envs/RunJupyter/lib/python3.10/site-packages/scipy/__init__.py:146: UserWarning: A NumPy version >=1.16.5 and <1.23.0 is required for this version of SciPy (detected version 1.26.4\r\n",
      "  warnings.warn(f\"A NumPy version >={np_minversion} and <{np_maxversion}\"\r\n",
      "The token has not been saved to the git credentials helper. Pass `add_to_git_credential=True` in this function directly or `--add-to-git-credential` if using via `huggingface-cli` if you want to set the git credential as well.\r\n",
      "Token is valid (permission: read).\r\n",
      "Your token has been saved to /home/FYP/on0008an/.cache/huggingface/token\r\n",
      "Login successful\r\n",
      "Running StereoSet:\r\n",
      " - persistent_dir: /home/FYP/on0008an/bias-bench-main\r\n",
      " - model: SelfDebiasGPT2LMHeadModel\r\n",
      " - model_name_or_path: gpt2\r\n",
      " - bias_direction: None\r\n",
      " - projection_matrix: None\r\n",
      " - load_path: None\r\n",
      " - batch_size: 1\r\n",
      " - bias_type: religion\r\n",
      " - seed: 42\r\n",
      "Evaluating intrasentence task.\r\n",
      "Unconditional start token: <|endoftext|>\r\n",
      "100%|███████████████████████████████████████| 6392/6392 [06:32<00:00, 16.27it/s]\r\n",
      "Executing: python stereoset_debias.py --model 'SelfDebiasGPT2LMHeadModel' --model_name_or_path 'gpt2' --batch_size 1 --seed 42 --bias_type 'race-color'\n",
      "/home/FYP/on0008an/.conda/envs/RunJupyter/lib/python3.10/site-packages/scipy/__init__.py:146: UserWarning: A NumPy version >=1.16.5 and <1.23.0 is required for this version of SciPy (detected version 1.26.4\r\n",
      "  warnings.warn(f\"A NumPy version >={np_minversion} and <{np_maxversion}\"\r\n",
      "The token has not been saved to the git credentials helper. Pass `add_to_git_credential=True` in this function directly or `--add-to-git-credential` if using via `huggingface-cli` if you want to set the git credential as well.\r\n",
      "Token is valid (permission: read).\r\n",
      "Your token has been saved to /home/FYP/on0008an/.cache/huggingface/token\r\n",
      "Login successful\r\n",
      "Running StereoSet:\r\n",
      " - persistent_dir: /home/FYP/on0008an/bias-bench-main\r\n",
      " - model: SelfDebiasGPT2LMHeadModel\r\n",
      " - model_name_or_path: gpt2\r\n",
      " - bias_direction: None\r\n",
      " - projection_matrix: None\r\n",
      " - load_path: None\r\n",
      " - batch_size: 1\r\n",
      " - bias_type: race-color\r\n",
      " - seed: 42\r\n",
      "Evaluating intrasentence task.\r\n",
      "Unconditional start token: <|endoftext|>\r\n",
      "100%|███████████████████████████████████████| 6392/6392 [06:44<00:00, 15.79it/s]\r\n"
     ]
    }
   ],
   "source": [
    "bias_types = [\"gender\", \"religion\", \"race-color\"]\n",
    "\n",
    "for bias in bias_types:\n",
    "    command = f\"python stereoset_debias.py --model 'SelfDebiasGPT2LMHeadModel' --model_name_or_path 'gpt2' --batch_size 1 --seed 42 --bias_type '{bias}'\"\n",
    "    print(f\"Executing: {command}\")\n",
    "    get_ipython().system(command)"
   ]
  },
  {
   "cell_type": "code",
   "execution_count": null,
   "id": "e84fac8b0f2bacc0",
   "metadata": {
    "ExecuteTime": {
     "start_time": "2024-06-16T18:07:08.516234Z"
    },
    "jupyter": {
     "is_executing": true
    }
   },
   "outputs": [
    {
     "name": "stdout",
     "output_type": "stream",
     "text": [
      "Executing: python stereoset_debias.py --model 'SelfDebiasPhi2LMHeadModel' --model_name_or_path 'microsoft/phi-2' --batch_size 1 --seed 42 --bias_type 'religion'\n"
     ]
    }
   ],
   "source": [
    "bias_types = [\n",
    "    #\"gender\", \n",
    "              \"religion\", \n",
    "              \"race-color\"]\n",
    "\n",
    "for bias in bias_types:\n",
    "    command = f\"python stereoset_debias.py --model 'SelfDebiasPhi2LMHeadModel' --model_name_or_path 'microsoft/phi-2' --batch_size 1 --seed 42 --bias_type '{bias}'\"\n",
    "    print(f\"Executing: {command}\")\n",
    "    get_ipython().system(command)"
   ]
  },
  {
   "cell_type": "code",
   "execution_count": null,
   "id": "88a5251c0ba7a59e",
   "metadata": {
    "jupyter": {
     "is_executing": true
    }
   },
   "outputs": [],
   "source": [
    "bias_types = [\"gender\", \"religion\", \"race-color\"]\n",
    "\n",
    "for bias in bias_types:\n",
    "    command = f\"python stereoset_debias.py --model 'SelfDebiasLlama2LMHeadModel' --model_name_or_path 'meta-llama/Llama-2-7b-hf' --batch_size 1 --seed 42 --bias_type '{bias}'\"\n",
    "    print(f\"Executing: {command}\")\n",
    "    get_ipython().system(command)"
   ]
  },
  {
   "cell_type": "code",
   "execution_count": null,
   "id": "3e7e5322544efd95",
   "metadata": {},
   "outputs": [],
   "source": []
  }
 ],
 "metadata": {
  "kernelspec": {
   "display_name": "Python 3",
   "language": "python",
   "name": "python3"
  },
  "language_info": {
   "codemirror_mode": {
    "name": "ipython",
    "version": 2
   },
   "file_extension": ".py",
   "mimetype": "text/x-python",
   "name": "python",
   "nbconvert_exporter": "python",
   "pygments_lexer": "ipython2",
   "version": "2.7.6"
  }
 },
 "nbformat": 4,
 "nbformat_minor": 5
}
