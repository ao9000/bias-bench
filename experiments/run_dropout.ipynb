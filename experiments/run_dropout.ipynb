{
 "cells": [
  {
   "cell_type": "code",
   "execution_count": null,
   "id": "initial_id",
   "metadata": {
    "ExecuteTime": {
     "start_time": "2024-06-30T14:03:04.131715Z"
    },
    "collapsed": true
   },
   "outputs": [],
   "source": [
    "!python run_clm.py --model_name_or_path \"gpt2\" --do_train --train_file \"../data/wikipedia-10.txt\" --max_steps 2000 --per_device_train_batch_size 1 --gradient_accumulation_steps 32 --save_steps 100 --preprocessing_num_workers 1 --dropout_debias --seed 42 --output_dir \"../results/dropout_FT\""
   ]
  },
  {
   "cell_type": "code",
   "execution_count": 1,
   "id": "5fabd370f82b4e3f",
   "metadata": {
    "ExecuteTime": {
     "end_time": "2024-06-30T19:22:06.763747Z",
     "start_time": "2024-06-30T19:21:55.454047Z"
    }
   },
   "outputs": [
    {
     "name": "stdout",
     "output_type": "stream",
     "text": [
      "/home/FYP/on0008an/.conda/envs/RunJupyter/lib/python3.10/site-packages/scipy/__init__.py:146: UserWarning: A NumPy version >=1.16.5 and <1.23.0 is required for this version of SciPy (detected version 1.26.4\r\n",
      "  warnings.warn(f\"A NumPy version >={np_minversion} and <{np_maxversion}\"\r\n",
      "Traceback (most recent call last):\r\n",
      "  File \"/home/FYP/on0008an/bias-bench/experiments/run_clm.py\", line 60, in <module>\r\n",
      "    from bias_bench.util.util import get_target_modules_for_model\r\n",
      "ModuleNotFoundError: No module named 'bias_bench'\r\n"
     ]
    }
   ],
   "source": [
    "!python run_clm.py --model_name_or_path \"meta-llama/Llama-2-7b-hf\" --do_train --train_file \"../data/wikipedia-10.txt\" --max_steps 2000 --per_device_train_batch_size 1 --gradient_accumulation_steps 32 --save_steps 100 --preprocessing_num_workers 1 --dropout_debias --seed 42 --output_dir \"../results/dropout_FT/llama2\" --lora"
   ]
  },
  {
   "cell_type": "code",
   "execution_count": null,
   "id": "9b506ee85e0bf49f",
   "metadata": {},
   "outputs": [],
   "source": []
  }
 ],
 "metadata": {
  "kernelspec": {
   "display_name": "Python 3",
   "language": "python",
   "name": "python3"
  },
  "language_info": {
   "codemirror_mode": {
    "name": "ipython",
    "version": 2
   },
   "file_extension": ".py",
   "mimetype": "text/x-python",
   "name": "python",
   "nbconvert_exporter": "python",
   "pygments_lexer": "ipython2",
   "version": "2.7.6"
  }
 },
 "nbformat": 4,
 "nbformat_minor": 5
}
