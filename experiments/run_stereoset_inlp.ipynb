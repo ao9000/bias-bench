{
 "cells": [
  {
   "cell_type": "markdown",
   "id": "ffe424ddec668c5a",
   "metadata": {},
   "source": [
    "# n_classifiers = 80"
   ]
  },
  {
   "cell_type": "code",
   "execution_count": 2,
   "id": "fc79a630a224ac9d",
   "metadata": {
    "ExecuteTime": {
     "end_time": "2024-06-26T03:11:21.929768Z",
     "start_time": "2024-06-26T03:01:40.754383Z"
    }
   },
   "outputs": [
    {
     "name": "stdout",
     "output_type": "stream",
     "text": [
      "Executing: python stereoset_debias.py --model 'INLPGPT2LMHeadModel' --model_name_or_path 'gpt2' --projection_matrix '../results/projection_matrix/n_classifiers_80/projection_m-GPT2Model_c-gpt2_t-gender_s-42.pt' --bias_type 'gender' --batch_size 1 --seed 42\n",
      "/home/FYP/on0008an/.conda/envs/RunJupyter/lib/python3.10/site-packages/scipy/__init__.py:146: UserWarning: A NumPy version >=1.16.5 and <1.23.0 is required for this version of SciPy (detected version 1.26.4\r\n",
      "  warnings.warn(f\"A NumPy version >={np_minversion} and <{np_maxversion}\"\r\n",
      "The token has not been saved to the git credentials helper. Pass `add_to_git_credential=True` in this function directly or `--add-to-git-credential` if using via `huggingface-cli` if you want to set the git credential as well.\r\n",
      "Token is valid (permission: read).\r\n",
      "Your token has been saved to /home/FYP/on0008an/.cache/huggingface/token\r\n",
      "Login successful\r\n",
      "Running StereoSet:\r\n",
      " - persistent_dir: /home/FYP/on0008an/bias-bench-main\r\n",
      " - model: INLPGPT2LMHeadModel\r\n",
      " - model_name_or_path: gpt2\r\n",
      " - bias_direction: None\r\n",
      " - projection_matrix: ../results/projection_matrix/n_classifiers_80/projection_m-GPT2Model_c-gpt2_t-gender_s-42.pt\r\n",
      " - load_path: None\r\n",
      " - batch_size: 1\r\n",
      " - bias_type: gender\r\n",
      " - seed: 42\r\n",
      "Evaluating intrasentence task.\r\n",
      "Unconditional start token: <|endoftext|>\r\n",
      "torch.Size([1, 1, 50257])\r\n",
      "100%|███████████████████████████████████████| 6392/6392 [03:01<00:00, 35.18it/s]\r\n",
      "Executing: python stereoset_debias.py --model 'INLPGPT2LMHeadModel' --model_name_or_path 'gpt2' --projection_matrix '../results/projection_matrix/n_classifiers_80/projection_m-GPT2Model_c-gpt2_t-religion_s-42.pt' --bias_type 'religion' --batch_size 1 --seed 42\n",
      "/home/FYP/on0008an/.conda/envs/RunJupyter/lib/python3.10/site-packages/scipy/__init__.py:146: UserWarning: A NumPy version >=1.16.5 and <1.23.0 is required for this version of SciPy (detected version 1.26.4\r\n",
      "  warnings.warn(f\"A NumPy version >={np_minversion} and <{np_maxversion}\"\r\n",
      "The token has not been saved to the git credentials helper. Pass `add_to_git_credential=True` in this function directly or `--add-to-git-credential` if using via `huggingface-cli` if you want to set the git credential as well.\r\n",
      "Token is valid (permission: read).\r\n",
      "Your token has been saved to /home/FYP/on0008an/.cache/huggingface/token\r\n",
      "Login successful\r\n",
      "Running StereoSet:\r\n",
      " - persistent_dir: /home/FYP/on0008an/bias-bench-main\r\n",
      " - model: INLPGPT2LMHeadModel\r\n",
      " - model_name_or_path: gpt2\r\n",
      " - bias_direction: None\r\n",
      " - projection_matrix: ../results/projection_matrix/n_classifiers_80/projection_m-GPT2Model_c-gpt2_t-religion_s-42.pt\r\n",
      " - load_path: None\r\n",
      " - batch_size: 1\r\n",
      " - bias_type: religion\r\n",
      " - seed: 42\r\n",
      "Evaluating intrasentence task.\r\n",
      "Unconditional start token: <|endoftext|>\r\n",
      "torch.Size([1, 1, 50257])\r\n",
      "100%|███████████████████████████████████████| 6392/6392 [03:00<00:00, 35.36it/s]\r\n",
      "Executing: python stereoset_debias.py --model 'INLPGPT2LMHeadModel' --model_name_or_path 'gpt2' --projection_matrix '../results/projection_matrix/n_classifiers_80/projection_m-GPT2Model_c-gpt2_t-race-color_s-42.pt' --bias_type 'race-color' --batch_size 1 --seed 42\n",
      "/home/FYP/on0008an/.conda/envs/RunJupyter/lib/python3.10/site-packages/scipy/__init__.py:146: UserWarning: A NumPy version >=1.16.5 and <1.23.0 is required for this version of SciPy (detected version 1.26.4\r\n",
      "  warnings.warn(f\"A NumPy version >={np_minversion} and <{np_maxversion}\"\r\n",
      "The token has not been saved to the git credentials helper. Pass `add_to_git_credential=True` in this function directly or `--add-to-git-credential` if using via `huggingface-cli` if you want to set the git credential as well.\r\n",
      "Token is valid (permission: read).\r\n",
      "Your token has been saved to /home/FYP/on0008an/.cache/huggingface/token\r\n",
      "Login successful\r\n",
      "Running StereoSet:\r\n",
      " - persistent_dir: /home/FYP/on0008an/bias-bench-main\r\n",
      " - model: INLPGPT2LMHeadModel\r\n",
      " - model_name_or_path: gpt2\r\n",
      " - bias_direction: None\r\n",
      " - projection_matrix: ../results/projection_matrix/n_classifiers_80/projection_m-GPT2Model_c-gpt2_t-race-color_s-42.pt\r\n",
      " - load_path: None\r\n",
      " - batch_size: 1\r\n",
      " - bias_type: race-color\r\n",
      " - seed: 42\r\n",
      "Evaluating intrasentence task.\r\n",
      "Unconditional start token: <|endoftext|>\r\n",
      "torch.Size([1, 1, 50257])\r\n",
      "100%|███████████████████████████████████████| 6392/6392 [02:58<00:00, 35.73it/s]\r\n"
     ]
    }
   ],
   "source": [
    "bias_types = [\n",
    "    \"gender\", \n",
    "    \"religion\", \n",
    "    \"race-color\"\n",
    "]\n",
    "\n",
    "for bias in bias_types:\n",
    "    command = f\"python stereoset_debias.py --model 'INLPGPT2LMHeadModel' --model_name_or_path 'gpt2' --projection_matrix '../results/projection_matrix/n_classifiers_80/projection_m-GPT2Model_c-gpt2_t-{bias}_s-42.pt' --bias_type '{bias}' --batch_size 1 --seed 42\"\n",
    "    print(f\"Executing: {command}\")\n",
    "    get_ipython().system(command)"
   ]
  },
  {
   "cell_type": "code",
   "execution_count": 1,
   "id": "c9fa201e80b7e45e",
   "metadata": {
    "ExecuteTime": {
     "end_time": "2024-06-26T03:46:07.775617Z",
     "start_time": "2024-06-26T03:14:27.329260Z"
    }
   },
   "outputs": [
    {
     "name": "stdout",
     "output_type": "stream",
     "text": [
      "Executing: python stereoset_debias.py --model 'INLPPhi2LMHeadModel' --model_name_or_path 'microsoft/phi-2' --projection_matrix '../results/projection_matrix/n_classifiers_80/projection_m-PhiForCausalLM_NonBFloat16_c-microsoft_phi-2_t-gender_s-42.pt' --bias_type 'gender' --batch_size 1 --seed 42\n",
      "/home/FYP/on0008an/.conda/envs/RunJupyter/lib/python3.10/site-packages/scipy/__init__.py:146: UserWarning: A NumPy version >=1.16.5 and <1.23.0 is required for this version of SciPy (detected version 1.26.4\r\n",
      "  warnings.warn(f\"A NumPy version >={np_minversion} and <{np_maxversion}\"\r\n",
      "The token has not been saved to the git credentials helper. Pass `add_to_git_credential=True` in this function directly or `--add-to-git-credential` if using via `huggingface-cli` if you want to set the git credential as well.\r\n",
      "Token is valid (permission: read).\r\n",
      "Your token has been saved to /home/FYP/on0008an/.cache/huggingface/token\r\n",
      "Login successful\r\n",
      "Running StereoSet:\r\n",
      " - persistent_dir: /home/FYP/on0008an/bias-bench-main\r\n",
      " - model: INLPPhi2LMHeadModel\r\n",
      " - model_name_or_path: microsoft/phi-2\r\n",
      " - bias_direction: None\r\n",
      " - projection_matrix: ../results/projection_matrix/n_classifiers_80/projection_m-PhiForCausalLM_NonBFloat16_c-microsoft_phi-2_t-gender_s-42.pt\r\n",
      " - load_path: None\r\n",
      " - batch_size: 1\r\n",
      " - bias_type: gender\r\n",
      " - seed: 42\r\n",
      "Loading checkpoint shards: 100%|██████████████████| 2/2 [00:03<00:00,  1.82s/it]\r\n",
      "Special tokens have been added in the vocabulary, make sure the associated word embeddings are fine-tuned or trained.\r\n",
      "Evaluating intrasentence task.\r\n",
      "Unconditional start token: <|endoftext|>\r\n",
      "torch.Size([1, 1, 51200])\r\n",
      "100%|███████████████████████████████████████| 6392/6392 [10:13<00:00, 10.41it/s]\r\n",
      "Executing: python stereoset_debias.py --model 'INLPPhi2LMHeadModel' --model_name_or_path 'microsoft/phi-2' --projection_matrix '../results/projection_matrix/n_classifiers_80/projection_m-PhiForCausalLM_NonBFloat16_c-microsoft_phi-2_t-religion_s-42.pt' --bias_type 'religion' --batch_size 1 --seed 42\n",
      "/home/FYP/on0008an/.conda/envs/RunJupyter/lib/python3.10/site-packages/scipy/__init__.py:146: UserWarning: A NumPy version >=1.16.5 and <1.23.0 is required for this version of SciPy (detected version 1.26.4\r\n",
      "  warnings.warn(f\"A NumPy version >={np_minversion} and <{np_maxversion}\"\r\n",
      "The token has not been saved to the git credentials helper. Pass `add_to_git_credential=True` in this function directly or `--add-to-git-credential` if using via `huggingface-cli` if you want to set the git credential as well.\r\n",
      "Token is valid (permission: read).\r\n",
      "Your token has been saved to /home/FYP/on0008an/.cache/huggingface/token\r\n",
      "Login successful\r\n",
      "Running StereoSet:\r\n",
      " - persistent_dir: /home/FYP/on0008an/bias-bench-main\r\n",
      " - model: INLPPhi2LMHeadModel\r\n",
      " - model_name_or_path: microsoft/phi-2\r\n",
      " - bias_direction: None\r\n",
      " - projection_matrix: ../results/projection_matrix/n_classifiers_80/projection_m-PhiForCausalLM_NonBFloat16_c-microsoft_phi-2_t-religion_s-42.pt\r\n",
      " - load_path: None\r\n",
      " - batch_size: 1\r\n",
      " - bias_type: religion\r\n",
      " - seed: 42\r\n",
      "Loading checkpoint shards: 100%|██████████████████| 2/2 [00:03<00:00,  1.87s/it]\r\n",
      "Special tokens have been added in the vocabulary, make sure the associated word embeddings are fine-tuned or trained.\r\n",
      "Evaluating intrasentence task.\r\n",
      "Unconditional start token: <|endoftext|>\r\n",
      "torch.Size([1, 1, 51200])\r\n",
      "100%|███████████████████████████████████████| 6392/6392 [10:14<00:00, 10.41it/s]\r\n",
      "Executing: python stereoset_debias.py --model 'INLPPhi2LMHeadModel' --model_name_or_path 'microsoft/phi-2' --projection_matrix '../results/projection_matrix/n_classifiers_80/projection_m-PhiForCausalLM_NonBFloat16_c-microsoft_phi-2_t-race-color_s-42.pt' --bias_type 'race-color' --batch_size 1 --seed 42\n",
      "/home/FYP/on0008an/.conda/envs/RunJupyter/lib/python3.10/site-packages/scipy/__init__.py:146: UserWarning: A NumPy version >=1.16.5 and <1.23.0 is required for this version of SciPy (detected version 1.26.4\r\n",
      "  warnings.warn(f\"A NumPy version >={np_minversion} and <{np_maxversion}\"\r\n",
      "The token has not been saved to the git credentials helper. Pass `add_to_git_credential=True` in this function directly or `--add-to-git-credential` if using via `huggingface-cli` if you want to set the git credential as well.\r\n",
      "Token is valid (permission: read).\r\n",
      "Your token has been saved to /home/FYP/on0008an/.cache/huggingface/token\r\n",
      "Login successful\r\n",
      "Running StereoSet:\r\n",
      " - persistent_dir: /home/FYP/on0008an/bias-bench-main\r\n",
      " - model: INLPPhi2LMHeadModel\r\n",
      " - model_name_or_path: microsoft/phi-2\r\n",
      " - bias_direction: None\r\n",
      " - projection_matrix: ../results/projection_matrix/n_classifiers_80/projection_m-PhiForCausalLM_NonBFloat16_c-microsoft_phi-2_t-race-color_s-42.pt\r\n",
      " - load_path: None\r\n",
      " - batch_size: 1\r\n",
      " - bias_type: race-color\r\n",
      " - seed: 42\r\n",
      "Loading checkpoint shards: 100%|██████████████████| 2/2 [00:03<00:00,  1.83s/it]\r\n",
      "Special tokens have been added in the vocabulary, make sure the associated word embeddings are fine-tuned or trained.\r\n",
      "Evaluating intrasentence task.\r\n",
      "Unconditional start token: <|endoftext|>\r\n",
      "torch.Size([1, 1, 51200])\r\n",
      "100%|███████████████████████████████████████| 6392/6392 [10:15<00:00, 10.38it/s]\r\n"
     ]
    }
   ],
   "source": [
    "bias_types = [\n",
    "    \"gender\", \n",
    "    \"religion\", \n",
    "    \"race-color\"\n",
    "]\n",
    "\n",
    "for bias in bias_types:\n",
    "    command = f\"python stereoset_debias.py --model 'INLPPhi2LMHeadModel' --model_name_or_path 'microsoft/phi-2' --projection_matrix '../results/projection_matrix/n_classifiers_80/projection_m-PhiForCausalLM_NonBFloat16_c-microsoft_phi-2_t-{bias}_s-42.pt' --bias_type '{bias}' --batch_size 1 --seed 42\"\n",
    "    print(f\"Executing: {command}\")\n",
    "    get_ipython().system(command)"
   ]
  },
  {
   "cell_type": "code",
   "execution_count": 2,
   "id": "7eba11d763e81712",
   "metadata": {
    "ExecuteTime": {
     "end_time": "2024-06-26T04:49:07.483786Z",
     "start_time": "2024-06-26T03:46:07.779188Z"
    }
   },
   "outputs": [
    {
     "name": "stdout",
     "output_type": "stream",
     "text": [
      "Executing: python stereoset_debias.py --model 'INLPLlama2LMHeadModel' --model_name_or_path 'meta-llama/Llama-2-7b-hf' --projection_matrix '../results/projection_matrix/n_classifiers_80/projection_m-LlamaForCausalLM_NonBFloat16_c-meta-llama_Llama-2-7b-hf_t-gender_s-42.pt' --bias_type 'gender' --batch_size 1 --seed 42\n",
      "/home/FYP/on0008an/.conda/envs/RunJupyter/lib/python3.10/site-packages/scipy/__init__.py:146: UserWarning: A NumPy version >=1.16.5 and <1.23.0 is required for this version of SciPy (detected version 1.26.4\r\n",
      "  warnings.warn(f\"A NumPy version >={np_minversion} and <{np_maxversion}\"\r\n",
      "The token has not been saved to the git credentials helper. Pass `add_to_git_credential=True` in this function directly or `--add-to-git-credential` if using via `huggingface-cli` if you want to set the git credential as well.\r\n",
      "Token is valid (permission: read).\r\n",
      "Your token has been saved to /home/FYP/on0008an/.cache/huggingface/token\r\n",
      "Login successful\r\n",
      "Running StereoSet:\r\n",
      " - persistent_dir: /home/FYP/on0008an/bias-bench-main\r\n",
      " - model: INLPLlama2LMHeadModel\r\n",
      " - model_name_or_path: meta-llama/Llama-2-7b-hf\r\n",
      " - bias_direction: None\r\n",
      " - projection_matrix: ../results/projection_matrix/n_classifiers_80/projection_m-LlamaForCausalLM_NonBFloat16_c-meta-llama_Llama-2-7b-hf_t-gender_s-42.pt\r\n",
      " - load_path: None\r\n",
      " - batch_size: 1\r\n",
      " - bias_type: gender\r\n",
      " - seed: 42\r\n",
      "Loading checkpoint shards: 100%|██████████████████| 2/2 [00:09<00:00,  4.86s/it]\r\n",
      "Evaluating intrasentence task.\r\n",
      "Unconditional start token: <s>\r\n",
      "torch.Size([1, 1, 32000])\r\n",
      "100%|███████████████████████████████████████| 6392/6392 [20:32<00:00,  5.19it/s]\r\n",
      "Executing: python stereoset_debias.py --model 'INLPLlama2LMHeadModel' --model_name_or_path 'meta-llama/Llama-2-7b-hf' --projection_matrix '../results/projection_matrix/n_classifiers_80/projection_m-LlamaForCausalLM_NonBFloat16_c-meta-llama_Llama-2-7b-hf_t-religion_s-42.pt' --bias_type 'religion' --batch_size 1 --seed 42\n",
      "/home/FYP/on0008an/.conda/envs/RunJupyter/lib/python3.10/site-packages/scipy/__init__.py:146: UserWarning: A NumPy version >=1.16.5 and <1.23.0 is required for this version of SciPy (detected version 1.26.4\r\n",
      "  warnings.warn(f\"A NumPy version >={np_minversion} and <{np_maxversion}\"\r\n",
      "The token has not been saved to the git credentials helper. Pass `add_to_git_credential=True` in this function directly or `--add-to-git-credential` if using via `huggingface-cli` if you want to set the git credential as well.\r\n",
      "Token is valid (permission: read).\r\n",
      "Your token has been saved to /home/FYP/on0008an/.cache/huggingface/token\r\n",
      "Login successful\r\n",
      "Running StereoSet:\r\n",
      " - persistent_dir: /home/FYP/on0008an/bias-bench-main\r\n",
      " - model: INLPLlama2LMHeadModel\r\n",
      " - model_name_or_path: meta-llama/Llama-2-7b-hf\r\n",
      " - bias_direction: None\r\n",
      " - projection_matrix: ../results/projection_matrix/n_classifiers_80/projection_m-LlamaForCausalLM_NonBFloat16_c-meta-llama_Llama-2-7b-hf_t-religion_s-42.pt\r\n",
      " - load_path: None\r\n",
      " - batch_size: 1\r\n",
      " - bias_type: religion\r\n",
      " - seed: 42\r\n",
      "Loading checkpoint shards: 100%|██████████████████| 2/2 [00:09<00:00,  4.96s/it]\r\n",
      "Evaluating intrasentence task.\r\n",
      "Unconditional start token: <s>\r\n",
      "torch.Size([1, 1, 32000])\r\n",
      "100%|███████████████████████████████████████| 6392/6392 [20:30<00:00,  5.19it/s]\r\n",
      "Executing: python stereoset_debias.py --model 'INLPLlama2LMHeadModel' --model_name_or_path 'meta-llama/Llama-2-7b-hf' --projection_matrix '../results/projection_matrix/n_classifiers_80/projection_m-LlamaForCausalLM_NonBFloat16_c-meta-llama_Llama-2-7b-hf_t-race-color_s-42.pt' --bias_type 'race-color' --batch_size 1 --seed 42\n",
      "/home/FYP/on0008an/.conda/envs/RunJupyter/lib/python3.10/site-packages/scipy/__init__.py:146: UserWarning: A NumPy version >=1.16.5 and <1.23.0 is required for this version of SciPy (detected version 1.26.4\r\n",
      "  warnings.warn(f\"A NumPy version >={np_minversion} and <{np_maxversion}\"\r\n",
      "The token has not been saved to the git credentials helper. Pass `add_to_git_credential=True` in this function directly or `--add-to-git-credential` if using via `huggingface-cli` if you want to set the git credential as well.\r\n",
      "Token is valid (permission: read).\r\n",
      "Your token has been saved to /home/FYP/on0008an/.cache/huggingface/token\r\n",
      "Login successful\r\n",
      "Running StereoSet:\r\n",
      " - persistent_dir: /home/FYP/on0008an/bias-bench-main\r\n",
      " - model: INLPLlama2LMHeadModel\r\n",
      " - model_name_or_path: meta-llama/Llama-2-7b-hf\r\n",
      " - bias_direction: None\r\n",
      " - projection_matrix: ../results/projection_matrix/n_classifiers_80/projection_m-LlamaForCausalLM_NonBFloat16_c-meta-llama_Llama-2-7b-hf_t-race-color_s-42.pt\r\n",
      " - load_path: None\r\n",
      " - batch_size: 1\r\n",
      " - bias_type: race-color\r\n",
      " - seed: 42\r\n",
      "Loading checkpoint shards: 100%|██████████████████| 2/2 [00:13<00:00,  6.71s/it]\r\n",
      "Evaluating intrasentence task.\r\n",
      "Unconditional start token: <s>\r\n",
      "torch.Size([1, 1, 32000])\r\n",
      "100%|███████████████████████████████████████| 6392/6392 [20:31<00:00,  5.19it/s]\r\n"
     ]
    }
   ],
   "source": [
    "bias_types = [\n",
    "    \"gender\", \n",
    "    \"religion\", \n",
    "    \"race-color\"\n",
    "]\n",
    "\n",
    "for bias in bias_types:\n",
    "    command = f\"python stereoset_debias.py --model 'INLPLlama2LMHeadModel' --model_name_or_path 'meta-llama/Llama-2-7b-hf' --projection_matrix '../results/projection_matrix/n_classifiers_80/projection_m-LlamaForCausalLM_NonBFloat16_c-meta-llama_Llama-2-7b-hf_t-{bias}_s-42.pt' --bias_type '{bias}' --batch_size 1 --seed 42\"\n",
    "    print(f\"Executing: {command}\")\n",
    "    get_ipython().system(command)"
   ]
  },
  {
   "cell_type": "markdown",
   "id": "5c8db2ccf2a19f7e",
   "metadata": {},
   "source": [
    "# n_classifiers = 10"
   ]
  },
  {
   "cell_type": "code",
   "execution_count": null,
   "id": "9d774a239ccb89b2",
   "metadata": {
    "ExecuteTime": {
     "start_time": "2024-06-26T14:36:43.913031Z"
    },
    "jupyter": {
     "is_executing": true
    }
   },
   "outputs": [
    {
     "name": "stdout",
     "output_type": "stream",
     "text": [
      "Executing: python stereoset_debias.py --model 'INLPGPT2LMHeadModel' --model_name_or_path 'gpt2' --projection_matrix '../results/projection_matrix/n_classifiers_10/projection_m-GPT2Model_c-gpt2_t-gender_s-42.pt' --bias_type 'gender' --batch_size 1 --seed 42\n"
     ]
    }
   ],
   "source": [
    "bias_types = [\n",
    "    \"gender\", \n",
    "    \"religion\", \n",
    "    \"race-color\"\n",
    "]\n",
    "\n",
    "for bias in bias_types:\n",
    "    command = f\"python stereoset_debias.py --model 'INLPGPT2LMHeadModel' --model_name_or_path 'gpt2' --projection_matrix '../results/projection_matrix/n_classifiers_10/projection_m-GPT2Model_c-gpt2_t-{bias}_s-42.pt' --bias_type '{bias}' --batch_size 1 --seed 42\"\n",
    "    print(f\"Executing: {command}\")\n",
    "    get_ipython().system(command)"
   ]
  },
  {
   "cell_type": "code",
   "execution_count": null,
   "id": "35af0dfe02106e95",
   "metadata": {
    "jupyter": {
     "is_executing": true
    }
   },
   "outputs": [],
   "source": [
    "bias_types = [\n",
    "    \"gender\", \n",
    "    \"religion\", \n",
    "    \"race-color\"\n",
    "]\n",
    "\n",
    "for bias in bias_types:\n",
    "    command = f\"python stereoset_debias.py --model 'INLPPhi2LMHeadModel' --model_name_or_path 'microsoft/phi-2' --projection_matrix '../results/projection_matrix/n_classifiers_10/projection_m-PhiForCausalLM_NonBFloat16_c-microsoft_phi-2_t-{bias}_s-42.pt' --bias_type '{bias}' --batch_size 1 --seed 42\"\n",
    "    print(f\"Executing: {command}\")\n",
    "    get_ipython().system(command)"
   ]
  },
  {
   "cell_type": "code",
   "execution_count": null,
   "id": "7e40b7db0f258836",
   "metadata": {
    "jupyter": {
     "is_executing": true
    }
   },
   "outputs": [],
   "source": [
    "bias_types = [\n",
    "    \"gender\", \n",
    "    \"religion\", \n",
    "    \"race-color\"\n",
    "]\n",
    "\n",
    "for bias in bias_types:\n",
    "    command = f\"python stereoset_debias.py --model 'INLPLlama2LMHeadModel' --model_name_or_path 'meta-llama/Llama-2-7b-hf' --projection_matrix '../results/projection_matrix/n_classifiers_10/projection_m-LlamaForCausalLM_NonBFloat16_c-meta-llama_Llama-2-7b-hf_t-{bias}_s-42.pt' --bias_type '{bias}' --batch_size 1 --seed 42\"\n",
    "    print(f\"Executing: {command}\")\n",
    "    get_ipython().system(command)"
   ]
  },
  {
   "cell_type": "code",
   "execution_count": null,
   "id": "7900941eb75526c4",
   "metadata": {},
   "outputs": [],
   "source": []
  }
 ],
 "metadata": {
  "kernelspec": {
   "display_name": "Python 3",
   "language": "python",
   "name": "python3"
  },
  "language_info": {
   "codemirror_mode": {
    "name": "ipython",
    "version": 2
   },
   "file_extension": ".py",
   "mimetype": "text/x-python",
   "name": "python",
   "nbconvert_exporter": "python",
   "pygments_lexer": "ipython2",
   "version": "2.7.6"
  }
 },
 "nbformat": 4,
 "nbformat_minor": 5
}
