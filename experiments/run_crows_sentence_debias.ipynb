{
 "cells": [
  {
   "cell_type": "code",
   "execution_count": 8,
   "id": "ea0dd4b74ec380b6",
   "metadata": {
    "ExecuteTime": {
     "end_time": "2024-06-19T23:43:04.347664Z",
     "start_time": "2024-06-19T23:42:52.093203Z"
    }
   },
   "outputs": [
    {
     "name": "stdout",
     "output_type": "stream",
     "text": [
      "/home/FYP/on0008an/.conda/envs/RunJupyter/lib/python3.10/site-packages/scipy/__init__.py:146: UserWarning: A NumPy version >=1.16.5 and <1.23.0 is required for this version of SciPy (detected version 1.26.4\r\n",
      "  warnings.warn(f\"A NumPy version >={np_minversion} and <{np_maxversion}\"\r\n",
      "The token has not been saved to the git credentials helper. Pass `add_to_git_credential=True` in this function directly or `--add-to-git-credential` if using via `huggingface-cli` if you want to set the git credential as well.\r\n",
      "Token is valid (permission: read).\r\n",
      "Your token has been saved to /home/FYP/on0008an/.cache/huggingface/token\r\n",
      "Login successful\r\n",
      "Running CrowS-Pairs benchmark:\r\n",
      " - persistent_dir: /home/FYP/on0008an/bias-bench-main\r\n",
      " - model: SentenceDebiasGPT2LMHeadModel\r\n",
      " - model_name_or_path: gpt2\r\n",
      " - bias_direction: ../results/subspace/subspace_m-GPT2Model_c-gpt2_t-religion.pt\r\n",
      " - projection_matrix: None\r\n",
      " - load_path: None\r\n",
      " - bias_type: religion\r\n",
      "Evaluating religion examples.\r\n",
      "Unconditional start token: <|endoftext|>\r\n",
      "100%|█████████████████████████████████████████| 105/105 [00:04<00:00, 23.38it/s]\r\n",
      "====================================================================================================\r\n",
      "Total examples: 105\r\n",
      "Metric score: 34.29\r\n",
      "Stereotype score: 31.31\r\n",
      "Anti-stereotype score: 83.33\r\n",
      "Num. neutral: 0.0\r\n",
      "====================================================================================================\r\n",
      "\r\n",
      "Metric: {'religion': {'Total examples': 105, 'Metric score': 34.29, 'Stereotype score': 31.31, 'Anti-stereotype score': 83.33, 'Num. neutral': 0.0}}\r\n"
     ]
    }
   ],
   "source": [
    "!python crows_debias.py --bias_type \"religion\" --model \"SentenceDebiasGPT2LMHeadModel\" --model_name_or_path \"gpt2\" --bias_direction \"../results/subspace/subspace_m-GPT2Model_c-gpt2_t-religion.pt\""
   ]
  },
  {
   "cell_type": "code",
   "execution_count": 7,
   "id": "aff894b26cc8f8e",
   "metadata": {
    "ExecuteTime": {
     "end_time": "2024-06-19T23:42:45.495181Z",
     "start_time": "2024-06-19T23:42:32.517335Z"
    }
   },
   "outputs": [
    {
     "name": "stdout",
     "output_type": "stream",
     "text": [
      "/home/FYP/on0008an/.conda/envs/RunJupyter/lib/python3.10/site-packages/scipy/__init__.py:146: UserWarning: A NumPy version >=1.16.5 and <1.23.0 is required for this version of SciPy (detected version 1.26.4\r\n",
      "  warnings.warn(f\"A NumPy version >={np_minversion} and <{np_maxversion}\"\r\n",
      "The token has not been saved to the git credentials helper. Pass `add_to_git_credential=True` in this function directly or `--add-to-git-credential` if using via `huggingface-cli` if you want to set the git credential as well.\r\n",
      "Token is valid (permission: read).\r\n",
      "Your token has been saved to /home/FYP/on0008an/.cache/huggingface/token\r\n",
      "Login successful\r\n",
      "Running CrowS-Pairs benchmark:\r\n",
      " - persistent_dir: /home/FYP/on0008an/bias-bench-main\r\n",
      " - model: SentenceDebiasGPT2LMHeadModel\r\n",
      " - model_name_or_path: gpt2\r\n",
      " - bias_direction: ../results/subspace/subspace_m-GPT2Model_c-gpt2_t-gender.pt\r\n",
      " - projection_matrix: None\r\n",
      " - load_path: None\r\n",
      " - bias_type: religion\r\n",
      "Evaluating religion examples.\r\n",
      "Unconditional start token: <|endoftext|>\r\n",
      "100%|█████████████████████████████████████████| 105/105 [00:04<00:00, 23.29it/s]\r\n",
      "====================================================================================================\r\n",
      "Total examples: 105\r\n",
      "Metric score: 66.67\r\n",
      "Stereotype score: 67.68\r\n",
      "Anti-stereotype score: 50.0\r\n",
      "Num. neutral: 0.0\r\n",
      "====================================================================================================\r\n",
      "\r\n",
      "Metric: {'religion': {'Total examples': 105, 'Metric score': 66.67, 'Stereotype score': 67.68, 'Anti-stereotype score': 50.0, 'Num. neutral': 0.0}}\r\n"
     ]
    }
   ],
   "source": [
    "!python crows_debias.py --bias_type \"religion\" --model \"SentenceDebiasGPT2LMHeadModel\" --model_name_or_path \"gpt2\" --bias_direction \"../results/subspace/subspace_m-GPT2Model_c-gpt2_t-gender.pt\""
   ]
  },
  {
   "cell_type": "code",
   "execution_count": 5,
   "id": "1270b0f5f9152670",
   "metadata": {
    "ExecuteTime": {
     "end_time": "2024-06-19T23:41:39.886614Z",
     "start_time": "2024-06-19T23:41:09.301874Z"
    }
   },
   "outputs": [
    {
     "name": "stdout",
     "output_type": "stream",
     "text": [
      "/home/FYP/on0008an/.conda/envs/RunJupyter/lib/python3.10/site-packages/scipy/__init__.py:146: UserWarning: A NumPy version >=1.16.5 and <1.23.0 is required for this version of SciPy (detected version 1.26.4\r\n",
      "  warnings.warn(f\"A NumPy version >={np_minversion} and <{np_maxversion}\"\r\n",
      "The token has not been saved to the git credentials helper. Pass `add_to_git_credential=True` in this function directly or `--add-to-git-credential` if using via `huggingface-cli` if you want to set the git credential as well.\r\n",
      "Token is valid (permission: read).\r\n",
      "Your token has been saved to /home/FYP/on0008an/.cache/huggingface/token\r\n",
      "Login successful\r\n",
      "Running CrowS-Pairs benchmark:\r\n",
      " - persistent_dir: /home/FYP/on0008an/bias-bench-main\r\n",
      " - model: SentenceDebiasPhi2LMHeadModel\r\n",
      " - model_name_or_path: microsoft/phi-2\r\n",
      " - bias_direction: ../results/subspace/subspace_m-PhiForCausalLM_NonBFloat16_c-microsoft_phi-2_t-gender.pt\r\n",
      " - projection_matrix: None\r\n",
      " - load_path: None\r\n",
      " - bias_type: religion\r\n",
      "Loading checkpoint shards: 100%|██████████████████| 2/2 [00:03<00:00,  1.79s/it]\r\n",
      "Special tokens have been added in the vocabulary, make sure the associated word embeddings are fine-tuned or trained.\r\n",
      "Evaluating religion examples.\r\n",
      "Unconditional start token: <|endoftext|>\r\n",
      "100%|█████████████████████████████████████████| 105/105 [00:12<00:00,  8.65it/s]\r\n",
      "====================================================================================================\r\n",
      "Total examples: 105\r\n",
      "Metric score: 68.57\r\n",
      "Stereotype score: 69.7\r\n",
      "Anti-stereotype score: 50.0\r\n",
      "Num. neutral: 0.0\r\n",
      "====================================================================================================\r\n",
      "\r\n",
      "Metric: {'religion': {'Total examples': 105, 'Metric score': 68.57, 'Stereotype score': 69.7, 'Anti-stereotype score': 50.0, 'Num. neutral': 0.0}}\r\n"
     ]
    }
   ],
   "source": [
    "!python crows_debias.py --bias_type \"gender\" --model \"SentenceDebiasPhi2LMHeadModel\" --model_name_or_path \"microsoft/phi-2\" --bias_direction \"../results/subspace/subspace_m-PhiForCausalLM_NonBFloat16_c-microsoft_phi-2_t-gender.pt\""
   ]
  },
  {
   "cell_type": "code",
   "execution_count": 4,
   "id": "777fb34404907ee2",
   "metadata": {
    "ExecuteTime": {
     "end_time": "2024-06-19T23:40:36.888974Z",
     "start_time": "2024-06-19T23:40:06.279898Z"
    }
   },
   "outputs": [
    {
     "name": "stdout",
     "output_type": "stream",
     "text": [
      "/home/FYP/on0008an/.conda/envs/RunJupyter/lib/python3.10/site-packages/scipy/__init__.py:146: UserWarning: A NumPy version >=1.16.5 and <1.23.0 is required for this version of SciPy (detected version 1.26.4\r\n",
      "  warnings.warn(f\"A NumPy version >={np_minversion} and <{np_maxversion}\"\r\n",
      "The token has not been saved to the git credentials helper. Pass `add_to_git_credential=True` in this function directly or `--add-to-git-credential` if using via `huggingface-cli` if you want to set the git credential as well.\r\n",
      "Token is valid (permission: read).\r\n",
      "Your token has been saved to /home/FYP/on0008an/.cache/huggingface/token\r\n",
      "Login successful\r\n",
      "Running CrowS-Pairs benchmark:\r\n",
      " - persistent_dir: /home/FYP/on0008an/bias-bench-main\r\n",
      " - model: SentenceDebiasPhi2LMHeadModel\r\n",
      " - model_name_or_path: microsoft/phi-2\r\n",
      " - bias_direction: ../results/subspace/subspace_m-PhiForCausalLM_NonBFloat16_c-microsoft_phi-2_t-religion.pt\r\n",
      " - projection_matrix: None\r\n",
      " - load_path: None\r\n",
      " - bias_type: religion\r\n",
      "Loading checkpoint shards: 100%|██████████████████| 2/2 [00:03<00:00,  1.79s/it]\r\n",
      "Special tokens have been added in the vocabulary, make sure the associated word embeddings are fine-tuned or trained.\r\n",
      "Evaluating religion examples.\r\n",
      "Unconditional start token: <|endoftext|>\r\n",
      "100%|█████████████████████████████████████████| 105/105 [00:12<00:00,  8.68it/s]\r\n",
      "====================================================================================================\r\n",
      "Total examples: 105\r\n",
      "Metric score: 68.57\r\n",
      "Stereotype score: 69.7\r\n",
      "Anti-stereotype score: 50.0\r\n",
      "Num. neutral: 0.0\r\n",
      "====================================================================================================\r\n",
      "\r\n",
      "Metric: {'religion': {'Total examples': 105, 'Metric score': 68.57, 'Stereotype score': 69.7, 'Anti-stereotype score': 50.0, 'Num. neutral': 0.0}}\r\n"
     ]
    }
   ],
   "source": [
    "!python crows_debias.py --bias_type \"religion\" --model \"SentenceDebiasPhi2LMHeadModel\" --model_name_or_path \"microsoft/phi-2\" --bias_direction \"../results/subspace/subspace_m-PhiForCausalLM_NonBFloat16_c-microsoft_phi-2_t-religion.pt\""
   ]
  },
  {
   "cell_type": "code",
   "execution_count": 9,
   "id": "1e5ad48781ae716a",
   "metadata": {
    "ExecuteTime": {
     "end_time": "2024-06-19T23:46:49.011171Z",
     "start_time": "2024-06-19T23:45:29.515510Z"
    }
   },
   "outputs": [
    {
     "name": "stdout",
     "output_type": "stream",
     "text": [
      "/home/FYP/on0008an/.conda/envs/RunJupyter/lib/python3.10/site-packages/scipy/__init__.py:146: UserWarning: A NumPy version >=1.16.5 and <1.23.0 is required for this version of SciPy (detected version 1.26.4\r\n",
      "  warnings.warn(f\"A NumPy version >={np_minversion} and <{np_maxversion}\"\r\n",
      "The token has not been saved to the git credentials helper. Pass `add_to_git_credential=True` in this function directly or `--add-to-git-credential` if using via `huggingface-cli` if you want to set the git credential as well.\r\n",
      "Token is valid (permission: read).\r\n",
      "Your token has been saved to /home/FYP/on0008an/.cache/huggingface/token\r\n",
      "Login successful\r\n",
      "Running CrowS-Pairs benchmark:\r\n",
      " - persistent_dir: /home/FYP/on0008an/bias-bench-main\r\n",
      " - model: SentenceDebiasLlama2LMHeadModel\r\n",
      " - model_name_or_path: meta-llama/Llama-2-7b-hf\r\n",
      " - bias_direction: ../results/subspace/subspace_m-LlamaForCausalLM_NonBFloat16_c-meta-llama_Llama-2-7b-hf_t-gender.pt\r\n",
      " - projection_matrix: None\r\n",
      " - load_path: None\r\n",
      " - bias_type: gender\r\n",
      "Loading checkpoint shards: 100%|██████████████████| 2/2 [00:08<00:00,  4.14s/it]\r\n",
      "Evaluating gender examples.\r\n",
      "Unconditional start token: <s>\r\n",
      "100%|█████████████████████████████████████████| 262/262 [00:52<00:00,  4.95it/s]\r\n",
      "====================================================================================================\r\n",
      "Total examples: 262\r\n",
      "Metric score: 65.27\r\n",
      "Stereotype score: 68.55\r\n",
      "Anti-stereotype score: 60.19\r\n",
      "Num. neutral: 0.0\r\n",
      "====================================================================================================\r\n",
      "\r\n",
      "Metric: {'gender': {'Total examples': 262, 'Metric score': 65.27, 'Stereotype score': 68.55, 'Anti-stereotype score': 60.19, 'Num. neutral': 0.0}}\r\n"
     ]
    }
   ],
   "source": [
    "!python crows_debias.py --bias_type \"gender\" --model \"SentenceDebiasLlama2LMHeadModel\" --model_name_or_path \"meta-llama/Llama-2-7b-hf\" --bias_direction \"../results/subspace/subspace_m-LlamaForCausalLM_NonBFloat16_c-meta-llama_Llama-2-7b-hf_t-gender.pt\""
   ]
  },
  {
   "cell_type": "code",
   "execution_count": 10,
   "id": "e3890584a3da122f",
   "metadata": {
    "ExecuteTime": {
     "end_time": "2024-06-19T23:48:08.690625Z",
     "start_time": "2024-06-19T23:46:49.013545Z"
    }
   },
   "outputs": [
    {
     "name": "stdout",
     "output_type": "stream",
     "text": [
      "/home/FYP/on0008an/.conda/envs/RunJupyter/lib/python3.10/site-packages/scipy/__init__.py:146: UserWarning: A NumPy version >=1.16.5 and <1.23.0 is required for this version of SciPy (detected version 1.26.4\r\n",
      "  warnings.warn(f\"A NumPy version >={np_minversion} and <{np_maxversion}\"\r\n",
      "The token has not been saved to the git credentials helper. Pass `add_to_git_credential=True` in this function directly or `--add-to-git-credential` if using via `huggingface-cli` if you want to set the git credential as well.\r\n",
      "Token is valid (permission: read).\r\n",
      "Your token has been saved to /home/FYP/on0008an/.cache/huggingface/token\r\n",
      "Login successful\r\n",
      "Running CrowS-Pairs benchmark:\r\n",
      " - persistent_dir: /home/FYP/on0008an/bias-bench-main\r\n",
      " - model: SentenceDebiasLlama2LMHeadModel\r\n",
      " - model_name_or_path: meta-llama/Llama-2-7b-hf\r\n",
      " - bias_direction: ../results/subspace/subspace_m-LlamaForCausalLM_NonBFloat16_c-meta-llama_Llama-2-7b-hf_t-religion.pt\r\n",
      " - projection_matrix: None\r\n",
      " - load_path: None\r\n",
      " - bias_type: gender\r\n",
      "Loading checkpoint shards: 100%|██████████████████| 2/2 [00:08<00:00,  4.11s/it]\r\n",
      "Evaluating gender examples.\r\n",
      "Unconditional start token: <s>\r\n",
      "100%|█████████████████████████████████████████| 262/262 [00:53<00:00,  4.94it/s]\r\n",
      "====================================================================================================\r\n",
      "Total examples: 262\r\n",
      "Metric score: 65.27\r\n",
      "Stereotype score: 68.55\r\n",
      "Anti-stereotype score: 60.19\r\n",
      "Num. neutral: 0.0\r\n",
      "====================================================================================================\r\n",
      "\r\n",
      "Metric: {'gender': {'Total examples': 262, 'Metric score': 65.27, 'Stereotype score': 68.55, 'Anti-stereotype score': 60.19, 'Num. neutral': 0.0}}\r\n"
     ]
    }
   ],
   "source": [
    "!python crows_debias.py --bias_type \"gender\" --model \"SentenceDebiasLlama2LMHeadModel\" --model_name_or_path \"meta-llama/Llama-2-7b-hf\" --bias_direction \"../results/subspace/subspace_m-LlamaForCausalLM_NonBFloat16_c-meta-llama_Llama-2-7b-hf_t-religion.pt\""
   ]
  },
  {
   "cell_type": "code",
   "execution_count": null,
   "id": "cc41a76e4875326",
   "metadata": {},
   "outputs": [],
   "source": []
  }
 ],
 "metadata": {
  "kernelspec": {
   "display_name": "Python 3",
   "language": "python",
   "name": "python3"
  },
  "language_info": {
   "codemirror_mode": {
    "name": "ipython",
    "version": 2
   },
   "file_extension": ".py",
   "mimetype": "text/x-python",
   "name": "python",
   "nbconvert_exporter": "python",
   "pygments_lexer": "ipython2",
   "version": "2.7.6"
  }
 },
 "nbformat": 4,
 "nbformat_minor": 5
}
