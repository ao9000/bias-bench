{
 "cells": [
  {
   "cell_type": "code",
   "execution_count": 2,
   "id": "initial_id",
   "metadata": {
    "ExecuteTime": {
     "end_time": "2024-06-17T10:13:58.523543Z",
     "start_time": "2024-06-17T10:13:35.862695Z"
    },
    "collapsed": true
   },
   "outputs": [
    {
     "name": "stdout",
     "output_type": "stream",
     "text": [
      "/home/FYP/on0008an/.conda/envs/RunJupyter/lib/python3.10/site-packages/scipy/__init__.py:146: UserWarning: A NumPy version >=1.16.5 and <1.23.0 is required for this version of SciPy (detected version 1.26.4\r\n",
      "  warnings.warn(f\"A NumPy version >={np_minversion} and <{np_maxversion}\"\r\n",
      "The token has not been saved to the git credentials helper. Pass `add_to_git_credential=True` in this function directly or `--add-to-git-credential` if using via `huggingface-cli` if you want to set the git credential as well.\r\n",
      "Token is valid (permission: read).\r\n",
      "Your token has been saved to /home/FYP/on0008an/.cache/huggingface/token\r\n",
      "Login successful\r\n",
      "Running CrowS-Pairs benchmark:\r\n",
      " - persistent_dir: /home/FYP/on0008an/bias-bench-main\r\n",
      " - model: SentenceDebiasGPT2LMHeadModel\r\n",
      " - model_name_or_path: gpt2\r\n",
      " - bias_direction: ../results/subspace/subspace_m-GPT2Model_c-gpt2_t-gender.pt\r\n",
      " - projection_matrix: None\r\n",
      " - load_path: None\r\n",
      " - bias_type: gender\r\n",
      "Evaluating gender examples.\r\n",
      "Unconditional start token: <|endoftext|>\r\n",
      "100%|█████████████████████████████████████████| 262/262 [00:10<00:00, 25.40it/s]\r\n",
      "====================================================================================================\r\n",
      "Total examples: 262\r\n",
      "Metric score: 54.96\r\n",
      "Stereotype score: 49.69\r\n",
      "Anti-stereotype score: 63.11\r\n",
      "Num. neutral: 0.0\r\n",
      "====================================================================================================\r\n",
      "\r\n",
      "Metric: {'gender': {'Total examples': 262, 'Metric score': 54.96, 'Stereotype score': 49.69, 'Anti-stereotype score': 63.11, 'Num. neutral': 0.0}}\r\n"
     ]
    }
   ],
   "source": [
    "!python crows_debias.py --bias_type \"gender\" --model \"SentenceDebiasGPT2LMHeadModel\" --model_name_or_path \"gpt2\" --bias_direction \"../results/subspace/subspace_m-GPT2Model_c-gpt2_t-gender.pt\""
   ]
  },
  {
   "cell_type": "code",
   "execution_count": null,
   "id": "ea0dd4b74ec380b6",
   "metadata": {},
   "outputs": [],
   "source": []
  }
 ],
 "metadata": {
  "kernelspec": {
   "display_name": "Python 3",
   "language": "python",
   "name": "python3"
  },
  "language_info": {
   "codemirror_mode": {
    "name": "ipython",
    "version": 2
   },
   "file_extension": ".py",
   "mimetype": "text/x-python",
   "name": "python",
   "nbconvert_exporter": "python",
   "pygments_lexer": "ipython2",
   "version": "2.7.6"
  }
 },
 "nbformat": 4,
 "nbformat_minor": 5
}
