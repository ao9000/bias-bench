{
 "cells": [
  {
   "cell_type": "code",
   "execution_count": 1,
   "id": "initial_id",
   "metadata": {
    "ExecuteTime": {
     "end_time": "2024-06-20T10:35:40.840899Z",
     "start_time": "2024-06-20T10:35:17.656570Z"
    },
    "collapsed": true
   },
   "outputs": [
    {
     "name": "stdout",
     "output_type": "stream",
     "text": [
      "/home/FYP/on0008an/.conda/envs/RunJupyter/lib/python3.10/site-packages/scipy/__init__.py:146: UserWarning: A NumPy version >=1.16.5 and <1.23.0 is required for this version of SciPy (detected version 1.26.4\r\n",
      "  warnings.warn(f\"A NumPy version >={np_minversion} and <{np_maxversion}\"\r\n",
      "The token has not been saved to the git credentials helper. Pass `add_to_git_credential=True` in this function directly or `--add-to-git-credential` if using via `huggingface-cli` if you want to set the git credential as well.\r\n",
      "Token is valid (permission: read).\r\n",
      "Your token has been saved to /home/FYP/on0008an/.cache/huggingface/token\r\n",
      "Login successful\r\n",
      "Running CrowS-Pairs benchmark:\r\n",
      " - persistent_dir: /home/FYP/on0008an/bias-bench-main\r\n",
      " - model: INLPGPT2LMHeadModel\r\n",
      " - model_name_or_path: gpt2\r\n",
      " - bias_direction: None\r\n",
      " - projection_matrix: ../results/projection_matrix/projection_m-GPT2Model_c-gpt2_t-gender_s-0.pt\r\n",
      " - load_path: None\r\n",
      " - bias_type: gender\r\n",
      "Evaluating gender examples.\r\n",
      "Unconditional start token: <|endoftext|>\r\n",
      "100%|█████████████████████████████████████████| 262/262 [00:12<00:00, 21.79it/s]\r\n",
      "====================================================================================================\r\n",
      "Total examples: 262\r\n",
      "Metric score: 47.33\r\n",
      "Stereotype score: 37.11\r\n",
      "Anti-stereotype score: 63.11\r\n",
      "Num. neutral: 0.0\r\n",
      "====================================================================================================\r\n",
      "\r\n",
      "Metric: {'gender': {'Total examples': 262, 'Metric score': 47.33, 'Stereotype score': 37.11, 'Anti-stereotype score': 63.11, 'Num. neutral': 0.0}}\r\n",
      "Traceback (most recent call last):\r\n",
      "  File \"/home/FYP/on0008an/bias-bench-main/experiments/crows_debias.py\", line 170, in <module>\r\n",
      "    with open(f\"{args.persistent_dir}/results/crows_{get_debias_method()}/{experiment_id}.json\", \"w\") as f:\r\n",
      "FileNotFoundError: [Errno 2] No such file or directory: '/home/FYP/on0008an/bias-bench-main/results/crows_INLP/crows_m-INLPGPT2LMHeadModel_c-gpt2_t-gender.json'\r\n"
     ]
    }
   ],
   "source": [
    "!python crows_debias.py --model \"INLPGPT2LMHeadModel\" --model_name_or_path \"gpt2\" --projection_matrix \"../results/projection_matrix/projection_m-GPT2Model_c-gpt2_t-gender_s-0.pt\" --bias_type \"gender\""
   ]
  },
  {
   "cell_type": "code",
   "execution_count": 6,
   "id": "48926d590063ae98",
   "metadata": {
    "ExecuteTime": {
     "end_time": "2024-06-20T11:12:49.808652Z",
     "start_time": "2024-06-20T11:11:53.321710Z"
    }
   },
   "outputs": [
    {
     "name": "stdout",
     "output_type": "stream",
     "text": [
      "/home/FYP/on0008an/.conda/envs/RunJupyter/lib/python3.10/site-packages/scipy/__init__.py:146: UserWarning: A NumPy version >=1.16.5 and <1.23.0 is required for this version of SciPy (detected version 1.26.4\r\n",
      "  warnings.warn(f\"A NumPy version >={np_minversion} and <{np_maxversion}\"\r\n",
      "The token has not been saved to the git credentials helper. Pass `add_to_git_credential=True` in this function directly or `--add-to-git-credential` if using via `huggingface-cli` if you want to set the git credential as well.\r\n",
      "Token is valid (permission: read).\r\n",
      "Your token has been saved to /home/FYP/on0008an/.cache/huggingface/token\r\n",
      "Login successful\r\n",
      "Running CrowS-Pairs benchmark:\r\n",
      " - persistent_dir: /home/FYP/on0008an/bias-bench-main\r\n",
      " - model: INLPPhi2LMHeadModel\r\n",
      " - model_name_or_path: microsoft/phi-2\r\n",
      " - bias_direction: None\r\n",
      " - projection_matrix: ../results/projection_matrix/projection_m-PhiForCausalLM_NonBFloat16_c-microsoft_phi-2_t-gender_s-42.pt\r\n",
      " - load_path: None\r\n",
      " - bias_type: gender\r\n",
      "Loading checkpoint shards: 100%|██████████████████| 2/2 [00:06<00:00,  3.36s/it]\r\n",
      "Special tokens have been added in the vocabulary, make sure the associated word embeddings are fine-tuned or trained.\r\n",
      "Evaluating gender examples.\r\n",
      "Unconditional start token: <|endoftext|>\r\n",
      "100%|█████████████████████████████████████████| 262/262 [00:35<00:00,  7.47it/s]\r\n",
      "====================================================================================================\r\n",
      "Total examples: 262\r\n",
      "Metric score: 60.31\r\n",
      "Stereotype score: 67.92\r\n",
      "Anti-stereotype score: 48.54\r\n",
      "Num. neutral: 0.0\r\n",
      "====================================================================================================\r\n",
      "\r\n",
      "Metric: {'gender': {'Total examples': 262, 'Metric score': 60.31, 'Stereotype score': 67.92, 'Anti-stereotype score': 48.54, 'Num. neutral': 0.0}}\r\n"
     ]
    }
   ],
   "source": [
    "!python crows_debias.py --model \"INLPPhi2LMHeadModel\" --model_name_or_path \"microsoft/phi-2\" --projection_matrix \"../results/projection_matrix/projection_m-PhiForCausalLM_NonBFloat16_c-microsoft_phi-2_t-gender_s-42.pt\" --bias_type \"gender\""
   ]
  },
  {
   "cell_type": "code",
   "execution_count": 26,
   "id": "c3d3c6c9256b8d95",
   "metadata": {
    "ExecuteTime": {
     "end_time": "2024-06-20T13:24:50.434323Z",
     "start_time": "2024-06-20T13:23:53.842079Z"
    }
   },
   "outputs": [
    {
     "name": "stdout",
     "output_type": "stream",
     "text": [
      "/home/FYP/on0008an/.conda/envs/RunJupyter/lib/python3.10/site-packages/scipy/__init__.py:146: UserWarning: A NumPy version >=1.16.5 and <1.23.0 is required for this version of SciPy (detected version 1.26.4\r\n",
      "  warnings.warn(f\"A NumPy version >={np_minversion} and <{np_maxversion}\"\r\n",
      "The token has not been saved to the git credentials helper. Pass `add_to_git_credential=True` in this function directly or `--add-to-git-credential` if using via `huggingface-cli` if you want to set the git credential as well.\r\n",
      "Token is valid (permission: read).\r\n",
      "Your token has been saved to /home/FYP/on0008an/.cache/huggingface/token\r\n",
      "Login successful\r\n",
      "Running CrowS-Pairs benchmark:\r\n",
      " - persistent_dir: /home/FYP/on0008an/bias-bench-main\r\n",
      " - model: INLPPhi2LMHeadModel\r\n",
      " - model_name_or_path: microsoft/phi-2\r\n",
      " - bias_direction: None\r\n",
      " - projection_matrix: ../results/projection_matrix/projection_m-PhiForCausalLM_NonBFloat16_c-microsoft_phi-2_t-gender_s-42.pt\r\n",
      " - load_path: None\r\n",
      " - bias_type: gender\r\n",
      "Loading checkpoint shards: 100%|██████████████████| 2/2 [00:07<00:00,  3.53s/it]\r\n",
      "Special tokens have been added in the vocabulary, make sure the associated word embeddings are fine-tuned or trained.\r\n",
      "Evaluating gender examples.\r\n",
      "Unconditional start token: <|endoftext|>\r\n",
      "100%|█████████████████████████████████████████| 262/262 [00:34<00:00,  7.67it/s]\r\n",
      "====================================================================================================\r\n",
      "Total examples: 262\r\n",
      "Metric score: 60.31\r\n",
      "Stereotype score: 67.92\r\n",
      "Anti-stereotype score: 48.54\r\n",
      "Num. neutral: 0.0\r\n",
      "====================================================================================================\r\n",
      "\r\n",
      "Metric: {'gender': {'Total examples': 262, 'Metric score': 60.31, 'Stereotype score': 67.92, 'Anti-stereotype score': 48.54, 'Num. neutral': 0.0}}\r\n"
     ]
    }
   ],
   "source": [
    "!python crows_debias.py --model \"INLPPhi2LMHeadModel\" --model_name_or_path \"microsoft/phi-2\" --projection_matrix \"../results/projection_matrix/projection_m-PhiForCausalLM_NonBFloat16_c-microsoft_phi-2_t-gender_s-42.pt\" --bias_type \"gender\""
   ]
  },
  {
   "cell_type": "code",
   "execution_count": null,
   "id": "6ba2de359c3a3dad",
   "metadata": {},
   "outputs": [],
   "source": []
  }
 ],
 "metadata": {
  "kernelspec": {
   "display_name": "Python 3",
   "language": "python",
   "name": "python3"
  },
  "language_info": {
   "codemirror_mode": {
    "name": "ipython",
    "version": 2
   },
   "file_extension": ".py",
   "mimetype": "text/x-python",
   "name": "python",
   "nbconvert_exporter": "python",
   "pygments_lexer": "ipython2",
   "version": "2.7.6"
  }
 },
 "nbformat": 4,
 "nbformat_minor": 5
}
