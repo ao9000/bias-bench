{
 "cells": [
  {
   "cell_type": "code",
   "execution_count": 9,
   "id": "initial_id",
   "metadata": {
    "ExecuteTime": {
     "end_time": "2024-06-12T16:26:38.902333Z",
     "start_time": "2024-06-12T16:25:12.889447Z"
    },
    "collapsed": true
   },
   "outputs": [
    {
     "name": "stdout",
     "output_type": "stream",
     "text": [
      "Loading checkpoint shards: 100%|██████████████████| 2/2 [00:07<00:00,  3.77s/it]\r\n",
      "Special tokens have been added in the vocabulary, make sure the associated word embeddings are fine-tuned or trained.\r\n",
      "Unloading and merging model: 100%|██████████| 487/487 [00:00<00:00, 6930.92it/s]\r\n"
     ]
    }
   ],
   "source": [
    "!python lora_merge_adapters.py --adapter_model_path \"/home/FYP/on0008an/bias-bench-main/results/phi2_CDA_training_seed0/\""
   ]
  },
  {
   "cell_type": "code",
   "execution_count": 15,
   "id": "77db12ce38f354f1",
   "metadata": {
    "ExecuteTime": {
     "end_time": "2024-06-12T16:50:46.330692Z",
     "start_time": "2024-06-12T16:48:43.427851Z"
    }
   },
   "outputs": [
    {
     "name": "stdout",
     "output_type": "stream",
     "text": [
      "Loading checkpoint shards: 100%|██████████████████| 2/2 [00:18<00:00,  9.38s/it]\r\n",
      "Unloading and merging model: 100%|██████████| 518/518 [00:00<00:00, 6858.87it/s]\r\n",
      "Saved final merged checkpoint to: /home/FYP/on0008an/bias-bench-main/results/llama2_CDA_training_seed0/merged_adapters\r\n"
     ]
    }
   ],
   "source": [
    "!python lora_merge_adapters.py --adapter_model_path \"/home/FYP/on0008an/bias-bench-main/results/llama2_CDA_training_seed0/\""
   ]
  },
  {
   "cell_type": "code",
   "execution_count": null,
   "id": "f6663f8e3b2f3f7f",
   "metadata": {},
   "outputs": [],
   "source": []
  }
 ],
 "metadata": {
  "kernelspec": {
   "display_name": "Python 3",
   "language": "python",
   "name": "python3"
  },
  "language_info": {
   "codemirror_mode": {
    "name": "ipython",
    "version": 2
   },
   "file_extension": ".py",
   "mimetype": "text/x-python",
   "name": "python",
   "nbconvert_exporter": "python",
   "pygments_lexer": "ipython2",
   "version": "2.7.6"
  }
 },
 "nbformat": 4,
 "nbformat_minor": 5
}
