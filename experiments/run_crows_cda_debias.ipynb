{
 "cells": [
  {
   "cell_type": "code",
   "execution_count": 1,
   "id": "initial_id",
   "metadata": {
    "ExecuteTime": {
     "end_time": "2024-06-12T06:56:49.171052Z",
     "start_time": "2024-06-12T06:56:28.103292Z"
    },
    "collapsed": true
   },
   "outputs": [
    {
     "name": "stdout",
     "output_type": "stream",
     "text": [
      "/home/FYP/on0008an/.conda/envs/RunJupyter/lib/python3.10/site-packages/scipy/__init__.py:146: UserWarning: A NumPy version >=1.16.5 and <1.23.0 is required for this version of SciPy (detected version 1.26.4\r\n",
      "  warnings.warn(f\"A NumPy version >={np_minversion} and <{np_maxversion}\"\r\n",
      "The token has not been saved to the git credentials helper. Pass `add_to_git_credential=True` in this function directly or `--add-to-git-credential` if using via `huggingface-cli` if you want to set the git credential as well.\r\n",
      "Token is valid (permission: read).\r\n",
      "Your token has been saved to /home/FYP/on0008an/.cache/huggingface/token\r\n",
      "Login successful\r\n",
      "Running CrowS-Pairs benchmark:\r\n",
      " - persistent_dir: /home/FYP/on0008an/bias-bench-main\r\n",
      " - model: CDAGPT2LMHeadModel\r\n",
      " - model_name_or_path: gpt2\r\n",
      " - bias_direction: None\r\n",
      " - projection_matrix: None\r\n",
      " - load_path: /home/FYP/on0008an/bias-bench-main/results/gpt2_CDA_training_seed0_1kstep/checkpoint-1000\r\n",
      " - bias_type: gender\r\n",
      "Evaluating gender examples.\r\n",
      "Unconditional start token: <|endoftext|>\r\n",
      "  0%|                                                   | 0/262 [00:00<?, ?it/s]We strongly recommend passing in an `attention_mask` since your input_ids may be padded. See https://huggingface.co/docs/transformers/troubleshooting#incorrect-output-when-padding-tokens-arent-masked.\r\n",
      "You may ignore this warning if your `pad_token_id` (50256) is identical to the `bos_token_id` (50256), `eos_token_id` (50256), or the `sep_token_id` (None), and your input is not padded.\r\n",
      "100%|█████████████████████████████████████████| 262/262 [00:10<00:00, 24.72it/s]\r\n",
      "====================================================================================================\r\n",
      "Total examples: 262\r\n",
      "Metric score: 53.05\r\n",
      "Stereotype score: 56.6\r\n",
      "Anti-stereotype score: 47.57\r\n",
      "Num. neutral: 0.0\r\n",
      "====================================================================================================\r\n",
      "\r\n",
      "Metric: 53.05\r\n"
     ]
    }
   ],
   "source": [
    "!python crows_debias.py --model \"CDAGPT2LMHeadModel\" --model_name_or_path \"gpt2\" --load_path \"/home/FYP/on0008an/bias-bench-main/results/gpt2_CDA_training_seed0_1kstep/checkpoint-1000\" --bias_type \"gender\""
   ]
  },
  {
   "cell_type": "code",
   "execution_count": 3,
   "id": "9afff4bc2a517bb1",
   "metadata": {
    "ExecuteTime": {
     "end_time": "2024-06-12T15:20:32.238938Z",
     "start_time": "2024-06-12T15:19:40.252676Z"
    }
   },
   "outputs": [
    {
     "name": "stdout",
     "output_type": "stream",
     "text": [
      "/home/FYP/on0008an/.conda/envs/RunJupyter/lib/python3.10/site-packages/scipy/__init__.py:146: UserWarning: A NumPy version >=1.16.5 and <1.23.0 is required for this version of SciPy (detected version 1.26.4\r\n",
      "  warnings.warn(f\"A NumPy version >={np_minversion} and <{np_maxversion}\"\r\n",
      "The token has not been saved to the git credentials helper. Pass `add_to_git_credential=True` in this function directly or `--add-to-git-credential` if using via `huggingface-cli` if you want to set the git credential as well.\r\n",
      "Token is valid (permission: read).\r\n",
      "Your token has been saved to /home/FYP/on0008an/.cache/huggingface/token\r\n",
      "Login successful\r\n",
      "Running CrowS-Pairs benchmark:\r\n",
      " - persistent_dir: /home/FYP/on0008an/bias-bench-main\r\n",
      " - model: CDAPHI2LMHeadModel\r\n",
      " - model_name_or_path: microsoft/phi-2\r\n",
      " - bias_direction: None\r\n",
      " - projection_matrix: None\r\n",
      " - load_path: /home/FYP/on0008an/bias-bench-main/results/phi2_CDA_training_seed0/final_merged_checkpoint\r\n",
      " - bias_type: gender\r\n",
      "Loading checkpoint shards: 100%|██████████████████| 2/2 [00:06<00:00,  3.15s/it]\r\n",
      "Special tokens have been added in the vocabulary, make sure the associated word embeddings are fine-tuned or trained.\r\n",
      "Evaluating gender examples.\r\n",
      "Unconditional start token: <|endoftext|>\r\n",
      "100%|█████████████████████████████████████████| 262/262 [00:31<00:00,  8.42it/s]\r\n",
      "====================================================================================================\r\n",
      "Total examples: 262\r\n",
      "Metric score: 60.69\r\n",
      "Stereotype score: 67.92\r\n",
      "Anti-stereotype score: 49.51\r\n",
      "Num. neutral: 0.0\r\n",
      "====================================================================================================\r\n",
      "\r\n",
      "Metric: 60.69\r\n"
     ]
    }
   ],
   "source": [
    "!python crows_debias.py --model \"CDAPhi2LMHeadModel\" --model_name_or_path \"microsoft/phi-2\" --load_path \"/home/FYP/on0008an/bias-bench-main/results/phi2_CDA_training_seed0/final_merged_checkpoint\" --bias_type \"gender\""
   ]
  },
  {
   "cell_type": "code",
   "execution_count": 1,
   "id": "1537c7071554da09",
   "metadata": {
    "ExecuteTime": {
     "end_time": "2024-06-17T06:24:04.473067Z",
     "start_time": "2024-06-17T06:19:16.865672Z"
    }
   },
   "outputs": [
    {
     "name": "stdout",
     "output_type": "stream",
     "text": [
      "/home/FYP/on0008an/.conda/envs/RunJupyter/lib/python3.10/site-packages/scipy/__init__.py:146: UserWarning: A NumPy version >=1.16.5 and <1.23.0 is required for this version of SciPy (detected version 1.26.4\r\n",
      "  warnings.warn(f\"A NumPy version >={np_minversion} and <{np_maxversion}\"\r\n",
      "The token has not been saved to the git credentials helper. Pass `add_to_git_credential=True` in this function directly or `--add-to-git-credential` if using via `huggingface-cli` if you want to set the git credential as well.\r\n",
      "Token is valid (permission: read).\r\n",
      "Your token has been saved to /home/FYP/on0008an/.cache/huggingface/token\r\n",
      "Login successful\r\n",
      "Running CrowS-Pairs benchmark:\r\n",
      " - persistent_dir: /home/FYP/on0008an/bias-bench-main\r\n",
      " - model: CDALlama2LMHeadModel\r\n",
      " - model_name_or_path: meta-llama/Llama-2-7b-hf\r\n",
      " - bias_direction: None\r\n",
      " - projection_matrix: None\r\n",
      " - load_path: /home/FYP/on0008an/bias-bench-main/results/CDA_FT/llama2/gender/checkpoint-200/merged_adapters\r\n",
      " - bias_type: gender\r\n",
      "Loading checkpoint shards: 100%|██████████████████| 3/3 [00:17<00:00,  5.92s/it]\r\n",
      "Evaluating gender examples.\r\n",
      "Unconditional start token: <s>\r\n",
      "100%|█████████████████████████████████████████| 262/262 [03:46<00:00,  1.16it/s]\r\n",
      "====================================================================================================\r\n",
      "Total examples: 262\r\n",
      "Metric score: 64.12\r\n",
      "Stereotype score: 64.78\r\n",
      "Anti-stereotype score: 63.11\r\n",
      "Num. neutral: 0.0\r\n",
      "====================================================================================================\r\n",
      "\r\n",
      "Metric: {'gender': {'Total examples': 262, 'Metric score': 64.12, 'Stereotype score': 64.78, 'Anti-stereotype score': 63.11, 'Num. neutral': 0.0}}\r\n",
      "Traceback (most recent call last):\r\n",
      "  File \"/home/FYP/on0008an/bias-bench-main/experiments/crows_debias.py\", line 165, in <module>\r\n",
      "    with open(f\"{args.persistent_dir}/results/crows_{get_debias_method()}/{experiment_id}.json\", \"w\") as f:\r\n",
      "FileNotFoundError: [Errno 2] No such file or directory: '/home/FYP/on0008an/bias-bench-main/results/crows_CDA/crows_m-CDALlama2LMHeadModel_c-meta-llama_Llama-2-7b-hf_t-gender.json'\r\n"
     ]
    }
   ],
   "source": [
    "!python crows_debias.py --model \"CDALlama2LMHeadModel\" --model_name_or_path \"meta-llama/Llama-2-7b-hf\" --load_path \"/home/FYP/on0008an/bias-bench-main/results/CDA_FT/llama2/gender/checkpoint-200/merged_adapters\" --bias_type \"gender\""
   ]
  },
  {
   "cell_type": "code",
   "execution_count": null,
   "id": "b9f3db2630a0f2e5",
   "metadata": {},
   "outputs": [],
   "source": []
  }
 ],
 "metadata": {
  "kernelspec": {
   "display_name": "Python 3",
   "language": "python",
   "name": "python3"
  },
  "language_info": {
   "codemirror_mode": {
    "name": "ipython",
    "version": 2
   },
   "file_extension": ".py",
   "mimetype": "text/x-python",
   "name": "python",
   "nbconvert_exporter": "python",
   "pygments_lexer": "ipython2",
   "version": "2.7.6"
  }
 },
 "nbformat": 4,
 "nbformat_minor": 5
}
