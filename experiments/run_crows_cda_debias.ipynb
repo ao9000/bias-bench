{
 "cells": [
  {
   "cell_type": "code",
   "execution_count": 1,
   "id": "initial_id",
   "metadata": {
    "ExecuteTime": {
     "end_time": "2024-06-11T07:31:25.550640Z",
     "start_time": "2024-06-11T07:31:04.205233Z"
    },
    "collapsed": true
   },
   "outputs": [
    {
     "name": "stdout",
     "output_type": "stream",
     "text": [
      "The token has not been saved to the git credentials helper. Pass `add_to_git_credential=True` in this function directly or `--add-to-git-credential` if using via `huggingface-cli` if you want to set the git credential as well.\r\n",
      "Token is valid (permission: read).\r\n",
      "Your token has been saved to /home/FYP/on0008an/.cache/huggingface/token\r\n",
      "Login successful\r\n",
      "Running CrowS-Pairs benchmark:\r\n",
      " - persistent_dir: /home/FYP/on0008an/bias-bench-main\r\n",
      " - model: CDAGPT2LMHeadModel\r\n",
      " - model_name_or_path: gpt2\r\n",
      " - bias_direction: None\r\n",
      " - projection_matrix: None\r\n",
      " - load_path: /home/FYP/on0008an/bias-bench-main/results/CDA_checkpoints_seed0_gpt2/checkpoint-500\r\n",
      " - bias_type: gender\r\n",
      "Evaluating gender examples.\r\n",
      "Unconditional start token: <|endoftext|>\r\n",
      "  0%|                                                   | 0/262 [00:00<?, ?it/s]We strongly recommend passing in an `attention_mask` since your input_ids may be padded. See https://huggingface.co/docs/transformers/troubleshooting#incorrect-output-when-padding-tokens-arent-masked.\r\n",
      "You may ignore this warning if your `pad_token_id` (50256) is identical to the `bos_token_id` (50256), `eos_token_id` (50256), or the `sep_token_id` (None), and your input is not padded.\r\n",
      "100%|█████████████████████████████████████████| 262/262 [00:10<00:00, 24.79it/s]\r\n",
      "====================================================================================================\r\n",
      "Total examples: 262\r\n",
      "Metric score: 52.67\r\n",
      "Stereotype score: 56.6\r\n",
      "Anti-stereotype score: 46.6\r\n",
      "Num. neutral: 0.0\r\n",
      "====================================================================================================\r\n",
      "\r\n",
      "Metric: 52.67\r\n"
     ]
    }
   ],
   "source": [
    "!python crows_debias.py --model \"CDAGPT2LMHeadModel\" --model_name_or_path \"gpt2\" --load_path \"/home/FYP/on0008an/bias-bench-main/results/CDA_checkpoints_seed0_gpt2/checkpoint-500\" --bias_type \"gender\""
   ]
  },
  {
   "cell_type": "code",
   "execution_count": null,
   "id": "9afff4bc2a517bb1",
   "metadata": {},
   "outputs": [],
   "source": []
  }
 ],
 "metadata": {
  "kernelspec": {
   "display_name": "Python 3",
   "language": "python",
   "name": "python3"
  },
  "language_info": {
   "codemirror_mode": {
    "name": "ipython",
    "version": 2
   },
   "file_extension": ".py",
   "mimetype": "text/x-python",
   "name": "python",
   "nbconvert_exporter": "python",
   "pygments_lexer": "ipython2",
   "version": "2.7.6"
  }
 },
 "nbformat": 4,
 "nbformat_minor": 5
}
