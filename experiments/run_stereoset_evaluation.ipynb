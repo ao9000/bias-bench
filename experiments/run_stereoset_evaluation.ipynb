{
 "cells": [
  {
   "cell_type": "markdown",
   "id": "24f465fa3d7aa137",
   "metadata": {},
   "source": [
    "# Process results into Scores"
   ]
  },
  {
   "cell_type": "code",
   "execution_count": 5,
   "id": "initial_id",
   "metadata": {
    "ExecuteTime": {
     "end_time": "2024-06-03T13:12:38.177413Z",
     "start_time": "2024-06-03T13:12:32.895435Z"
    },
    "collapsed": true
   },
   "outputs": [
    {
     "name": "stdout",
     "output_type": "stream",
     "text": [
      "Evaluating StereoSet files:\r\n",
      " - predictions_file: ../results/stereoset/stereoset_m-AlbertForMaskedLM_c-albert-base-v2_s-1.json\r\n",
      " - predictions_dir: None\r\n",
      " - output_file: ../results/stereoset_processed/stereoset_m-AlbertForMaskedLM_c-albert-base-v2_s-1.json\r\n",
      "intrasentence\r\n",
      "\tgender\r\n",
      "\t\tCount: 2313.0\r\n",
      "\t\tLM Score: 89.34724209887877\r\n",
      "\t\tSS Score: 59.93052167999695\r\n",
      "\t\tICAT Score: 71.60194760466173\r\n",
      "\tprofession\r\n",
      "\t\tCount: 7194.0\r\n",
      "\t\tLM Score: 88.99877527050727\r\n",
      "\t\tSS Score: 60.39413028956939\r\n",
      "\t\tICAT Score: 70.49747795503208\r\n",
      "\trace\r\n",
      "\t\tCount: 8928.0\r\n",
      "\t\tLM Score: 90.2536318039791\r\n",
      "\t\tSS Score: 57.507842756335904\r\n",
      "\t\tICAT Score: 76.70143028852885\r\n",
      "\treligion\r\n",
      "\t\tCount: 741.0\r\n",
      "\t\tLM Score: 92.73233301165573\r\n",
      "\t\tSS Score: 60.321871420623125\r\n",
      "\t\tICAT Score: 73.58890865404142\r\n",
      "\toverall\r\n",
      "\t\tCount: 6392.0\r\n",
      "\t\tLM Score: 89.76677036473781\r\n",
      "\t\tSS Score: 58.98624153187074\r\n",
      "\t\tICAT Score: 73.63345276406761\r\n",
      "overall\r\n",
      "\tCount: 6392.0\r\n",
      "\tLM Score: 89.76677036473781\r\n",
      "\tSS Score: 58.98624153187074\r\n",
      "\tICAT Score: 73.63345276406761\r\n"
     ]
    }
   ],
   "source": [
    "!python stereoset_evaluation.py --predictions_file \"../results/stereoset/stereoset_m-AlbertForMaskedLM_c-albert-base-v2_s-1.json\" --output_file \"../results/stereoset_processed/stereoset_m-AlbertForMaskedLM_c-albert-base-v2_s-1.json\""
   ]
  },
  {
   "cell_type": "code",
   "execution_count": 6,
   "id": "64fa39401929b8bc",
   "metadata": {
    "ExecuteTime": {
     "end_time": "2024-06-03T13:12:43.054627Z",
     "start_time": "2024-06-03T13:12:38.179070Z"
    }
   },
   "outputs": [
    {
     "name": "stdout",
     "output_type": "stream",
     "text": [
      "Evaluating StereoSet files:\r\n",
      " - predictions_file: ../results/stereoset/stereoset_m-BertForMaskedLM_c-bert-base-uncased_s-1.json\r\n",
      " - predictions_dir: None\r\n",
      " - output_file: ../results/stereoset_processed/stereoset_m-BertForMaskedLM_c-bert-base-uncased_s-1.json\r\n",
      "intrasentence\r\n",
      "\tgender\r\n",
      "\t\tCount: 2313.0\r\n",
      "\t\tLM Score: 85.73970402503635\r\n",
      "\t\tSS Score: 60.278684896276104\r\n",
      "\t\tICAT Score: 68.11387600956986\r\n",
      "\tprofession\r\n",
      "\t\tCount: 7194.0\r\n",
      "\t\tLM Score: 83.85202686230224\r\n",
      "\t\tSS Score: 58.93389453546499\r\n",
      "\t\tICAT Score: 68.86952357084654\r\n",
      "\trace\r\n",
      "\t\tCount: 8928.0\r\n",
      "\t\tLM Score: 84.00827460718995\r\n",
      "\t\tSS Score: 57.02967880452161\r\n",
      "\t\tICAT Score: 72.19725085897807\r\n",
      "\treligion\r\n",
      "\t\tCount: 741.0\r\n",
      "\t\tLM Score: 84.21150995925436\r\n",
      "\t\tSS Score: 59.70419362150916\r\n",
      "\t\tICAT Score: 67.86741400316933\r\n",
      "\toverall\r\n",
      "\t\tCount: 6392.0\r\n",
      "\t\tLM Score: 84.17236429175225\r\n",
      "\t\tSS Score: 58.24009298588702\r\n",
      "\t\tICAT Score: 70.30060211963236\r\n",
      "overall\r\n",
      "\tCount: 6392.0\r\n",
      "\tLM Score: 84.17236429175225\r\n",
      "\tSS Score: 58.24009298588702\r\n",
      "\tICAT Score: 70.30060211963236\r\n"
     ]
    }
   ],
   "source": [
    "!python stereoset_evaluation.py --predictions_file \"../results/stereoset/stereoset_m-BertForMaskedLM_c-bert-base-uncased_s-1.json\" --output_file \"../results/stereoset_processed/stereoset_m-BertForMaskedLM_c-bert-base-uncased_s-1.json\""
   ]
  },
  {
   "cell_type": "code",
   "execution_count": 8,
   "id": "c58bf1ce926bdc49",
   "metadata": {
    "ExecuteTime": {
     "end_time": "2024-06-03T13:12:53.665701Z",
     "start_time": "2024-06-03T13:12:47.918747Z"
    }
   },
   "outputs": [
    {
     "name": "stdout",
     "output_type": "stream",
     "text": [
      "Evaluating StereoSet files:\r\n",
      " - predictions_file: ../results/stereoset/stereoset_m-RobertaForMaskedLM_c-roberta-base_s-1.json\r\n",
      " - predictions_dir: None\r\n",
      " - output_file: ../results/stereoset_processed/stereoset_m-RobertaForMaskedLM_c-roberta-base_s-1.json\r\n",
      "intrasentence\r\n",
      "\tgender\r\n",
      "\t\tCount: 2313.0\r\n",
      "\t\tLM Score: 89.79372775548435\r\n",
      "\t\tSS Score: 66.32296319557689\r\n",
      "\t\tICAT Score: 60.479733488555915\r\n",
      "\tprofession\r\n",
      "\t\tCount: 7194.0\r\n",
      "\t\tLM Score: 87.47715350279888\r\n",
      "\t\tSS Score: 61.46692360958856\r\n",
      "\t\tICAT Score: 67.41527676678193\r\n",
      "\trace\r\n",
      "\t\tCount: 8928.0\r\n",
      "\t\tLM Score: 89.92745575387676\r\n",
      "\t\tSS Score: 61.674303732750964\r\n",
      "\t\tICAT Score: 68.93064710619115\r\n",
      "\treligion\r\n",
      "\t\tCount: 741.0\r\n",
      "\t\tLM Score: 88.03081934338886\r\n",
      "\t\tSS Score: 64.2778194811318\r\n",
      "\t\tICAT Score: 62.89305639616823\r\n",
      "\toverall\r\n",
      "\t\tCount: 6392.0\r\n",
      "\t\tLM Score: 88.92907240576449\r\n",
      "\t\tSS Score: 62.27028395810464\r\n",
      "\t\tICAT Score: 67.10537299477292\r\n",
      "overall\r\n",
      "\tCount: 6392.0\r\n",
      "\tLM Score: 88.92907240576449\r\n",
      "\tSS Score: 62.27028395810464\r\n",
      "\tICAT Score: 67.10537299477292\r\n"
     ]
    }
   ],
   "source": [
    "!python stereoset_evaluation.py --predictions_file \"../results/stereoset/stereoset_m-RobertaForMaskedLM_c-roberta-base_s-1.json\" --output_file \"../results/stereoset_processed/stereoset_m-RobertaForMaskedLM_c-roberta-base_s-1.json\""
   ]
  },
  {
   "cell_type": "code",
   "execution_count": 2,
   "id": "79626298399da8c5",
   "metadata": {
    "ExecuteTime": {
     "end_time": "2024-06-14T06:40:49.852528Z",
     "start_time": "2024-06-14T06:40:45.320230Z"
    }
   },
   "outputs": [
    {
     "name": "stdout",
     "output_type": "stream",
     "text": [
      "Evaluating StereoSet files:\r\n",
      " - predictions_file: ../results/stereoset/stereoset_m-GPT2LMHeadModel_c-gpt2_s-42.json\r\n",
      " - predictions_dir: None\r\n",
      " - output_file: ../results/stereoset_processed/stereoset_m-GPT2LMHeadModel_c-gpt2_s-42.json\r\n",
      "intrasentence\r\n",
      "\tgender\r\n",
      "\t\tCount: 2313.0\r\n",
      "\t\tLM Score: 92.01218436319637\r\n",
      "\t\tSS Score: 62.6460866303445\r\n",
      "\t\tICAT Score: 68.74030327311215\r\n",
      "\tprofession\r\n",
      "\t\tCount: 7194.0\r\n",
      "\t\tLM Score: 90.74056951271717\r\n",
      "\t\tSS Score: 61.305512436683145\r\n",
      "\t\tICAT Score: 70.22319676996246\r\n",
      "\trace\r\n",
      "\t\tCount: 8928.0\r\n",
      "\t\tLM Score: 90.9524178709514\r\n",
      "\t\tSS Score: 58.904167347320374\r\n",
      "\t\tICAT Score: 74.75530688362413\r\n",
      "\treligion\r\n",
      "\t\tCount: 741.0\r\n",
      "\t\tLM Score: 91.20561944224038\r\n",
      "\t\tSS Score: 63.260092672402635\r\n",
      "\t\tICAT Score: 67.01772012128048\r\n",
      "\toverall\r\n",
      "\t\tCount: 6392.0\r\n",
      "\t\tLM Score: 91.01442389024014\r\n",
      "\t\tSS Score: 60.42310108475473\r\n",
      "\t\tICAT Score: 72.04137308266637\r\n",
      "overall\r\n",
      "\tCount: 6392.0\r\n",
      "\tLM Score: 91.01442389024014\r\n",
      "\tSS Score: 60.42310108475473\r\n",
      "\tICAT Score: 72.04137308266637\r\n"
     ]
    }
   ],
   "source": [
    "!python stereoset_evaluation.py --predictions_file \"../results/stereoset/stereoset_m-GPT2LMHeadModel_c-gpt2_s-42.json\" --output_file \"../results/stereoset_processed/stereoset_m-GPT2LMHeadModel_c-gpt2_s-42.json\""
   ]
  },
  {
   "cell_type": "code",
   "execution_count": 3,
   "id": "f307f2bd94e6e5f1",
   "metadata": {
    "ExecuteTime": {
     "end_time": "2024-06-14T06:40:54.300542Z",
     "start_time": "2024-06-14T06:40:49.855936Z"
    }
   },
   "outputs": [
    {
     "name": "stdout",
     "output_type": "stream",
     "text": [
      "Evaluating StereoSet files:\r\n",
      " - predictions_file: ../results/stereoset/stereoset_m-PhiForCausalLM_c-microsoft_phi-2_s-42.json\r\n",
      " - predictions_dir: None\r\n",
      " - output_file: ../results/stereoset_processed/stereoset_m-PhiForCausalLM_c-microsoft_phi-2_s-42.json\r\n",
      "intrasentence\r\n",
      "\tgender\r\n",
      "\t\tCount: 2313.0\r\n",
      "\t\tLM Score: 91.73856870589753\r\n",
      "\t\tSS Score: 69.12496210547187\r\n",
      "\t\tICAT Score: 56.648635703687184\r\n",
      "\tprofession\r\n",
      "\t\tCount: 7194.0\r\n",
      "\t\tLM Score: 91.80944755730845\r\n",
      "\t\tSS Score: 67.68081685397411\r\n",
      "\t\tICAT Score: 59.344127002802225\r\n",
      "\trace\r\n",
      "\t\tCount: 8928.0\r\n",
      "\t\tLM Score: 92.36795299729373\r\n",
      "\t\tSS Score: 61.584454899254034\r\n",
      "\t\tICAT Score: 70.96730528462241\r\n",
      "\treligion\r\n",
      "\t\tCount: 741.0\r\n",
      "\t\tLM Score: 92.10401461513808\r\n",
      "\t\tSS Score: 69.24919368066074\r\n",
      "\t\tICAT Score: 56.64545429327408\r\n",
      "\toverall\r\n",
      "\t\tCount: 6392.0\r\n",
      "\t\tLM Score: 92.07240562630216\r\n",
      "\t\tSS Score: 65.0715228378656\r\n",
      "\t\tICAT Score: 64.3189783436214\r\n",
      "overall\r\n",
      "\tCount: 6392.0\r\n",
      "\tLM Score: 92.07240562630216\r\n",
      "\tSS Score: 65.0715228378656\r\n",
      "\tICAT Score: 64.3189783436214\r\n"
     ]
    }
   ],
   "source": [
    "!python stereoset_evaluation.py --predictions_file \"../results/stereoset/stereoset_m-PhiForCausalLM_c-microsoft_phi-2_s-42.json\" --output_file \"../results/stereoset_processed/stereoset_m-PhiForCausalLM_c-microsoft_phi-2_s-42.json\""
   ]
  },
  {
   "cell_type": "code",
   "execution_count": 4,
   "id": "b0ea2876a89339b4",
   "metadata": {
    "ExecuteTime": {
     "end_time": "2024-06-14T06:40:59.165577Z",
     "start_time": "2024-06-14T06:40:54.303645Z"
    }
   },
   "outputs": [
    {
     "name": "stdout",
     "output_type": "stream",
     "text": [
      "Evaluating StereoSet files:\r\n",
      " - predictions_file: ../results/stereoset/stereoset_m-LlamaForCausalLM_c-meta-llama_Llama-2-7b-hf_s-42.json\r\n",
      " - predictions_dir: None\r\n",
      " - output_file: ../results/stereoset_processed/stereoset_m-LlamaForCausalLM_c-meta-llama_Llama-2-7b-hf_s-42.json\r\n",
      "intrasentence\r\n",
      "\tgender\r\n",
      "\t\tCount: 2313.0\r\n",
      "\t\tLM Score: 89.02569423099158\r\n",
      "\t\tSS Score: 66.51673467203203\r\n",
      "\t\tICAT Score: 59.61741881885677\r\n",
      "\tprofession\r\n",
      "\t\tCount: 7194.0\r\n",
      "\t\tLM Score: 87.71407193206414\r\n",
      "\t\tSS Score: 62.16003144969146\r\n",
      "\t\tICAT Score: 66.38195446657616\r\n",
      "\trace\r\n",
      "\t\tCount: 8928.0\r\n",
      "\t\tLM Score: 88.75587312490582\r\n",
      "\t\tSS Score: 63.89617208228135\r\n",
      "\t\tICAT Score: 64.08853539976937\r\n",
      "\treligion\r\n",
      "\t\tCount: 741.0\r\n",
      "\t\tLM Score: 92.08145229805099\r\n",
      "\t\tSS Score: 60.411368661275965\r\n",
      "\t\tICAT Score: 72.90757336323688\r\n",
      "\toverall\r\n",
      "\t\tCount: 6392.0\r\n",
      "\t\tLM Score: 88.52555386203446\r\n",
      "\t\tSS Score: 63.445762949927555\r\n",
      "\t\tICAT Score: 64.71968161723528\r\n",
      "overall\r\n",
      "\tCount: 6392.0\r\n",
      "\tLM Score: 88.52555386203446\r\n",
      "\tSS Score: 63.445762949927555\r\n",
      "\tICAT Score: 64.71968161723528\r\n"
     ]
    }
   ],
   "source": [
    "!python stereoset_evaluation.py --predictions_file \"../results/stereoset/stereoset_m-LlamaForCausalLM_c-meta-llama_Llama-2-7b-hf_s-42.json\" --output_file \"../results/stereoset_processed/stereoset_m-LlamaForCausalLM_c-meta-llama_Llama-2-7b-hf_s-42.json\""
   ]
  },
  {
   "cell_type": "code",
   "execution_count": null,
   "id": "f244de002de1acce",
   "metadata": {},
   "outputs": [],
   "source": []
  }
 ],
 "metadata": {
  "kernelspec": {
   "display_name": "Python 3",
   "language": "python",
   "name": "python3"
  },
  "language_info": {
   "codemirror_mode": {
    "name": "ipython",
    "version": 2
   },
   "file_extension": ".py",
   "mimetype": "text/x-python",
   "name": "python",
   "nbconvert_exporter": "python",
   "pygments_lexer": "ipython2",
   "version": "2.7.6"
  }
 },
 "nbformat": 4,
 "nbformat_minor": 5
}
