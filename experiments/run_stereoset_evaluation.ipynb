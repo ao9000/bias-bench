{
 "cells": [
  {
   "cell_type": "markdown",
   "id": "24f465fa3d7aa137",
   "metadata": {},
   "source": [
    "# Process results into Scores"
   ]
  },
  {
   "cell_type": "code",
   "execution_count": 5,
   "id": "initial_id",
   "metadata": {
    "ExecuteTime": {
     "end_time": "2024-06-03T13:12:38.177413Z",
     "start_time": "2024-06-03T13:12:32.895435Z"
    },
    "collapsed": true
   },
   "outputs": [
    {
     "name": "stdout",
     "output_type": "stream",
     "text": [
      "Evaluating StereoSet files:\r\n",
      " - predictions_file: ../results/stereoset/stereoset_m-AlbertForMaskedLM_c-albert-base-v2_s-1.json\r\n",
      " - predictions_dir: None\r\n",
      " - output_file: ../results/stereoset_processed/stereoset_m-AlbertForMaskedLM_c-albert-base-v2_s-1.json\r\n",
      "intrasentence\r\n",
      "\tgender\r\n",
      "\t\tCount: 2313.0\r\n",
      "\t\tLM Score: 89.34724209887877\r\n",
      "\t\tSS Score: 59.93052167999695\r\n",
      "\t\tICAT Score: 71.60194760466173\r\n",
      "\tprofession\r\n",
      "\t\tCount: 7194.0\r\n",
      "\t\tLM Score: 88.99877527050727\r\n",
      "\t\tSS Score: 60.39413028956939\r\n",
      "\t\tICAT Score: 70.49747795503208\r\n",
      "\trace\r\n",
      "\t\tCount: 8928.0\r\n",
      "\t\tLM Score: 90.2536318039791\r\n",
      "\t\tSS Score: 57.507842756335904\r\n",
      "\t\tICAT Score: 76.70143028852885\r\n",
      "\treligion\r\n",
      "\t\tCount: 741.0\r\n",
      "\t\tLM Score: 92.73233301165573\r\n",
      "\t\tSS Score: 60.321871420623125\r\n",
      "\t\tICAT Score: 73.58890865404142\r\n",
      "\toverall\r\n",
      "\t\tCount: 6392.0\r\n",
      "\t\tLM Score: 89.76677036473781\r\n",
      "\t\tSS Score: 58.98624153187074\r\n",
      "\t\tICAT Score: 73.63345276406761\r\n",
      "overall\r\n",
      "\tCount: 6392.0\r\n",
      "\tLM Score: 89.76677036473781\r\n",
      "\tSS Score: 58.98624153187074\r\n",
      "\tICAT Score: 73.63345276406761\r\n"
     ]
    }
   ],
   "source": [
    "!python stereoset_evaluation.py --predictions_file \"../results/stereoset/stereoset_m-AlbertForMaskedLM_c-albert-base-v2_s-1.json\" --output_file \"../results/stereoset_processed/stereoset_m-AlbertForMaskedLM_c-albert-base-v2_s-1.json\""
   ]
  },
  {
   "cell_type": "code",
   "execution_count": 6,
   "id": "64fa39401929b8bc",
   "metadata": {
    "ExecuteTime": {
     "end_time": "2024-06-03T13:12:43.054627Z",
     "start_time": "2024-06-03T13:12:38.179070Z"
    }
   },
   "outputs": [
    {
     "name": "stdout",
     "output_type": "stream",
     "text": [
      "Evaluating StereoSet files:\r\n",
      " - predictions_file: ../results/stereoset/stereoset_m-BertForMaskedLM_c-bert-base-uncased_s-1.json\r\n",
      " - predictions_dir: None\r\n",
      " - output_file: ../results/stereoset_processed/stereoset_m-BertForMaskedLM_c-bert-base-uncased_s-1.json\r\n",
      "intrasentence\r\n",
      "\tgender\r\n",
      "\t\tCount: 2313.0\r\n",
      "\t\tLM Score: 85.73970402503635\r\n",
      "\t\tSS Score: 60.278684896276104\r\n",
      "\t\tICAT Score: 68.11387600956986\r\n",
      "\tprofession\r\n",
      "\t\tCount: 7194.0\r\n",
      "\t\tLM Score: 83.85202686230224\r\n",
      "\t\tSS Score: 58.93389453546499\r\n",
      "\t\tICAT Score: 68.86952357084654\r\n",
      "\trace\r\n",
      "\t\tCount: 8928.0\r\n",
      "\t\tLM Score: 84.00827460718995\r\n",
      "\t\tSS Score: 57.02967880452161\r\n",
      "\t\tICAT Score: 72.19725085897807\r\n",
      "\treligion\r\n",
      "\t\tCount: 741.0\r\n",
      "\t\tLM Score: 84.21150995925436\r\n",
      "\t\tSS Score: 59.70419362150916\r\n",
      "\t\tICAT Score: 67.86741400316933\r\n",
      "\toverall\r\n",
      "\t\tCount: 6392.0\r\n",
      "\t\tLM Score: 84.17236429175225\r\n",
      "\t\tSS Score: 58.24009298588702\r\n",
      "\t\tICAT Score: 70.30060211963236\r\n",
      "overall\r\n",
      "\tCount: 6392.0\r\n",
      "\tLM Score: 84.17236429175225\r\n",
      "\tSS Score: 58.24009298588702\r\n",
      "\tICAT Score: 70.30060211963236\r\n"
     ]
    }
   ],
   "source": [
    "!python stereoset_evaluation.py --predictions_file \"../results/stereoset/stereoset_m-BertForMaskedLM_c-bert-base-uncased_s-1.json\" --output_file \"../results/stereoset_processed/stereoset_m-BertForMaskedLM_c-bert-base-uncased_s-1.json\""
   ]
  },
  {
   "cell_type": "code",
   "execution_count": 7,
   "id": "80c20d8bf86dccf7",
   "metadata": {
    "ExecuteTime": {
     "end_time": "2024-06-03T13:12:47.915734Z",
     "start_time": "2024-06-03T13:12:43.057672Z"
    }
   },
   "outputs": [
    {
     "name": "stdout",
     "output_type": "stream",
     "text": [
      "Evaluating StereoSet files:\r\n",
      " - predictions_file: ../results/stereoset/stereoset_m-GPT2LMHeadModel_c-gpt2_s-1.json\r\n",
      " - predictions_dir: None\r\n",
      " - output_file: ../results/stereoset_processed/stereoset_m-GPT2LMHeadModel_c-gpt2_s-1.json\r\n",
      "intrasentence\r\n",
      "\tgender\r\n",
      "\t\tCount: 2313.0\r\n",
      "\t\tLM Score: 92.01218436319637\r\n",
      "\t\tSS Score: 62.6460866303445\r\n",
      "\t\tICAT Score: 68.74030327311215\r\n",
      "\tprofession\r\n",
      "\t\tCount: 7194.0\r\n",
      "\t\tLM Score: 90.74056951271717\r\n",
      "\t\tSS Score: 61.305512436683145\r\n",
      "\t\tICAT Score: 70.22319676996246\r\n",
      "\trace\r\n",
      "\t\tCount: 8928.0\r\n",
      "\t\tLM Score: 90.9524178709514\r\n",
      "\t\tSS Score: 58.904167347320374\r\n",
      "\t\tICAT Score: 74.75530688362413\r\n",
      "\treligion\r\n",
      "\t\tCount: 741.0\r\n",
      "\t\tLM Score: 91.20561944224038\r\n",
      "\t\tSS Score: 63.260092672402635\r\n",
      "\t\tICAT Score: 67.01772012128048\r\n",
      "\toverall\r\n",
      "\t\tCount: 6392.0\r\n",
      "\t\tLM Score: 91.01442389024014\r\n",
      "\t\tSS Score: 60.42310108475473\r\n",
      "\t\tICAT Score: 72.04137308266637\r\n",
      "overall\r\n",
      "\tCount: 6392.0\r\n",
      "\tLM Score: 91.01442389024014\r\n",
      "\tSS Score: 60.42310108475473\r\n",
      "\tICAT Score: 72.04137308266637\r\n"
     ]
    }
   ],
   "source": [
    "!python stereoset_evaluation.py --predictions_file \"../results/stereoset/stereoset_m-GPT2LMHeadModel_c-gpt2_s-1.json\" --output_file \"../results/stereoset_processed/stereoset_m-GPT2LMHeadModel_c-gpt2_s-1.json\""
   ]
  },
  {
   "cell_type": "code",
   "execution_count": 8,
   "id": "c58bf1ce926bdc49",
   "metadata": {
    "ExecuteTime": {
     "end_time": "2024-06-03T13:12:53.665701Z",
     "start_time": "2024-06-03T13:12:47.918747Z"
    }
   },
   "outputs": [
    {
     "name": "stdout",
     "output_type": "stream",
     "text": [
      "Evaluating StereoSet files:\r\n",
      " - predictions_file: ../results/stereoset/stereoset_m-RobertaForMaskedLM_c-roberta-base_s-1.json\r\n",
      " - predictions_dir: None\r\n",
      " - output_file: ../results/stereoset_processed/stereoset_m-RobertaForMaskedLM_c-roberta-base_s-1.json\r\n",
      "intrasentence\r\n",
      "\tgender\r\n",
      "\t\tCount: 2313.0\r\n",
      "\t\tLM Score: 89.79372775548435\r\n",
      "\t\tSS Score: 66.32296319557689\r\n",
      "\t\tICAT Score: 60.479733488555915\r\n",
      "\tprofession\r\n",
      "\t\tCount: 7194.0\r\n",
      "\t\tLM Score: 87.47715350279888\r\n",
      "\t\tSS Score: 61.46692360958856\r\n",
      "\t\tICAT Score: 67.41527676678193\r\n",
      "\trace\r\n",
      "\t\tCount: 8928.0\r\n",
      "\t\tLM Score: 89.92745575387676\r\n",
      "\t\tSS Score: 61.674303732750964\r\n",
      "\t\tICAT Score: 68.93064710619115\r\n",
      "\treligion\r\n",
      "\t\tCount: 741.0\r\n",
      "\t\tLM Score: 88.03081934338886\r\n",
      "\t\tSS Score: 64.2778194811318\r\n",
      "\t\tICAT Score: 62.89305639616823\r\n",
      "\toverall\r\n",
      "\t\tCount: 6392.0\r\n",
      "\t\tLM Score: 88.92907240576449\r\n",
      "\t\tSS Score: 62.27028395810464\r\n",
      "\t\tICAT Score: 67.10537299477292\r\n",
      "overall\r\n",
      "\tCount: 6392.0\r\n",
      "\tLM Score: 88.92907240576449\r\n",
      "\tSS Score: 62.27028395810464\r\n",
      "\tICAT Score: 67.10537299477292\r\n"
     ]
    }
   ],
   "source": [
    "!python stereoset_evaluation.py --predictions_file \"../results/stereoset/stereoset_m-RobertaForMaskedLM_c-roberta-base_s-1.json\" --output_file \"../results/stereoset_processed/stereoset_m-RobertaForMaskedLM_c-roberta-base_s-1.json\""
   ]
  },
  {
   "cell_type": "code",
   "execution_count": 9,
   "id": "2336af9472294302",
   "metadata": {
    "ExecuteTime": {
     "end_time": "2024-06-03T13:12:58.487002Z",
     "start_time": "2024-06-03T13:12:53.668646Z"
    }
   },
   "outputs": [
    {
     "name": "stdout",
     "output_type": "stream",
     "text": [
      "Evaluating StereoSet files:\r\n",
      " - predictions_file: ../results/stereoset/stereoset_m-LlamaForCausalLM_c-meta-llama_Llama-2-7b-chat-hf_s-1.json\r\n",
      " - predictions_dir: None\r\n",
      " - output_file: ../results/stereoset_processed/stereoset_m-LlamaForCausalLM_c-meta-llama_Llama-2-7b-chat-hf_s-1.json\r\n",
      "intrasentence\r\n",
      "\tgender\r\n",
      "\t\tCount: 2313.0\r\n",
      "\t\tLM Score: 86.6532741149683\r\n",
      "\t\tSS Score: 64.67873731299518\r\n",
      "\t\tICAT Score: 61.2140611540766\r\n",
      "\tprofession\r\n",
      "\t\tCount: 7194.0\r\n",
      "\t\tLM Score: 85.78912708474661\r\n",
      "\t\tSS Score: 61.41715819124077\r\n",
      "\t\tICAT Score: 66.1997663844464\r\n",
      "\trace\r\n",
      "\t\tCount: 8928.0\r\n",
      "\t\tLM Score: 87.42468629151644\r\n",
      "\t\tSS Score: 64.43958109759151\r\n",
      "\t\tICAT Score: 62.17716933875946\r\n",
      "\treligion\r\n",
      "\t\tCount: 741.0\r\n",
      "\t\tLM Score: 87.53280683666297\r\n",
      "\t\tSS Score: 56.81420766391721\r\n",
      "\t\tICAT Score: 75.6034723728515\r\n",
      "\toverall\r\n",
      "\t\tCount: 6392.0\r\n",
      "\t\tLM Score: 86.7248118741635\r\n",
      "\t\tSS Score: 63.061598717374466\r\n",
      "\t\tICAT Score: 64.06951804336119\r\n",
      "overall\r\n",
      "\tCount: 6392.0\r\n",
      "\tLM Score: 86.7248118741635\r\n",
      "\tSS Score: 63.061598717374466\r\n",
      "\tICAT Score: 64.06951804336119\r\n"
     ]
    }
   ],
   "source": [
    "!python stereoset_evaluation.py --predictions_file \"../results/stereoset/stereoset_m-LlamaForCausalLM_c-meta-llama_Llama-2-7b-chat-hf_s-1.json\" --output_file \"../results/stereoset_processed/stereoset_m-LlamaForCausalLM_c-meta-llama_Llama-2-7b-chat-hf_s-1.json\""
   ]
  },
  {
   "cell_type": "code",
   "execution_count": 10,
   "id": "f307f2bd94e6e5f1",
   "metadata": {
    "ExecuteTime": {
     "end_time": "2024-06-03T13:13:03.609383Z",
     "start_time": "2024-06-03T13:12:58.489366Z"
    }
   },
   "outputs": [
    {
     "name": "stdout",
     "output_type": "stream",
     "text": [
      "Evaluating StereoSet files:\r\n",
      " - predictions_file: ../results/stereoset/stereoset_m-PhiForCausalLM_c-microsoft_phi-2_s-1.json\r\n",
      " - predictions_dir: None\r\n",
      " - output_file: ../results/stereoset_processed/stereoset_m-PhiForCausalLM_c-microsoft_phi-2_s-1.json\r\n",
      "intrasentence\r\n",
      "\tgender\r\n",
      "\t\tCount: 2313.0\r\n",
      "\t\tLM Score: 91.92532142742039\r\n",
      "\t\tSS Score: 69.18245769630079\r\n",
      "\t\tICAT Score: 56.65824963741351\r\n",
      "\tprofession\r\n",
      "\t\tCount: 7194.0\r\n",
      "\t\tLM Score: 91.85596267222081\r\n",
      "\t\tSS Score: 67.84002108584576\r\n",
      "\t\tICAT Score: 59.081716453559196\r\n",
      "\trace\r\n",
      "\t\tCount: 8928.0\r\n",
      "\t\tLM Score: 92.57113413159044\r\n",
      "\t\tSS Score: 61.533256482034375\r\n",
      "\t\tICAT Score: 71.21820147614166\r\n",
      "\treligion\r\n",
      "\t\tCount: 741.0\r\n",
      "\t\tLM Score: 92.29558549636414\r\n",
      "\t\tSS Score: 69.63233544311284\r\n",
      "\t\tICAT Score: 56.056027608701726\r\n",
      "\toverall\r\n",
      "\t\tCount: 6392.0\r\n",
      "\t\tLM Score: 92.21485417214662\r\n",
      "\t\tSS Score: 65.12820095071504\r\n",
      "\t\tICAT Score: 64.31395728100426\r\n",
      "overall\r\n",
      "\tCount: 6392.0\r\n",
      "\tLM Score: 92.21485417214662\r\n",
      "\tSS Score: 65.12820095071504\r\n",
      "\tICAT Score: 64.31395728100426\r\n"
     ]
    }
   ],
   "source": [
    "!python stereoset_evaluation.py --predictions_file \"../results/stereoset/stereoset_m-PhiForCausalLM_c-microsoft_phi-2_s-1.json\" --output_file \"../results/stereoset_processed/stereoset_m-PhiForCausalLM_c-microsoft_phi-2_s-1.json\""
   ]
  },
  {
   "cell_type": "code",
   "execution_count": 11,
   "id": "7d6d0c47fba3bee4",
   "metadata": {
    "ExecuteTime": {
     "end_time": "2024-06-03T13:26:14.521856Z",
     "start_time": "2024-06-03T13:26:08.267817Z"
    }
   },
   "outputs": [
    {
     "name": "stdout",
     "output_type": "stream",
     "text": [
      "Evaluating StereoSet files:\r\n",
      " - predictions_file: ../results/stereoset/stereoset_m-PhiForCausalLM_c-microsoft_Phi-3-mini-4k-instruct_s-1.json\r\n",
      " - predictions_dir: None\r\n",
      " - output_file: ../results/stereoset_processed/stereoset_m-PhiForCausalLM_c-microsoft_Phi-3-mini-4k-instruct_s-1.json\r\n",
      "intrasentence\r\n",
      "\tgender\r\n",
      "\t\tCount: 2313.0\r\n",
      "\t\tLM Score: 55.23056829662277\r\n",
      "\t\tSS Score: 50.979182050296494\r\n",
      "\t\tICAT Score: 54.14895267454822\r\n",
      "\tprofession\r\n",
      "\t\tCount: 7194.0\r\n",
      "\t\tLM Score: 54.12889453750892\r\n",
      "\t\tSS Score: 49.686227685101635\r\n",
      "\t\tICAT Score: 53.789211566670446\r\n",
      "\trace\r\n",
      "\t\tCount: 8928.0\r\n",
      "\t\tLM Score: 54.16764323814674\r\n",
      "\t\tSS Score: 47.47579106347988\r\n",
      "\t\tICAT Score: 51.433034255507465\r\n",
      "\treligion\r\n",
      "\t\tCount: 741.0\r\n",
      "\t\tLM Score: 52.482346075536036\r\n",
      "\t\tSS Score: 50.755903759240795\r\n",
      "\t\tICAT Score: 51.68891402169056\r\n",
      "\toverall\r\n",
      "\t\tCount: 6392.0\r\n",
      "\t\tLM Score: 54.222323792830124\r\n",
      "\t\tSS Score: 48.85414659989436\r\n",
      "\t\tICAT Score: 52.97970711123725\r\n",
      "overall\r\n",
      "\tCount: 6392.0\r\n",
      "\tLM Score: 54.222323792830124\r\n",
      "\tSS Score: 48.85414659989436\r\n",
      "\tICAT Score: 52.97970711123725\r\n"
     ]
    }
   ],
   "source": [
    "!python stereoset_evaluation.py --predictions_file \"../results/stereoset/stereoset_m-PhiForCausalLM_c-microsoft_Phi-3-mini-4k-instruct_s-1.json\" --output_file \"../results/stereoset_processed/stereoset_m-PhiForCausalLM_c-microsoft_Phi-3-mini-4k-instruct_s-1.json\""
   ]
  },
  {
   "cell_type": "code",
   "execution_count": null,
   "id": "b0ea2876a89339b4",
   "metadata": {},
   "outputs": [],
   "source": []
  }
 ],
 "metadata": {
  "kernelspec": {
   "display_name": "Python 3",
   "language": "python",
   "name": "python3"
  },
  "language_info": {
   "codemirror_mode": {
    "name": "ipython",
    "version": 2
   },
   "file_extension": ".py",
   "mimetype": "text/x-python",
   "name": "python",
   "nbconvert_exporter": "python",
   "pygments_lexer": "ipython2",
   "version": "2.7.6"
  }
 },
 "nbformat": 4,
 "nbformat_minor": 5
}
