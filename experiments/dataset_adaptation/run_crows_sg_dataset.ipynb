{
 "cells": [
  {
   "cell_type": "code",
   "execution_count": 2,
   "id": "ef6b88f684b89f8a",
   "metadata": {
    "ExecuteTime": {
     "end_time": "2024-07-29T08:07:45.123437Z",
     "start_time": "2024-07-29T08:07:44.472070Z"
    }
   },
   "outputs": [
    {
     "name": "stdout",
     "output_type": "stream",
     "text": [
      "Mon Jul 29 16:07:44 2024       \r\n",
      "+---------------------------------------------------------------------------------------+\r\n",
      "| NVIDIA-SMI 535.183.01             Driver Version: 535.183.01   CUDA Version: 12.2     |\r\n",
      "|-----------------------------------------+----------------------+----------------------+\r\n",
      "| GPU  Name                 Persistence-M | Bus-Id        Disp.A | Volatile Uncorr. ECC |\r\n",
      "| Fan  Temp   Perf          Pwr:Usage/Cap |         Memory-Usage | GPU-Util  Compute M. |\r\n",
      "|                                         |                      |               MIG M. |\r\n",
      "|=========================================+======================+======================|\r\n",
      "|   0  NVIDIA RTX A6000               Off | 00000000:01:00.0 Off |                  Off |\r\n",
      "| 30%   35C    P8              25W / 300W |      1MiB / 49140MiB |      0%      Default |\r\n",
      "|                                         |                      |                  N/A |\r\n",
      "+-----------------------------------------+----------------------+----------------------+\r\n",
      "|   1  NVIDIA RTX A6000               Off | 00000000:21:00.0 Off |                  Off |\r\n",
      "| 30%   33C    P8              19W / 300W |      1MiB / 49140MiB |      0%      Default |\r\n",
      "|                                         |                      |                  N/A |\r\n",
      "+-----------------------------------------+----------------------+----------------------+\r\n",
      "|   2  NVIDIA RTX A6000               Off | 00000000:41:00.0 Off |                  Off |\r\n",
      "| 53%   78C    P2             294W / 300W |  48568MiB / 49140MiB |     74%      Default |\r\n",
      "|                                         |                      |                  N/A |\r\n",
      "+-----------------------------------------+----------------------+----------------------+\r\n",
      "|   3  NVIDIA RTX A6000               Off | 00000000:42:00.0 Off |                  Off |\r\n",
      "| 48%   75C    P2             293W / 300W |  43366MiB / 49140MiB |     76%      Default |\r\n",
      "|                                         |                      |                  N/A |\r\n",
      "+-----------------------------------------+----------------------+----------------------+\r\n",
      "                                                                                         \r\n",
      "+---------------------------------------------------------------------------------------+\r\n",
      "| Processes:                                                                            |\r\n",
      "|  GPU   GI   CI        PID   Type   Process name                            GPU Memory |\r\n",
      "|        ID   ID                                                             Usage      |\r\n",
      "|=======================================================================================|\r\n",
      "|    2   N/A  N/A   1881836      C   python                                    48562MiB |\r\n",
      "|    3   N/A  N/A   1915051      C   ...iyang/anaconda3/envs/fyp/bin/python    43360MiB |\r\n",
      "+---------------------------------------------------------------------------------------+\r\n"
     ]
    }
   ],
   "source": [
    "!nvidia-smi"
   ]
  },
  {
   "cell_type": "code",
   "execution_count": 3,
   "id": "initial_id",
   "metadata": {
    "ExecuteTime": {
     "end_time": "2024-07-29T08:07:45.129540Z",
     "start_time": "2024-07-29T08:07:45.124941Z"
    },
    "collapsed": true
   },
   "outputs": [],
   "source": [
    "import os\n",
    "\n",
    "os.environ['CUDA_VISIBLE_DEVICES'] = '1'"
   ]
  },
  {
   "cell_type": "markdown",
   "id": "cf1a8b912d47b04e",
   "metadata": {},
   "source": [
    "# GPT2"
   ]
  },
  {
   "cell_type": "code",
   "execution_count": 4,
   "id": "fde06b0d3b039561",
   "metadata": {
    "ExecuteTime": {
     "end_time": "2024-07-29T08:08:00.873690Z",
     "start_time": "2024-07-29T08:07:45.130585Z"
    }
   },
   "outputs": [
    {
     "name": "stdout",
     "output_type": "stream",
     "text": [
      "The token has not been saved to the git credentials helper. Pass `add_to_git_credential=True` in this function directly or `--add-to-git-credential` if using via `huggingface-cli` if you want to set the git credential as well.\r\n",
      "Token is valid (permission: read).\r\n",
      "Your token has been saved to /home/ongzhiyang/.cache/huggingface/token\r\n",
      "Login successful\r\n",
      "Running CrowS-Pairs benchmark:\r\n",
      " - persistent_dir: /home/ongzhiyang/bias-bench-main\r\n",
      " - model: GPT2LMHeadModel\r\n",
      " - model_name_or_path: gpt2\r\n",
      " - bias_type: religion\r\n",
      "Evaluating religion examples.\r\n",
      "Unconditional start token: <|endoftext|>\r\n",
      "100%|█████████████████████████████████████████| 105/105 [00:04<00:00, 22.36it/s]\r\n",
      "====================================================================================================\r\n",
      "Total examples: 105\r\n",
      "Metric score: 48.57\r\n",
      "Stereotype score: 52.04\r\n",
      "Num. neutral: 0.0\r\n",
      "====================================================================================================\r\n",
      "\r\n",
      "{\r\n",
      "    \"religion\": {\r\n",
      "        \"Total examples\": 105,\r\n",
      "        \"Metric score\": 48.57,\r\n",
      "        \"Stereotype score\": 52.04,\r\n",
      "        \"Anti-stereotype score\": null,\r\n",
      "        \"Num. neutral\": 0.0\r\n",
      "    }\r\n",
      "}\r\n"
     ]
    }
   ],
   "source": [
    "!python ../crows.py --bias_type \"religion\" --model \"GPT2LMHeadModel\" --model_name_or_path \"gpt2\" --custom_dataset_path \"crows_pairs_anonymized_adapted_sg.csv\""
   ]
  },
  {
   "cell_type": "code",
   "execution_count": 5,
   "id": "f5c2749564016a99",
   "metadata": {
    "ExecuteTime": {
     "end_time": "2024-07-29T08:08:29.889652Z",
     "start_time": "2024-07-29T08:08:00.875414Z"
    }
   },
   "outputs": [
    {
     "name": "stdout",
     "output_type": "stream",
     "text": [
      "The token has not been saved to the git credentials helper. Pass `add_to_git_credential=True` in this function directly or `--add-to-git-credential` if using via `huggingface-cli` if you want to set the git credential as well.\r\n",
      "Token is valid (permission: read).\r\n",
      "Your token has been saved to /home/ongzhiyang/.cache/huggingface/token\r\n",
      "Login successful\r\n",
      "Running CrowS-Pairs benchmark:\r\n",
      " - persistent_dir: /home/ongzhiyang/bias-bench-main\r\n",
      " - model: GPT2LMHeadModel\r\n",
      " - model_name_or_path: gpt2\r\n",
      " - bias_type: race\r\n",
      "Evaluating race-color examples.\r\n",
      "Unconditional start token: <|endoftext|>\r\n",
      "100%|█████████████████████████████████████████| 516/516 [00:18<00:00, 27.45it/s]\r\n",
      "====================================================================================================\r\n",
      "Total examples: 516\r\n",
      "Metric score: 28.68\r\n",
      "Stereotype score: 27.27\r\n",
      "Anti-stereotype score: 44.19\r\n",
      "Num. neutral: 0.0\r\n",
      "====================================================================================================\r\n",
      "\r\n",
      "{\r\n",
      "    \"race-color\": {\r\n",
      "        \"Total examples\": 516,\r\n",
      "        \"Metric score\": 28.68,\r\n",
      "        \"Stereotype score\": 27.27,\r\n",
      "        \"Anti-stereotype score\": 44.19,\r\n",
      "        \"Num. neutral\": 0.0\r\n",
      "    }\r\n",
      "}\r\n"
     ]
    }
   ],
   "source": [
    "!python ../crows.py --bias_type \"race\" --model \"GPT2LMHeadModel\" --model_name_or_path \"gpt2\" --custom_dataset_path \"crows_pairs_anonymized_adapted_sg.csv\""
   ]
  },
  {
   "cell_type": "code",
   "execution_count": 6,
   "id": "61e93cdf447e8822",
   "metadata": {
    "ExecuteTime": {
     "end_time": "2024-07-29T08:08:49.734821Z",
     "start_time": "2024-07-29T08:08:29.890755Z"
    }
   },
   "outputs": [
    {
     "name": "stdout",
     "output_type": "stream",
     "text": [
      "The token has not been saved to the git credentials helper. Pass `add_to_git_credential=True` in this function directly or `--add-to-git-credential` if using via `huggingface-cli` if you want to set the git credential as well.\r\n",
      "Token is valid (permission: read).\r\n",
      "Your token has been saved to /home/ongzhiyang/.cache/huggingface/token\r\n",
      "Login successful\r\n",
      "Running CrowS-Pairs benchmark:\r\n",
      " - persistent_dir: /home/ongzhiyang/bias-bench-main\r\n",
      " - model: GPT2LMHeadModel\r\n",
      " - model_name_or_path: gpt2\r\n",
      " - bias_type: gender\r\n",
      "Evaluating gender examples.\r\n",
      "Unconditional start token: <|endoftext|>\r\n",
      "100%|█████████████████████████████████████████| 262/262 [00:10<00:00, 25.73it/s]\r\n",
      "====================================================================================================\r\n",
      "Total examples: 262\r\n",
      "Metric score: 53.82\r\n",
      "Stereotype score: 58.06\r\n",
      "Anti-stereotype score: 52.04\r\n",
      "Num. neutral: 0.38\r\n",
      "====================================================================================================\r\n",
      "\r\n",
      "{\r\n",
      "    \"gender\": {\r\n",
      "        \"Total examples\": 262,\r\n",
      "        \"Metric score\": 53.82,\r\n",
      "        \"Stereotype score\": 58.06,\r\n",
      "        \"Anti-stereotype score\": 52.04,\r\n",
      "        \"Num. neutral\": 0.38\r\n",
      "    }\r\n",
      "}\r\n"
     ]
    }
   ],
   "source": [
    "!python ../crows.py --bias_type \"gender\" --model \"GPT2LMHeadModel\" --model_name_or_path \"gpt2\" --custom_dataset_path \"crows_pairs_anonymized_adapted_sg.csv\""
   ]
  },
  {
   "cell_type": "markdown",
   "id": "1981b067dac865d1",
   "metadata": {},
   "source": [
    "# Phi2"
   ]
  },
  {
   "cell_type": "code",
   "execution_count": 7,
   "id": "a2a5dd7169bad747",
   "metadata": {
    "ExecuteTime": {
     "end_time": "2024-07-29T08:09:22.770141Z",
     "start_time": "2024-07-29T08:08:49.736017Z"
    }
   },
   "outputs": [
    {
     "name": "stdout",
     "output_type": "stream",
     "text": [
      "The token has not been saved to the git credentials helper. Pass `add_to_git_credential=True` in this function directly or `--add-to-git-credential` if using via `huggingface-cli` if you want to set the git credential as well.\r\n",
      "Token is valid (permission: read).\r\n",
      "Your token has been saved to /home/ongzhiyang/.cache/huggingface/token\r\n",
      "Login successful\r\n",
      "Running CrowS-Pairs benchmark:\r\n",
      " - persistent_dir: /home/ongzhiyang/bias-bench-main\r\n",
      " - model: PhiForCausalLM\r\n",
      " - model_name_or_path: microsoft/phi-2\r\n",
      " - bias_type: religion\r\n",
      "Loading checkpoint shards: 100%|██████████████████| 2/2 [00:04<00:00,  2.11s/it]\r\n",
      "Evaluating religion examples.\r\n",
      "Unconditional start token: <|endoftext|>\r\n",
      "  0%|                                                   | 0/105 [00:00<?, ?it/s]We detected that you are passing `past_key_values` as a tuple and this is deprecated and will be removed in v4.43. Please use an appropriate `Cache` class (https://huggingface.co/docs/transformers/v4.41.3/en/internal/generation_utils#transformers.Cache)\r\n",
      "100%|█████████████████████████████████████████| 105/105 [00:14<00:00,  7.21it/s]\r\n",
      "====================================================================================================\r\n",
      "Total examples: 105\r\n",
      "Metric score: 55.24\r\n",
      "Stereotype score: 58.16\r\n",
      "Anti-stereotype score: 16.67\r\n",
      "Num. neutral: 0.0\r\n",
      "====================================================================================================\r\n",
      "\r\n",
      "{\r\n",
      "    \"religion\": {\r\n",
      "        \"Total examples\": 105,\r\n",
      "        \"Metric score\": 55.24,\r\n",
      "        \"Stereotype score\": 58.16,\r\n",
      "        \"Anti-stereotype score\": 16.67,\r\n",
      "        \"Num. neutral\": 0.0\r\n",
      "    }\r\n",
      "}\r\n"
     ]
    }
   ],
   "source": [
    "!python ../crows.py --bias_type \"religion\" --model \"PhiForCausalLM\" --model_name_or_path \"microsoft/phi-2\" --custom_dataset_path \"crows_pairs_anonymized_adapted_sg.csv\""
   ]
  },
  {
   "cell_type": "code",
   "execution_count": 8,
   "id": "f619feab5eb0b6ee",
   "metadata": {
    "ExecuteTime": {
     "end_time": "2024-07-29T08:10:47.892472Z",
     "start_time": "2024-07-29T08:09:22.771217Z"
    }
   },
   "outputs": [
    {
     "name": "stdout",
     "output_type": "stream",
     "text": [
      "The token has not been saved to the git credentials helper. Pass `add_to_git_credential=True` in this function directly or `--add-to-git-credential` if using via `huggingface-cli` if you want to set the git credential as well.\r\n",
      "Token is valid (permission: read).\r\n",
      "Your token has been saved to /home/ongzhiyang/.cache/huggingface/token\r\n",
      "Login successful\r\n",
      "Running CrowS-Pairs benchmark:\r\n",
      " - persistent_dir: /home/ongzhiyang/bias-bench-main\r\n",
      " - model: PhiForCausalLM\r\n",
      " - model_name_or_path: microsoft/phi-2\r\n",
      " - bias_type: race\r\n",
      "Loading checkpoint shards: 100%|██████████████████| 2/2 [00:02<00:00,  1.39s/it]\r\n",
      "Evaluating race-color examples.\r\n",
      "Unconditional start token: <|endoftext|>\r\n",
      "  0%|                                                   | 0/516 [00:00<?, ?it/s]We detected that you are passing `past_key_values` as a tuple and this is deprecated and will be removed in v4.43. Please use an appropriate `Cache` class (https://huggingface.co/docs/transformers/v4.41.3/en/internal/generation_utils#transformers.Cache)\r\n",
      "100%|█████████████████████████████████████████| 516/516 [01:08<00:00,  7.55it/s]\r\n",
      "====================================================================================================\r\n",
      "Total examples: 516\r\n",
      "Metric score: 43.02\r\n",
      "Stereotype score: 42.49\r\n",
      "Anti-stereotype score: 48.84\r\n",
      "Num. neutral: 0.0\r\n",
      "====================================================================================================\r\n",
      "\r\n",
      "{\r\n",
      "    \"race-color\": {\r\n",
      "        \"Total examples\": 516,\r\n",
      "        \"Metric score\": 43.02,\r\n",
      "        \"Stereotype score\": 42.49,\r\n",
      "        \"Anti-stereotype score\": 48.84,\r\n",
      "        \"Num. neutral\": 0.0\r\n",
      "    }\r\n",
      "}\r\n"
     ]
    }
   ],
   "source": [
    "!python ../crows.py --bias_type \"race\" --model \"PhiForCausalLM\" --model_name_or_path \"microsoft/phi-2\" --custom_dataset_path \"crows_pairs_anonymized_adapted_sg.csv\""
   ]
  },
  {
   "cell_type": "code",
   "execution_count": 9,
   "id": "a414f96933ac8043",
   "metadata": {
    "ExecuteTime": {
     "end_time": "2024-07-29T08:11:38.335284Z",
     "start_time": "2024-07-29T08:10:47.893768Z"
    }
   },
   "outputs": [
    {
     "name": "stdout",
     "output_type": "stream",
     "text": [
      "The token has not been saved to the git credentials helper. Pass `add_to_git_credential=True` in this function directly or `--add-to-git-credential` if using via `huggingface-cli` if you want to set the git credential as well.\r\n",
      "Token is valid (permission: read).\r\n",
      "Your token has been saved to /home/ongzhiyang/.cache/huggingface/token\r\n",
      "Login successful\r\n",
      "Running CrowS-Pairs benchmark:\r\n",
      " - persistent_dir: /home/ongzhiyang/bias-bench-main\r\n",
      " - model: PhiForCausalLM\r\n",
      " - model_name_or_path: microsoft/phi-2\r\n",
      " - bias_type: gender\r\n",
      "Loading checkpoint shards: 100%|██████████████████| 2/2 [00:02<00:00,  1.24s/it]\r\n",
      "Evaluating gender examples.\r\n",
      "Unconditional start token: <|endoftext|>\r\n",
      "  0%|                                                   | 0/262 [00:00<?, ?it/s]We detected that you are passing `past_key_values` as a tuple and this is deprecated and will be removed in v4.43. Please use an appropriate `Cache` class (https://huggingface.co/docs/transformers/v4.41.3/en/internal/generation_utils#transformers.Cache)\r\n",
      "100%|█████████████████████████████████████████| 262/262 [00:34<00:00,  7.60it/s]\r\n",
      "====================================================================================================\r\n",
      "Total examples: 262\r\n",
      "Metric score: 60.69\r\n",
      "Stereotype score: 65.38\r\n",
      "Anti-stereotype score: 58.16\r\n",
      "Num. neutral: 0.0\r\n",
      "====================================================================================================\r\n",
      "\r\n",
      "{\r\n",
      "    \"gender\": {\r\n",
      "        \"Total examples\": 262,\r\n",
      "        \"Metric score\": 60.69,\r\n",
      "        \"Stereotype score\": 65.38,\r\n",
      "        \"Anti-stereotype score\": 58.16,\r\n",
      "        \"Num. neutral\": 0.0\r\n",
      "    }\r\n",
      "}\r\n"
     ]
    }
   ],
   "source": [
    "!python ../crows.py --bias_type \"gender\" --model \"PhiForCausalLM\" --model_name_or_path \"microsoft/phi-2\" --custom_dataset_path \"crows_pairs_anonymized_adapted_sg.csv\""
   ]
  },
  {
   "cell_type": "markdown",
   "id": "f080110b3ff6300f",
   "metadata": {},
   "source": [
    "# Llama 2"
   ]
  },
  {
   "cell_type": "code",
   "execution_count": 10,
   "id": "c930fa5a6805141",
   "metadata": {
    "ExecuteTime": {
     "end_time": "2024-07-29T08:12:19.264146Z",
     "start_time": "2024-07-29T08:11:38.336463Z"
    }
   },
   "outputs": [
    {
     "name": "stdout",
     "output_type": "stream",
     "text": [
      "The token has not been saved to the git credentials helper. Pass `add_to_git_credential=True` in this function directly or `--add-to-git-credential` if using via `huggingface-cli` if you want to set the git credential as well.\r\n",
      "Token is valid (permission: read).\r\n",
      "Your token has been saved to /home/ongzhiyang/.cache/huggingface/token\r\n",
      "Login successful\r\n",
      "Running CrowS-Pairs benchmark:\r\n",
      " - persistent_dir: /home/ongzhiyang/bias-bench-main\r\n",
      " - model: LlamaForCausalLM\r\n",
      " - model_name_or_path: meta-llama/Llama-2-7b-hf\r\n",
      " - bias_type: religion\r\n",
      "Loading checkpoint shards: 100%|██████████████████| 2/2 [00:05<00:00,  2.76s/it]\r\n",
      "Evaluating religion examples.\r\n",
      "Unconditional start token: <s>\r\n",
      "  0%|                                                   | 0/105 [00:00<?, ?it/s]We detected that you are passing `past_key_values` as a tuple and this is deprecated and will be removed in v4.43. Please use an appropriate `Cache` class (https://huggingface.co/docs/transformers/v4.41.3/en/internal/generation_utils#transformers.Cache)\r\n",
      "100%|█████████████████████████████████████████| 105/105 [00:15<00:00,  6.85it/s]\r\n",
      "====================================================================================================\r\n",
      "Total examples: 105\r\n",
      "Metric score: 60.95\r\n",
      "Stereotype score: 62.24\r\n",
      "Anti-stereotype score: 50.0\r\n",
      "Num. neutral: 0.0\r\n",
      "====================================================================================================\r\n",
      "\r\n",
      "{\r\n",
      "    \"religion\": {\r\n",
      "        \"Total examples\": 105,\r\n",
      "        \"Metric score\": 60.95,\r\n",
      "        \"Stereotype score\": 62.24,\r\n",
      "        \"Anti-stereotype score\": 50.0,\r\n",
      "        \"Num. neutral\": 0.0\r\n",
      "    }\r\n",
      "}\r\n"
     ]
    }
   ],
   "source": [
    "!python ../crows.py --bias_type \"religion\" --model \"LlamaForCausalLM\" --model_name_or_path \"meta-llama/Llama-2-7b-hf\" --custom_dataset_path \"crows_pairs_anonymized_adapted_sg.csv\""
   ]
  },
  {
   "cell_type": "code",
   "execution_count": 11,
   "id": "a24a77b5bfb0fdc0",
   "metadata": {
    "ExecuteTime": {
     "end_time": "2024-07-29T08:13:54.765274Z",
     "start_time": "2024-07-29T08:12:19.266071Z"
    }
   },
   "outputs": [
    {
     "name": "stdout",
     "output_type": "stream",
     "text": [
      "The token has not been saved to the git credentials helper. Pass `add_to_git_credential=True` in this function directly or `--add-to-git-credential` if using via `huggingface-cli` if you want to set the git credential as well.\r\n",
      "Token is valid (permission: read).\r\n",
      "Your token has been saved to /home/ongzhiyang/.cache/huggingface/token\r\n",
      "Login successful\r\n",
      "Running CrowS-Pairs benchmark:\r\n",
      " - persistent_dir: /home/ongzhiyang/bias-bench-main\r\n",
      " - model: LlamaForCausalLM\r\n",
      " - model_name_or_path: meta-llama/Llama-2-7b-hf\r\n",
      " - bias_type: race\r\n",
      "Loading checkpoint shards: 100%|██████████████████| 2/2 [00:04<00:00,  2.16s/it]\r\n",
      "Evaluating race-color examples.\r\n",
      "Unconditional start token: <s>\r\n",
      "  0%|                                                   | 0/516 [00:00<?, ?it/s]We detected that you are passing `past_key_values` as a tuple and this is deprecated and will be removed in v4.43. Please use an appropriate `Cache` class (https://huggingface.co/docs/transformers/v4.41.3/en/internal/generation_utils#transformers.Cache)\r\n",
      "100%|█████████████████████████████████████████| 516/516 [01:11<00:00,  7.22it/s]\r\n",
      "====================================================================================================\r\n",
      "Total examples: 516\r\n",
      "Metric score: 43.02\r\n",
      "Stereotype score: 42.07\r\n",
      "Anti-stereotype score: 53.49\r\n",
      "Num. neutral: 0.0\r\n",
      "====================================================================================================\r\n",
      "\r\n",
      "{\r\n",
      "    \"race-color\": {\r\n",
      "        \"Total examples\": 516,\r\n",
      "        \"Metric score\": 43.02,\r\n",
      "        \"Stereotype score\": 42.07,\r\n",
      "        \"Anti-stereotype score\": 53.49,\r\n",
      "        \"Num. neutral\": 0.0\r\n",
      "    }\r\n",
      "}\r\n"
     ]
    }
   ],
   "source": [
    "!python ../crows.py --bias_type \"race\" --model \"LlamaForCausalLM\" --model_name_or_path \"meta-llama/Llama-2-7b-hf\" --custom_dataset_path \"crows_pairs_anonymized_adapted_sg.csv\""
   ]
  },
  {
   "cell_type": "code",
   "execution_count": 12,
   "id": "6acabd203bb835e2",
   "metadata": {
    "ExecuteTime": {
     "end_time": "2024-07-29T08:14:55.104104Z",
     "start_time": "2024-07-29T08:13:54.766380Z"
    }
   },
   "outputs": [
    {
     "name": "stdout",
     "output_type": "stream",
     "text": [
      "The token has not been saved to the git credentials helper. Pass `add_to_git_credential=True` in this function directly or `--add-to-git-credential` if using via `huggingface-cli` if you want to set the git credential as well.\r\n",
      "Token is valid (permission: read).\r\n",
      "Your token has been saved to /home/ongzhiyang/.cache/huggingface/token\r\n",
      "Login successful\r\n",
      "Running CrowS-Pairs benchmark:\r\n",
      " - persistent_dir: /home/ongzhiyang/bias-bench-main\r\n",
      " - model: LlamaForCausalLM\r\n",
      " - model_name_or_path: meta-llama/Llama-2-7b-hf\r\n",
      " - bias_type: gender\r\n",
      "Loading checkpoint shards: 100%|██████████████████| 2/2 [00:04<00:00,  2.03s/it]\r\n",
      "Evaluating gender examples.\r\n",
      "Unconditional start token: <s>\r\n",
      "  0%|                                                   | 0/262 [00:00<?, ?it/s]We detected that you are passing `past_key_values` as a tuple and this is deprecated and will be removed in v4.43. Please use an appropriate `Cache` class (https://huggingface.co/docs/transformers/v4.41.3/en/internal/generation_utils#transformers.Cache)\r\n",
      "100%|█████████████████████████████████████████| 262/262 [00:36<00:00,  7.17it/s]\r\n",
      "====================================================================================================\r\n",
      "Total examples: 262\r\n",
      "Metric score: 67.18\r\n",
      "Stereotype score: 74.36\r\n",
      "Anti-stereotype score: 61.22\r\n",
      "Num. neutral: 0.0\r\n",
      "====================================================================================================\r\n",
      "\r\n",
      "{\r\n",
      "    \"gender\": {\r\n",
      "        \"Total examples\": 262,\r\n",
      "        \"Metric score\": 67.18,\r\n",
      "        \"Stereotype score\": 74.36,\r\n",
      "        \"Anti-stereotype score\": 61.22,\r\n",
      "        \"Num. neutral\": 0.0\r\n",
      "    }\r\n",
      "}\r\n"
     ]
    }
   ],
   "source": [
    "!python ../crows.py --bias_type \"gender\" --model \"LlamaForCausalLM\" --model_name_or_path \"meta-llama/Llama-2-7b-hf\" --custom_dataset_path \"crows_pairs_anonymized_adapted_sg.csv\""
   ]
  },
  {
   "cell_type": "code",
   "execution_count": null,
   "id": "6fa0e66f0d00fc91",
   "metadata": {},
   "outputs": [],
   "source": []
  }
 ],
 "metadata": {
  "kernelspec": {
   "display_name": "Python [conda env:fyp] *",
   "language": "python",
   "name": "conda-env-fyp-py"
  },
  "language_info": {
   "codemirror_mode": {
    "name": "ipython",
    "version": 2
   },
   "file_extension": ".py",
   "mimetype": "text/x-python",
   "name": "python",
   "nbconvert_exporter": "python",
   "pygments_lexer": "ipython2",
   "version": "2.7.6"
  }
 },
 "nbformat": 4,
 "nbformat_minor": 5
}
