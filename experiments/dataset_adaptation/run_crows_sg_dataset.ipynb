{
 "cells": [
  {
   "cell_type": "code",
   "execution_count": 1,
   "id": "ef6b88f684b89f8a",
   "metadata": {
    "ExecuteTime": {
     "end_time": "2024-07-28T11:03:31.183372Z",
     "start_time": "2024-07-28T11:03:30.571708Z"
    }
   },
   "outputs": [
    {
     "name": "stdout",
     "output_type": "stream",
     "text": [
      "Sun Jul 28 19:03:30 2024       \r\n",
      "+---------------------------------------------------------------------------------------+\r\n",
      "| NVIDIA-SMI 535.183.01             Driver Version: 535.183.01   CUDA Version: 12.2     |\r\n",
      "|-----------------------------------------+----------------------+----------------------+\r\n",
      "| GPU  Name                 Persistence-M | Bus-Id        Disp.A | Volatile Uncorr. ECC |\r\n",
      "| Fan  Temp   Perf          Pwr:Usage/Cap |         Memory-Usage | GPU-Util  Compute M. |\r\n",
      "|                                         |                      |               MIG M. |\r\n",
      "|=========================================+======================+======================|\r\n",
      "|   0  NVIDIA RTX A6000               Off | 00000000:01:00.0 Off |                  Off |\r\n",
      "| 30%   33C    P8              24W / 300W |      1MiB / 49140MiB |      0%      Default |\r\n",
      "|                                         |                      |                  N/A |\r\n",
      "+-----------------------------------------+----------------------+----------------------+\r\n",
      "|   1  NVIDIA RTX A6000               Off | 00000000:21:00.0 Off |                  Off |\r\n",
      "| 30%   33C    P8              20W / 300W |      1MiB / 49140MiB |      0%      Default |\r\n",
      "|                                         |                      |                  N/A |\r\n",
      "+-----------------------------------------+----------------------+----------------------+\r\n",
      "|   2  NVIDIA RTX A6000               Off | 00000000:41:00.0 Off |                  Off |\r\n",
      "| 30%   35C    P8              17W / 300W |      1MiB / 49140MiB |      0%      Default |\r\n",
      "|                                         |                      |                  N/A |\r\n",
      "+-----------------------------------------+----------------------+----------------------+\r\n",
      "|   3  NVIDIA RTX A6000               Off | 00000000:42:00.0 Off |                  Off |\r\n",
      "| 49%   75C    P2             295W / 300W |  46368MiB / 49140MiB |     71%      Default |\r\n",
      "|                                         |                      |                  N/A |\r\n",
      "+-----------------------------------------+----------------------+----------------------+\r\n",
      "                                                                                         \r\n",
      "+---------------------------------------------------------------------------------------+\r\n",
      "| Processes:                                                                            |\r\n",
      "|  GPU   GI   CI        PID   Type   Process name                            GPU Memory |\r\n",
      "|        ID   ID                                                             Usage      |\r\n",
      "|=======================================================================================|\r\n",
      "|    3   N/A  N/A   1808150      C   python                                    46362MiB |\r\n",
      "+---------------------------------------------------------------------------------------+\r\n"
     ]
    }
   ],
   "source": [
    "!nvidia-smi"
   ]
  },
  {
   "cell_type": "code",
   "execution_count": 2,
   "id": "initial_id",
   "metadata": {
    "ExecuteTime": {
     "end_time": "2024-07-28T11:03:33.694996Z",
     "start_time": "2024-07-28T11:03:33.691810Z"
    },
    "collapsed": true
   },
   "outputs": [],
   "source": [
    "import os\n",
    "\n",
    "os.environ['CUDA_VISIBLE_DEVICES'] = '2'"
   ]
  },
  {
   "cell_type": "markdown",
   "id": "cf1a8b912d47b04e",
   "metadata": {},
   "source": [
    "# GPT2"
   ]
  },
  {
   "cell_type": "code",
   "execution_count": 5,
   "id": "fde06b0d3b039561",
   "metadata": {
    "ExecuteTime": {
     "end_time": "2024-07-28T11:05:40.742916Z",
     "start_time": "2024-07-28T11:05:26.939221Z"
    }
   },
   "outputs": [
    {
     "name": "stdout",
     "output_type": "stream",
     "text": [
      "The token has not been saved to the git credentials helper. Pass `add_to_git_credential=True` in this function directly or `--add-to-git-credential` if using via `huggingface-cli` if you want to set the git credential as well.\r\n",
      "Token is valid (permission: read).\r\n",
      "Your token has been saved to /home/ongzhiyang/.cache/huggingface/token\r\n",
      "Login successful\r\n",
      "Running CrowS-Pairs benchmark:\r\n",
      " - persistent_dir: /home/ongzhiyang/bias-bench-main\r\n",
      " - model: GPT2LMHeadModel\r\n",
      " - model_name_or_path: gpt2\r\n",
      " - bias_type: religion\r\n",
      "Evaluating religion examples.\r\n",
      "Unconditional start token: <|endoftext|>\r\n",
      "100%|█████████████████████████████████████████| 101/101 [00:04<00:00, 23.88it/s]\r\n",
      "====================================================================================================\r\n",
      "Total examples: 101\r\n",
      "Metric score: 51.49\r\n",
      "Stereotype score: 53.68\r\n",
      "Anti-stereotype score: 16.67\r\n",
      "Num. neutral: 0.0\r\n",
      "====================================================================================================\r\n",
      "\r\n",
      "{\r\n",
      "    \"religion\": {\r\n",
      "        \"Total examples\": 101,\r\n",
      "        \"Metric score\": 51.49,\r\n",
      "        \"Stereotype score\": 53.68,\r\n",
      "        \"Anti-stereotype score\": 16.67,\r\n",
      "        \"Num. neutral\": 0.0\r\n",
      "    }\r\n",
      "}\r\n"
     ]
    }
   ],
   "source": [
    "!python ../crows.py --bias_type \"religion\" --model \"GPT2LMHeadModel\" --model_name_or_path \"gpt2\" --custom_dataset_path \"crows_pairs_anonymized_adapted_sg.csv\""
   ]
  },
  {
   "cell_type": "code",
   "execution_count": 6,
   "id": "f5c2749564016a99",
   "metadata": {
    "ExecuteTime": {
     "end_time": "2024-07-28T10:36:20.016013Z",
     "start_time": "2024-07-28T10:35:51.856775Z"
    }
   },
   "outputs": [
    {
     "name": "stdout",
     "output_type": "stream",
     "text": [
      "The token has not been saved to the git credentials helper. Pass `add_to_git_credential=True` in this function directly or `--add-to-git-credential` if using via `huggingface-cli` if you want to set the git credential as well.\r\n",
      "Token is valid (permission: read).\r\n",
      "Your token has been saved to /home/ongzhiyang/.cache/huggingface/token\r\n",
      "Login successful\r\n",
      "Running CrowS-Pairs benchmark:\r\n",
      " - persistent_dir: /home/ongzhiyang/bias-bench-main\r\n",
      " - model: GPT2LMHeadModel\r\n",
      " - model_name_or_path: gpt2\r\n",
      " - bias_type: race\r\n",
      "Evaluating race-color examples.\r\n",
      "Unconditional start token: <|endoftext|>\r\n",
      "100%|█████████████████████████████████████████| 518/518 [00:18<00:00, 27.83it/s]\r\n",
      "====================================================================================================\r\n",
      "Total examples: 518\r\n",
      "Metric score: 28.57\r\n",
      "Stereotype score: 27.43\r\n",
      "Anti-stereotype score: 41.86\r\n",
      "Num. neutral: 0.0\r\n",
      "====================================================================================================\r\n",
      "\r\n",
      "{\r\n",
      "    \"race-color\": {\r\n",
      "        \"Total examples\": 518,\r\n",
      "        \"Metric score\": 28.57,\r\n",
      "        \"Stereotype score\": 27.43,\r\n",
      "        \"Anti-stereotype score\": 41.86,\r\n",
      "        \"Num. neutral\": 0.0\r\n",
      "    }\r\n",
      "}\r\n"
     ]
    }
   ],
   "source": [
    "!python ../crows.py --bias_type \"race\" --model \"GPT2LMHeadModel\" --model_name_or_path \"gpt2\" --custom_dataset_path \"crows_pairs_anonymized_adapted_sg.csv\""
   ]
  },
  {
   "cell_type": "code",
   "execution_count": 7,
   "id": "61e93cdf447e8822",
   "metadata": {
    "ExecuteTime": {
     "end_time": "2024-07-28T10:36:39.588543Z",
     "start_time": "2024-07-28T10:36:20.017183Z"
    }
   },
   "outputs": [
    {
     "name": "stdout",
     "output_type": "stream",
     "text": [
      "The token has not been saved to the git credentials helper. Pass `add_to_git_credential=True` in this function directly or `--add-to-git-credential` if using via `huggingface-cli` if you want to set the git credential as well.\r\n",
      "Token is valid (permission: read).\r\n",
      "Your token has been saved to /home/ongzhiyang/.cache/huggingface/token\r\n",
      "Login successful\r\n",
      "Running CrowS-Pairs benchmark:\r\n",
      " - persistent_dir: /home/ongzhiyang/bias-bench-main\r\n",
      " - model: GPT2LMHeadModel\r\n",
      " - model_name_or_path: gpt2\r\n",
      " - bias_type: gender\r\n",
      "Evaluating gender examples.\r\n",
      "Unconditional start token: <|endoftext|>\r\n",
      "100%|█████████████████████████████████████████| 261/261 [00:09<00:00, 26.20it/s]\r\n",
      "====================================================================================================\r\n",
      "Total examples: 261\r\n",
      "Metric score: 49.43\r\n",
      "Stereotype score: 54.61\r\n",
      "Anti-stereotype score: 46.46\r\n",
      "Num. neutral: 0.38\r\n",
      "====================================================================================================\r\n",
      "\r\n",
      "{\r\n",
      "    \"gender\": {\r\n",
      "        \"Total examples\": 261,\r\n",
      "        \"Metric score\": 49.43,\r\n",
      "        \"Stereotype score\": 54.61,\r\n",
      "        \"Anti-stereotype score\": 46.46,\r\n",
      "        \"Num. neutral\": 0.38\r\n",
      "    }\r\n",
      "}\r\n"
     ]
    }
   ],
   "source": [
    "!python ../crows.py --bias_type \"gender\" --model \"GPT2LMHeadModel\" --model_name_or_path \"gpt2\" --custom_dataset_path \"crows_pairs_anonymized_adapted_sg.csv\""
   ]
  },
  {
   "cell_type": "markdown",
   "id": "1981b067dac865d1",
   "metadata": {},
   "source": [
    "# Phi2"
   ]
  },
  {
   "cell_type": "code",
   "execution_count": 8,
   "id": "a2a5dd7169bad747",
   "metadata": {
    "ExecuteTime": {
     "end_time": "2024-07-28T10:37:11.122388Z",
     "start_time": "2024-07-28T10:36:39.590284Z"
    }
   },
   "outputs": [
    {
     "name": "stdout",
     "output_type": "stream",
     "text": [
      "The token has not been saved to the git credentials helper. Pass `add_to_git_credential=True` in this function directly or `--add-to-git-credential` if using via `huggingface-cli` if you want to set the git credential as well.\r\n",
      "Token is valid (permission: read).\r\n",
      "Your token has been saved to /home/ongzhiyang/.cache/huggingface/token\r\n",
      "Login successful\r\n",
      "Running CrowS-Pairs benchmark:\r\n",
      " - persistent_dir: /home/ongzhiyang/bias-bench-main\r\n",
      " - model: PhiForCausalLM\r\n",
      " - model_name_or_path: microsoft/phi-2\r\n",
      " - bias_type: religion\r\n",
      "Loading checkpoint shards: 100%|██████████████████| 2/2 [00:04<00:00,  2.21s/it]\r\n",
      "Evaluating religion examples.\r\n",
      "Unconditional start token: <|endoftext|>\r\n",
      "  0%|                                                   | 0/101 [00:00<?, ?it/s]We detected that you are passing `past_key_values` as a tuple and this is deprecated and will be removed in v4.43. Please use an appropriate `Cache` class (https://huggingface.co/docs/transformers/v4.41.3/en/internal/generation_utils#transformers.Cache)\r\n",
      "100%|█████████████████████████████████████████| 101/101 [00:13<00:00,  7.45it/s]\r\n",
      "====================================================================================================\r\n",
      "Total examples: 101\r\n",
      "Metric score: 53.47\r\n",
      "Stereotype score: 54.74\r\n",
      "Anti-stereotype score: 33.33\r\n",
      "Num. neutral: 0.0\r\n",
      "====================================================================================================\r\n",
      "\r\n",
      "{\r\n",
      "    \"religion\": {\r\n",
      "        \"Total examples\": 101,\r\n",
      "        \"Metric score\": 53.47,\r\n",
      "        \"Stereotype score\": 54.74,\r\n",
      "        \"Anti-stereotype score\": 33.33,\r\n",
      "        \"Num. neutral\": 0.0\r\n",
      "    }\r\n",
      "}\r\n"
     ]
    }
   ],
   "source": [
    "!python ../crows.py --bias_type \"religion\" --model \"PhiForCausalLM\" --model_name_or_path \"microsoft/phi-2\" --custom_dataset_path \"crows_pairs_anonymized_adapted_sg.csv\""
   ]
  },
  {
   "cell_type": "code",
   "execution_count": 9,
   "id": "f619feab5eb0b6ee",
   "metadata": {
    "ExecuteTime": {
     "end_time": "2024-07-28T10:38:34.211894Z",
     "start_time": "2024-07-28T10:37:11.123596Z"
    }
   },
   "outputs": [
    {
     "name": "stdout",
     "output_type": "stream",
     "text": [
      "The token has not been saved to the git credentials helper. Pass `add_to_git_credential=True` in this function directly or `--add-to-git-credential` if using via `huggingface-cli` if you want to set the git credential as well.\r\n",
      "Token is valid (permission: read).\r\n",
      "Your token has been saved to /home/ongzhiyang/.cache/huggingface/token\r\n",
      "Login successful\r\n",
      "Running CrowS-Pairs benchmark:\r\n",
      " - persistent_dir: /home/ongzhiyang/bias-bench-main\r\n",
      " - model: PhiForCausalLM\r\n",
      " - model_name_or_path: microsoft/phi-2\r\n",
      " - bias_type: race\r\n",
      "Loading checkpoint shards: 100%|██████████████████| 2/2 [00:02<00:00,  1.28s/it]\r\n",
      "Evaluating race-color examples.\r\n",
      "Unconditional start token: <|endoftext|>\r\n",
      "  0%|                                                   | 0/518 [00:00<?, ?it/s]We detected that you are passing `past_key_values` as a tuple and this is deprecated and will be removed in v4.43. Please use an appropriate `Cache` class (https://huggingface.co/docs/transformers/v4.41.3/en/internal/generation_utils#transformers.Cache)\r\n",
      "100%|█████████████████████████████████████████| 518/518 [01:06<00:00,  7.78it/s]\r\n",
      "====================================================================================================\r\n",
      "Total examples: 518\r\n",
      "Metric score: 42.08\r\n",
      "Stereotype score: 41.14\r\n",
      "Anti-stereotype score: 53.49\r\n",
      "Num. neutral: 0.0\r\n",
      "====================================================================================================\r\n",
      "\r\n",
      "{\r\n",
      "    \"race-color\": {\r\n",
      "        \"Total examples\": 518,\r\n",
      "        \"Metric score\": 42.08,\r\n",
      "        \"Stereotype score\": 41.14,\r\n",
      "        \"Anti-stereotype score\": 53.49,\r\n",
      "        \"Num. neutral\": 0.0\r\n",
      "    }\r\n",
      "}\r\n"
     ]
    }
   ],
   "source": [
    "!python ../crows.py --bias_type \"race\" --model \"PhiForCausalLM\" --model_name_or_path \"microsoft/phi-2\" --custom_dataset_path \"crows_pairs_anonymized_adapted_sg.csv\""
   ]
  },
  {
   "cell_type": "code",
   "execution_count": 10,
   "id": "a414f96933ac8043",
   "metadata": {
    "ExecuteTime": {
     "end_time": "2024-07-28T10:39:24.142013Z",
     "start_time": "2024-07-28T10:38:34.215098Z"
    }
   },
   "outputs": [
    {
     "name": "stdout",
     "output_type": "stream",
     "text": [
      "The token has not been saved to the git credentials helper. Pass `add_to_git_credential=True` in this function directly or `--add-to-git-credential` if using via `huggingface-cli` if you want to set the git credential as well.\r\n",
      "Token is valid (permission: read).\r\n",
      "Your token has been saved to /home/ongzhiyang/.cache/huggingface/token\r\n",
      "Login successful\r\n",
      "Running CrowS-Pairs benchmark:\r\n",
      " - persistent_dir: /home/ongzhiyang/bias-bench-main\r\n",
      " - model: PhiForCausalLM\r\n",
      " - model_name_or_path: microsoft/phi-2\r\n",
      " - bias_type: gender\r\n",
      "Loading checkpoint shards: 100%|██████████████████| 2/2 [00:02<00:00,  1.16s/it]\r\n",
      "Evaluating gender examples.\r\n",
      "Unconditional start token: <|endoftext|>\r\n",
      "  0%|                                                   | 0/261 [00:00<?, ?it/s]We detected that you are passing `past_key_values` as a tuple and this is deprecated and will be removed in v4.43. Please use an appropriate `Cache` class (https://huggingface.co/docs/transformers/v4.41.3/en/internal/generation_utils#transformers.Cache)\r\n",
      "100%|█████████████████████████████████████████| 261/261 [00:33<00:00,  7.73it/s]\r\n",
      "====================================================================================================\r\n",
      "Total examples: 261\r\n",
      "Metric score: 60.92\r\n",
      "Stereotype score: 67.32\r\n",
      "Anti-stereotype score: 56.57\r\n",
      "Num. neutral: 0.0\r\n",
      "====================================================================================================\r\n",
      "\r\n",
      "{\r\n",
      "    \"gender\": {\r\n",
      "        \"Total examples\": 261,\r\n",
      "        \"Metric score\": 60.92,\r\n",
      "        \"Stereotype score\": 67.32,\r\n",
      "        \"Anti-stereotype score\": 56.57,\r\n",
      "        \"Num. neutral\": 0.0\r\n",
      "    }\r\n",
      "}\r\n"
     ]
    }
   ],
   "source": [
    "!python ../crows.py --bias_type \"gender\" --model \"PhiForCausalLM\" --model_name_or_path \"microsoft/phi-2\" --custom_dataset_path \"crows_pairs_anonymized_adapted_sg.csv\""
   ]
  },
  {
   "cell_type": "markdown",
   "id": "f080110b3ff6300f",
   "metadata": {},
   "source": [
    "# Llama 2"
   ]
  },
  {
   "cell_type": "code",
   "execution_count": 11,
   "id": "c930fa5a6805141",
   "metadata": {
    "ExecuteTime": {
     "end_time": "2024-07-28T10:40:06.437931Z",
     "start_time": "2024-07-28T10:39:24.143088Z"
    }
   },
   "outputs": [
    {
     "name": "stdout",
     "output_type": "stream",
     "text": [
      "The token has not been saved to the git credentials helper. Pass `add_to_git_credential=True` in this function directly or `--add-to-git-credential` if using via `huggingface-cli` if you want to set the git credential as well.\r\n",
      "Token is valid (permission: read).\r\n",
      "Your token has been saved to /home/ongzhiyang/.cache/huggingface/token\r\n",
      "Login successful\r\n",
      "Running CrowS-Pairs benchmark:\r\n",
      " - persistent_dir: /home/ongzhiyang/bias-bench-main\r\n",
      " - model: LlamaForCausalLM\r\n",
      " - model_name_or_path: meta-llama/Llama-2-7b-hf\r\n",
      " - bias_type: religion\r\n",
      "Loading checkpoint shards: 100%|██████████████████| 2/2 [00:07<00:00,  3.70s/it]\r\n",
      "Evaluating religion examples.\r\n",
      "Unconditional start token: <s>\r\n",
      "  0%|                                                   | 0/101 [00:00<?, ?it/s]We detected that you are passing `past_key_values` as a tuple and this is deprecated and will be removed in v4.43. Please use an appropriate `Cache` class (https://huggingface.co/docs/transformers/v4.41.3/en/internal/generation_utils#transformers.Cache)\r\n",
      "100%|█████████████████████████████████████████| 101/101 [00:14<00:00,  6.92it/s]\r\n",
      "====================================================================================================\r\n",
      "Total examples: 101\r\n",
      "Metric score: 62.38\r\n",
      "Stereotype score: 63.16\r\n",
      "Anti-stereotype score: 50.0\r\n",
      "Num. neutral: 0.0\r\n",
      "====================================================================================================\r\n",
      "\r\n",
      "{\r\n",
      "    \"religion\": {\r\n",
      "        \"Total examples\": 101,\r\n",
      "        \"Metric score\": 62.38,\r\n",
      "        \"Stereotype score\": 63.16,\r\n",
      "        \"Anti-stereotype score\": 50.0,\r\n",
      "        \"Num. neutral\": 0.0\r\n",
      "    }\r\n",
      "}\r\n"
     ]
    }
   ],
   "source": [
    "!python ../crows.py --bias_type \"religion\" --model \"LlamaForCausalLM\" --model_name_or_path \"meta-llama/Llama-2-7b-hf\" --custom_dataset_path \"crows_pairs_anonymized_adapted_sg.csv\""
   ]
  },
  {
   "cell_type": "code",
   "execution_count": 12,
   "id": "a24a77b5bfb0fdc0",
   "metadata": {
    "ExecuteTime": {
     "end_time": "2024-07-28T10:41:40.457390Z",
     "start_time": "2024-07-28T10:40:06.440548Z"
    }
   },
   "outputs": [
    {
     "name": "stdout",
     "output_type": "stream",
     "text": [
      "The token has not been saved to the git credentials helper. Pass `add_to_git_credential=True` in this function directly or `--add-to-git-credential` if using via `huggingface-cli` if you want to set the git credential as well.\r\n",
      "Token is valid (permission: read).\r\n",
      "Your token has been saved to /home/ongzhiyang/.cache/huggingface/token\r\n",
      "Login successful\r\n",
      "Running CrowS-Pairs benchmark:\r\n",
      " - persistent_dir: /home/ongzhiyang/bias-bench-main\r\n",
      " - model: LlamaForCausalLM\r\n",
      " - model_name_or_path: meta-llama/Llama-2-7b-hf\r\n",
      " - bias_type: race\r\n",
      "Loading checkpoint shards: 100%|██████████████████| 2/2 [00:04<00:00,  2.29s/it]\r\n",
      "Evaluating race-color examples.\r\n",
      "Unconditional start token: <s>\r\n",
      "  0%|                                                   | 0/518 [00:00<?, ?it/s]We detected that you are passing `past_key_values` as a tuple and this is deprecated and will be removed in v4.43. Please use an appropriate `Cache` class (https://huggingface.co/docs/transformers/v4.41.3/en/internal/generation_utils#transformers.Cache)\r\n",
      "100%|█████████████████████████████████████████| 518/518 [01:10<00:00,  7.37it/s]\r\n",
      "====================================================================================================\r\n",
      "Total examples: 518\r\n",
      "Metric score: 42.47\r\n",
      "Stereotype score: 41.98\r\n",
      "Anti-stereotype score: 48.84\r\n",
      "Num. neutral: 0.0\r\n",
      "====================================================================================================\r\n",
      "\r\n",
      "{\r\n",
      "    \"race-color\": {\r\n",
      "        \"Total examples\": 518,\r\n",
      "        \"Metric score\": 42.47,\r\n",
      "        \"Stereotype score\": 41.98,\r\n",
      "        \"Anti-stereotype score\": 48.84,\r\n",
      "        \"Num. neutral\": 0.0\r\n",
      "    }\r\n",
      "}\r\n"
     ]
    }
   ],
   "source": [
    "!python ../crows.py --bias_type \"race\" --model \"LlamaForCausalLM\" --model_name_or_path \"meta-llama/Llama-2-7b-hf\" --custom_dataset_path \"crows_pairs_anonymized_adapted_sg.csv\""
   ]
  },
  {
   "cell_type": "code",
   "execution_count": 13,
   "id": "6acabd203bb835e2",
   "metadata": {
    "ExecuteTime": {
     "end_time": "2024-07-28T10:42:40.882839Z",
     "start_time": "2024-07-28T10:41:40.472156Z"
    }
   },
   "outputs": [
    {
     "name": "stdout",
     "output_type": "stream",
     "text": [
      "The token has not been saved to the git credentials helper. Pass `add_to_git_credential=True` in this function directly or `--add-to-git-credential` if using via `huggingface-cli` if you want to set the git credential as well.\r\n",
      "Token is valid (permission: read).\r\n",
      "Your token has been saved to /home/ongzhiyang/.cache/huggingface/token\r\n",
      "Login successful\r\n",
      "Running CrowS-Pairs benchmark:\r\n",
      " - persistent_dir: /home/ongzhiyang/bias-bench-main\r\n",
      " - model: LlamaForCausalLM\r\n",
      " - model_name_or_path: meta-llama/Llama-2-7b-hf\r\n",
      " - bias_type: gender\r\n",
      "Loading checkpoint shards: 100%|██████████████████| 2/2 [00:04<00:00,  2.08s/it]\r\n",
      "Evaluating gender examples.\r\n",
      "Unconditional start token: <s>\r\n",
      "  0%|                                                   | 0/261 [00:00<?, ?it/s]We detected that you are passing `past_key_values` as a tuple and this is deprecated and will be removed in v4.43. Please use an appropriate `Cache` class (https://huggingface.co/docs/transformers/v4.41.3/en/internal/generation_utils#transformers.Cache)\r\n",
      "100%|█████████████████████████████████████████| 261/261 [00:36<00:00,  7.14it/s]\r\n",
      "====================================================================================================\r\n",
      "Total examples: 261\r\n",
      "Metric score: 67.05\r\n",
      "Stereotype score: 74.51\r\n",
      "Anti-stereotype score: 61.62\r\n",
      "Num. neutral: 0.0\r\n",
      "====================================================================================================\r\n",
      "\r\n",
      "{\r\n",
      "    \"gender\": {\r\n",
      "        \"Total examples\": 261,\r\n",
      "        \"Metric score\": 67.05,\r\n",
      "        \"Stereotype score\": 74.51,\r\n",
      "        \"Anti-stereotype score\": 61.62,\r\n",
      "        \"Num. neutral\": 0.0\r\n",
      "    }\r\n",
      "}\r\n"
     ]
    }
   ],
   "source": [
    "!python ../crows.py --bias_type \"gender\" --model \"LlamaForCausalLM\" --model_name_or_path \"meta-llama/Llama-2-7b-hf\" --custom_dataset_path \"crows_pairs_anonymized_adapted_sg.csv\""
   ]
  },
  {
   "cell_type": "code",
   "execution_count": null,
   "id": "6fa0e66f0d00fc91",
   "metadata": {},
   "outputs": [],
   "source": []
  }
 ],
 "metadata": {
  "kernelspec": {
   "display_name": "Python [conda env:fyp] *",
   "language": "python",
   "name": "conda-env-fyp-py"
  },
  "language_info": {
   "codemirror_mode": {
    "name": "ipython",
    "version": 2
   },
   "file_extension": ".py",
   "mimetype": "text/x-python",
   "name": "python",
   "nbconvert_exporter": "python",
   "pygments_lexer": "ipython2",
   "version": "2.7.6"
  }
 },
 "nbformat": 4,
 "nbformat_minor": 5
}
