{
 "cells": [
  {
   "cell_type": "markdown",
   "id": "1638c0126cb39f2c",
   "metadata": {},
   "source": [
    "# Before debias"
   ]
  },
  {
   "cell_type": "code",
   "id": "8928d1122bd10a26",
   "metadata": {},
   "source": [
    "!python ../stereoset_evaluation.py --predictions_file \"../../results/adapted_dataset/stereoset/stereoset_m-GPT2LMHeadModel_c-gpt2_s-42.json\" --output_file \"../../results/adapted_dataset/stereoset_processed/stereoset_m-GPT2LMHeadModel_c-gpt2_s-42.json\""
   ],
   "outputs": [],
   "execution_count": null
  },
  {
   "cell_type": "code",
   "id": "dba2ea941cd42bc9",
   "metadata": {},
   "source": [
    "!python ../stereoset_evaluation.py --predictions_file \"../../results/adapted_dataset/stereoset/stereoset_m-PhiForCausalLM_c-microsoft_phi-2_s-42.json\" --output_file \"../../results/adapted_dataset/stereoset_processed/stereoset_m-PhiForCausalLM_c-microsoft_phi-2_s-42.json\""
   ],
   "outputs": [],
   "execution_count": null
  },
  {
   "cell_type": "code",
   "id": "initial_id",
   "metadata": {
    "collapsed": true
   },
   "source": [
    "!python ../stereoset_evaluation.py --predictions_file \"../../results/adapted_dataset/stereoset/stereoset_m-LlamaForCausalLM_c-meta-llama_Llama-2-7b-hf_s-42.json\" --output_file \"../../results/adapted_dataset/stereoset_processed/stereoset_m-LlamaForCausalLM_c-meta-llama_Llama-2-7b-hf_s-42.json\""
   ],
   "outputs": [],
   "execution_count": null
  },
  {
   "cell_type": "markdown",
   "id": "4dc19b4a1c6f008d",
   "metadata": {},
   "source": [
    "# After debias"
   ]
  },
  {
   "cell_type": "markdown",
   "id": "7b86ab5a712a3bdc",
   "metadata": {},
   "source": [
    "# Self debias"
   ]
  },
  {
   "cell_type": "code",
   "id": "f800e0aa72bf4539",
   "metadata": {},
   "source": [
    "import os\n",
    "\n",
    "self_debias_dir = \"../../results/adapted_dataset/stereoset_SelfDebias/\"\n",
    "output_dir = \"../../results/adapted_dataset/stereoset_SelfDebias_processed/\""
   ],
   "outputs": [],
   "execution_count": null
  },
  {
   "cell_type": "code",
   "id": "3347f2da57571a17",
   "metadata": {},
   "source": [
    "# Loop files in self_debias_dir\n",
    "for file in os.listdir(self_debias_dir):\n",
    "    if file.endswith(\".json\"):\n",
    "        command = f\"python ../stereoset_evaluation.py --predictions_file '{os.path.join(self_debias_dir, file)}' --output_file '{os.path.join(output_dir, file)}'\"\n",
    "        print(f\"Executing: {command}\")\n",
    "        get_ipython().system(command)"
   ],
   "outputs": [],
   "execution_count": null
  },
  {
   "cell_type": "markdown",
   "id": "b1146b17e6efd5c",
   "metadata": {},
   "source": [
    "# Sentence Debias"
   ]
  },
  {
   "cell_type": "code",
   "id": "7c03bc59f97e237e",
   "metadata": {},
   "source": [
    "import os\n",
    "\n",
    "sentence_debias_dir = \"../../results/adapted_dataset/stereoset_SentenceDebias/\"\n",
    "output_dir = \"../../results/adapted_dataset/stereoset_SentenceDebias_processed/\""
   ],
   "outputs": [],
   "execution_count": null
  },
  {
   "cell_type": "code",
   "id": "4956bc86818a76d5",
   "metadata": {},
   "source": [
    "# Loop files in self_debias_dir\n",
    "for file in os.listdir(sentence_debias_dir):\n",
    "    if file.endswith(\".json\"):\n",
    "        command = f\"python ../stereoset_evaluation.py --predictions_file '{os.path.join(sentence_debias_dir, file)}' --output_file '{os.path.join(output_dir, file)}'\"\n",
    "        print(f\"Executing: {command}\")\n",
    "        get_ipython().system(command)"
   ],
   "outputs": [],
   "execution_count": null
  },
  {
   "cell_type": "markdown",
   "id": "a07ae17c9184aaa4",
   "metadata": {},
   "source": [
    "# INLP"
   ]
  },
  {
   "cell_type": "code",
   "id": "47678f6a662b6708",
   "metadata": {},
   "source": [
    "import os\n",
    "\n",
    "inlp_debias_dir = \"../../results/adapted_dataset/stereoset_INLP/n_classifiers_10/\"\n",
    "output_dir = \"../../results/adapted_dataset/stereoset_INLP_processed/n_classifiers_10/\""
   ],
   "outputs": [],
   "execution_count": null
  },
  {
   "cell_type": "code",
   "id": "76b21f770373744c",
   "metadata": {},
   "source": [
    "# Loop files in self_debias_dir\n",
    "for file in os.listdir(inlp_debias_dir):\n",
    "    if file.endswith(\".json\"):\n",
    "        command = f\"python ../stereoset_evaluation.py --predictions_file '{os.path.join(inlp_debias_dir, file)}' --output_file '{os.path.join(output_dir, file)}'\"\n",
    "        print(f\"Executing: {command}\")\n",
    "        get_ipython().system(command)"
   ],
   "outputs": [],
   "execution_count": null
  },
  {
   "cell_type": "code",
   "id": "d854dd13e5386865",
   "metadata": {},
   "source": [
    "import os\n",
    "\n",
    "inlp_debias_dir = \"../../results/adapted_dataset/stereoset_INLP/n_classifiers_80/\"\n",
    "output_dir = \"../../results/adapted_dataset/stereoset_INLP_processed/n_classifiers_80/\""
   ],
   "outputs": [],
   "execution_count": null
  },
  {
   "cell_type": "code",
   "id": "dd166f19e869862d",
   "metadata": {},
   "source": [
    "# Loop files in self_debias_dir\n",
    "for file in os.listdir(inlp_debias_dir):\n",
    "    if file.endswith(\".json\"):\n",
    "        command = f\"python ../stereoset_evaluation.py --predictions_file '{os.path.join(inlp_debias_dir, file)}' --output_file '{os.path.join(output_dir, file)}'\"\n",
    "        print(f\"Executing: {command}\")\n",
    "        get_ipython().system(command)"
   ],
   "outputs": [],
   "execution_count": null
  },
  {
   "cell_type": "markdown",
   "id": "762cb7a01a67b3df",
   "metadata": {},
   "source": [
    "# CDA\n",
    "## Requires collating of results into 1 file"
   ]
  },
  {
   "cell_type": "markdown",
   "id": "4d309336b81d2cdd",
   "metadata": {},
   "source": [
    "# GPT2 all categories"
   ]
  },
  {
   "cell_type": "code",
   "id": "7af36452bbb493b",
   "metadata": {},
   "source": [
    "import os\n",
    "\n",
    "sentence_debias_dir = \"../../results/adapted_dataset/stereoset_CDA/gpt2\"\n",
    "output_dir = \"../../results/adapted_dataset/stereoset_CDA_processed/gpt2\""
   ],
   "outputs": [],
   "execution_count": null
  },
  {
   "cell_type": "code",
   "id": "9825c5c1e9c75e52",
   "metadata": {},
   "source": [
    "for category in ['gender', 'race-color', 'religion']:\n",
    "    # Loop files in self_debias_dir\n",
    "    for file in os.listdir(os.path.join(sentence_debias_dir, category)):\n",
    "        if file.endswith(\".json\"):\n",
    "            command = f\"python ../stereoset_evaluation.py --predictions_file '{os.path.join(sentence_debias_dir, category, file)}' --output_file '{os.path.join(output_dir, category, file)}'\"\n",
    "            print(f\"Executing: {command}\")\n",
    "            get_ipython().system(command)"
   ],
   "outputs": [],
   "execution_count": null
  },
  {
   "cell_type": "code",
   "id": "10e089fc67e995df",
   "metadata": {},
   "source": [
    "import json\n",
    "# After generating the results, we collate them into 1 file\n",
    "combined_json = {}\n",
    "\n",
    "for category in ['gender', 'race-color', 'religion']:\n",
    "    for file in os.listdir(os.path.join(output_dir, category)):\n",
    "        if file.endswith(\".json\"):\n",
    "            # Load all files, append to combined_json\n",
    "            with open(os.path.join(output_dir, category, file), 'r') as f:\n",
    "                data = json.load(f)\n",
    "                # Get ckpt_num, main key of the data\n",
    "                ckpt_num = list(data.keys())[0].split(\"_\")[-1]\n",
    "                combined_json[ckpt_num] = data[list(data.keys())[0]]\n",
    "            \n",
    "    # Save combined_json\n",
    "    with open(os.path.join(output_dir, category, \"combined.json\"), 'w') as f:\n",
    "        json.dump(combined_json, f, indent=2)"
   ],
   "outputs": [],
   "execution_count": null
  },
  {
   "cell_type": "markdown",
   "id": "55cecf23de183a46",
   "metadata": {},
   "source": [
    "# Phi all categories"
   ]
  },
  {
   "cell_type": "code",
   "id": "bfba53067a91f361",
   "metadata": {},
   "source": [
    "import os\n",
    "\n",
    "sentence_debias_dir = \"../../results/adapted_dataset/stereoset_CDA/phi2\"\n",
    "output_dir = \"../../results/adapted_dataset/stereoset_CDA_processed/phi2\""
   ],
   "outputs": [],
   "execution_count": null
  },
  {
   "cell_type": "code",
   "id": "d560287f1f764a3e",
   "metadata": {},
   "source": [
    "for category in ['gender', 'race-color', 'religion']:\n",
    "    # Loop files in self_debias_dir\n",
    "    for file in os.listdir(os.path.join(sentence_debias_dir, category)):\n",
    "        if file.endswith(\".json\"):\n",
    "            command = f\"python ../stereoset_evaluation.py --predictions_file '{os.path.join(sentence_debias_dir, category, file)}' --output_file '{os.path.join(output_dir, category, file)}'\"\n",
    "            print(f\"Executing: {command}\")\n",
    "            get_ipython().system(command)"
   ],
   "outputs": [],
   "execution_count": null
  },
  {
   "cell_type": "code",
   "id": "27e1ec6b16c71a6a",
   "metadata": {},
   "source": [
    "import json\n",
    "# After generating the results, we collate them into 1 file\n",
    "combined_json = {}\n",
    "\n",
    "for category in ['gender', 'race-color', 'religion']:\n",
    "    for file in os.listdir(os.path.join(output_dir, category)):\n",
    "        if file.endswith(\".json\"):\n",
    "            # Load all files, append to combined_json\n",
    "            with open(os.path.join(output_dir, category, file), 'r') as f:\n",
    "                data = json.load(f)\n",
    "                # Get ckpt_num, main key of the data\n",
    "                ckpt_num = list(data.keys())[0].split(\"_\")[-1]\n",
    "                combined_json[ckpt_num] = data[list(data.keys())[0]]\n",
    "            \n",
    "    # Save combined_json\n",
    "    with open(os.path.join(output_dir, category, \"combined.json\"), 'w') as f:\n",
    "        json.dump(combined_json, f, indent=2)"
   ],
   "outputs": [],
   "execution_count": null
  },
  {
   "cell_type": "markdown",
   "id": "8b5ad5a75457f624",
   "metadata": {},
   "source": [
    "# Llama 2 all categories"
   ]
  },
  {
   "cell_type": "code",
   "id": "4c8cf1739fa3a58b",
   "metadata": {},
   "source": [
    "import os\n",
    "\n",
    "sentence_debias_dir = \"../../results/adapted_dataset/stereoset_CDA/llama2\"\n",
    "output_dir = \"../../results/adapted_dataset/stereoset_CDA_processed/llama2\""
   ],
   "outputs": [],
   "execution_count": null
  },
  {
   "cell_type": "code",
   "id": "65c92a77b7b7e03d",
   "metadata": {
    "jupyter": {
     "is_executing": true
    }
   },
   "source": [
    "for category in ['gender', 'race-color', 'religion']:\n",
    "    # Loop files in self_debias_dir\n",
    "    for file in os.listdir(os.path.join(sentence_debias_dir, category)):\n",
    "        if file.endswith(\".json\"):\n",
    "            command = f\"python ../stereoset_evaluation.py --predictions_file '{os.path.join(sentence_debias_dir, category, file)}' --output_file '{os.path.join(output_dir, category, file)}'\"\n",
    "            print(f\"Executing: {command}\")\n",
    "            get_ipython().system(command)"
   ],
   "outputs": [],
   "execution_count": null
  },
  {
   "cell_type": "code",
   "id": "b8e2cc1279ef1d42",
   "metadata": {
    "jupyter": {
     "is_executing": true
    }
   },
   "source": [
    "import json\n",
    "# After generating the results, we collate them into 1 file\n",
    "combined_json = {}\n",
    "\n",
    "for category in ['gender', 'race-color', 'religion']:\n",
    "    for file in os.listdir(os.path.join(output_dir, category)):\n",
    "        if file.endswith(\".json\"):\n",
    "            # Load all files, append to combined_json\n",
    "            with open(os.path.join(output_dir, category, file), 'r') as f:\n",
    "                data = json.load(f)\n",
    "                # Get ckpt_num, main key of the data\n",
    "                ckpt_num = list(data.keys())[0].split(\"_\")[-1]\n",
    "                combined_json[ckpt_num] = data[list(data.keys())[0]]\n",
    "            \n",
    "    # Save combined_json\n",
    "    with open(os.path.join(output_dir, category, \"combined.json\"), 'w') as f:\n",
    "        json.dump(combined_json, f, indent=2)"
   ],
   "outputs": [],
   "execution_count": null
  },
  {
   "cell_type": "markdown",
   "id": "f3e8fcf5a9c39aa1",
   "metadata": {},
   "source": [
    "# Dropout"
   ]
  },
  {
   "cell_type": "markdown",
   "id": "a8b68d335524b98c",
   "metadata": {},
   "source": [
    "# GPT2"
   ]
  },
  {
   "cell_type": "code",
   "id": "39137f95715f6cae",
   "metadata": {
    "jupyter": {
     "is_executing": true
    }
   },
   "source": [
    "import os\n",
    "\n",
    "sentence_debias_dir = \"../../results/dataset_adaptation/stereoset_Dropout/gpt2\"\n",
    "output_dir = \"../../results/dataset_adaptation/stereoset_Dropout_processed/gpt2\""
   ],
   "outputs": [],
   "execution_count": null
  },
  {
   "cell_type": "code",
   "id": "ce6e474a4a461a72",
   "metadata": {},
   "source": [
    "# Loop files in self_debias_dir\n",
    "for file in os.listdir(sentence_debias_dir):\n",
    "    if file.endswith(\".json\"):\n",
    "        command = f\"python ../stereoset_evaluation.py --predictions_file '{os.path.join(sentence_debias_dir, file)}' --output_file '{os.path.join(output_dir, file)}'\"\n",
    "        print(f\"Executing: {command}\")\n",
    "        get_ipython().system(command)"
   ],
   "outputs": [],
   "execution_count": null
  },
  {
   "cell_type": "code",
   "id": "41f962a4c477fbd",
   "metadata": {},
   "source": [
    "import json\n",
    "# After generating the results, we collate them into 1 file\n",
    "combined_json = {}\n",
    "\n",
    "for file in os.listdir(output_dir):\n",
    "    if file.endswith(\".json\"):\n",
    "        # Load all files, append to combined_json\n",
    "        with open(os.path.join(output_dir, file), 'r') as f:\n",
    "            data = json.load(f)\n",
    "            # Get ckpt_num, main key of the data\n",
    "            ckpt_num = list(data.keys())[0].split(\"_\")[-1]\n",
    "            combined_json[ckpt_num] = data[list(data.keys())[0]]\n",
    "        \n",
    "# Save combined_json\n",
    "with open(os.path.join(output_dir, \"combined.json\"), 'w') as f:\n",
    "    json.dump(combined_json, f, indent=2)"
   ],
   "outputs": [],
   "execution_count": null
  },
  {
   "cell_type": "code",
   "id": "ab15f56487011af3",
   "metadata": {},
   "source": [],
   "outputs": [],
   "execution_count": null
  }
 ],
 "metadata": {
  "kernelspec": {
   "display_name": "Python [conda env:fyp] *",
   "language": "python",
   "name": "conda-env-fyp-py"
  },
  "language_info": {
   "codemirror_mode": {
    "name": "ipython",
    "version": 2
   },
   "file_extension": ".py",
   "mimetype": "text/x-python",
   "name": "python",
   "nbconvert_exporter": "python",
   "pygments_lexer": "ipython2",
   "version": "2.7.6"
  }
 },
 "nbformat": 4,
 "nbformat_minor": 5
}
