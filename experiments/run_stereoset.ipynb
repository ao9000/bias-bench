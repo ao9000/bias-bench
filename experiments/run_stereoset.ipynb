{
 "cells": [
  {
   "cell_type": "markdown",
   "id": "759f59d0e33b63fe",
   "metadata": {},
   "source": [
    "# Run the StereoSet evaluation"
   ]
  },
  {
   "cell_type": "code",
   "execution_count": 1,
   "id": "initial_id",
   "metadata": {
    "ExecuteTime": {
     "end_time": "2024-06-03T12:16:28.807098Z",
     "start_time": "2024-06-03T12:13:45.190721Z"
    },
    "collapsed": true
   },
   "outputs": [
    {
     "name": "stdout",
     "output_type": "stream",
     "text": [
      "The token has not been saved to the git credentials helper. Pass `add_to_git_credential=True` in this function directly or `--add-to-git-credential` if using via `huggingface-cli` if you want to set the git credential as well.\r\n",
      "Token is valid (permission: read).\r\n",
      "Your token has been saved to /home/FYP/on0008an/.cache/huggingface/token\r\n",
      "Login successful\r\n",
      "Running StereoSet:\r\n",
      " - persistent_dir: /home/FYP/on0008an/bias-bench-main\r\n",
      " - model: BertForMaskedLM\r\n",
      " - model_name_or_path: bert-base-uncased\r\n",
      " - batch_size: 1\r\n",
      " - seed: 1\r\n",
      "Some weights of the model checkpoint at bert-base-uncased were not used when initializing BertForMaskedLM: ['bert.pooler.dense.bias', 'bert.pooler.dense.weight', 'cls.seq_relationship.bias', 'cls.seq_relationship.weight']\r\n",
      "- This IS expected if you are initializing BertForMaskedLM from the checkpoint of a model trained on another task or with another architecture (e.g. initializing a BertForSequenceClassification model from a BertForPreTraining model).\r\n",
      "- This IS NOT expected if you are initializing BertForMaskedLM from the checkpoint of a model that you expect to be exactly identical (initializing a BertForSequenceClassification model from a BertForSequenceClassification model).\r\n",
      "Evaluating intrasentence task.\r\n",
      "100%|████████████████████████████████████| 24464/24464 [02:28<00:00, 164.31it/s]\r\n"
     ]
    }
   ],
   "source": [
    "!python stereoset.py --model \"BertForMaskedLM\" --model_name_or_path \"bert-base-uncased\" --seed 1 --batch_size 1"
   ]
  },
  {
   "cell_type": "code",
   "execution_count": 2,
   "id": "4d7e08bdd656a862",
   "metadata": {
    "ExecuteTime": {
     "end_time": "2024-06-03T12:20:05.232514Z",
     "start_time": "2024-06-03T12:16:28.811103Z"
    }
   },
   "outputs": [
    {
     "name": "stdout",
     "output_type": "stream",
     "text": [
      "The token has not been saved to the git credentials helper. Pass `add_to_git_credential=True` in this function directly or `--add-to-git-credential` if using via `huggingface-cli` if you want to set the git credential as well.\r\n",
      "Token is valid (permission: read).\r\n",
      "Your token has been saved to /home/FYP/on0008an/.cache/huggingface/token\r\n",
      "Login successful\r\n",
      "Running StereoSet:\r\n",
      " - persistent_dir: /home/FYP/on0008an/bias-bench-main\r\n",
      " - model: AlbertForMaskedLM\r\n",
      " - model_name_or_path: albert-base-v2\r\n",
      " - batch_size: 1\r\n",
      " - seed: 1\r\n",
      "Some weights of the model checkpoint at albert-base-v2 were not used when initializing AlbertForMaskedLM: ['albert.pooler.bias', 'albert.pooler.weight']\r\n",
      "- This IS expected if you are initializing AlbertForMaskedLM from the checkpoint of a model trained on another task or with another architecture (e.g. initializing a BertForSequenceClassification model from a BertForPreTraining model).\r\n",
      "- This IS NOT expected if you are initializing AlbertForMaskedLM from the checkpoint of a model that you expect to be exactly identical (initializing a BertForSequenceClassification model from a BertForSequenceClassification model).\r\n",
      "Evaluating intrasentence task.\r\n",
      "100%|████████████████████████████████████| 24217/24217 [03:20<00:00, 120.97it/s]\r\n"
     ]
    }
   ],
   "source": [
    "!python stereoset.py --model \"AlbertForMaskedLM\" --model_name_or_path \"albert-base-v2\" --seed 1 --batch_size 1"
   ]
  },
  {
   "cell_type": "code",
   "execution_count": 3,
   "id": "98f69762bf9f1286",
   "metadata": {
    "ExecuteTime": {
     "end_time": "2024-06-03T12:23:24.408695Z",
     "start_time": "2024-06-03T12:20:05.234743Z"
    }
   },
   "outputs": [
    {
     "name": "stdout",
     "output_type": "stream",
     "text": [
      "The token has not been saved to the git credentials helper. Pass `add_to_git_credential=True` in this function directly or `--add-to-git-credential` if using via `huggingface-cli` if you want to set the git credential as well.\r\n",
      "Token is valid (permission: read).\r\n",
      "Your token has been saved to /home/FYP/on0008an/.cache/huggingface/token\r\n",
      "Login successful\r\n",
      "Running StereoSet:\r\n",
      " - persistent_dir: /home/FYP/on0008an/bias-bench-main\r\n",
      " - model: RobertaForMaskedLM\r\n",
      " - model_name_or_path: roberta-base\r\n",
      " - batch_size: 1\r\n",
      " - seed: 1\r\n",
      "Evaluating intrasentence task.\r\n",
      "100%|████████████████████████████████████| 23941/23941 [03:03<00:00, 130.42it/s]\r\n"
     ]
    }
   ],
   "source": [
    "!python stereoset.py --model \"RobertaForMaskedLM\" --model_name_or_path \"roberta-base\" --seed 1 --batch_size 1"
   ]
  },
  {
   "cell_type": "code",
   "execution_count": 6,
   "id": "5e69b1a90505a4a7",
   "metadata": {
    "ExecuteTime": {
     "end_time": "2024-06-03T12:29:03.388509Z",
     "start_time": "2024-06-03T12:26:12.714171Z"
    }
   },
   "outputs": [
    {
     "name": "stdout",
     "output_type": "stream",
     "text": [
      "The token has not been saved to the git credentials helper. Pass `add_to_git_credential=True` in this function directly or `--add-to-git-credential` if using via `huggingface-cli` if you want to set the git credential as well.\r\n",
      "Token is valid (permission: read).\r\n",
      "Your token has been saved to /home/FYP/on0008an/.cache/huggingface/token\r\n",
      "Login successful\r\n",
      "Running StereoSet:\r\n",
      " - persistent_dir: /home/FYP/on0008an/bias-bench-main\r\n",
      " - model: GPT2LMHeadModel\r\n",
      " - model_name_or_path: gpt2\r\n",
      " - batch_size: 1\r\n",
      " - seed: 1\r\n",
      "Evaluating intrasentence task.\r\n",
      "Unconditional start token: <|endoftext|>\r\n",
      "100%|███████████████████████████████████████| 6392/6392 [02:35<00:00, 40.99it/s]\r\n"
     ]
    }
   ],
   "source": [
    "!python stereoset.py --model \"GPT2LMHeadModel\" --model_name_or_path \"gpt2\" --seed 1 --batch_size 1"
   ]
  },
  {
   "cell_type": "code",
   "execution_count": 8,
   "id": "8602849a0ba8b009",
   "metadata": {
    "ExecuteTime": {
     "end_time": "2024-06-03T12:49:04.268474Z",
     "start_time": "2024-06-03T12:30:46.568089Z"
    }
   },
   "outputs": [
    {
     "name": "stdout",
     "output_type": "stream",
     "text": [
      "The token has not been saved to the git credentials helper. Pass `add_to_git_credential=True` in this function directly or `--add-to-git-credential` if using via `huggingface-cli` if you want to set the git credential as well.\r\n",
      "Token is valid (permission: read).\r\n",
      "Your token has been saved to /home/FYP/on0008an/.cache/huggingface/token\r\n",
      "Login successful\r\n",
      "Running StereoSet:\r\n",
      " - persistent_dir: /home/FYP/on0008an/bias-bench-main\r\n",
      " - model: LlamaForCausalLM\r\n",
      " - model_name_or_path: meta-llama/Llama-2-7b-chat-hf\r\n",
      " - batch_size: 1\r\n",
      " - seed: 1\r\n",
      "Loading checkpoint shards: 100%|██████████████████| 2/2 [00:17<00:00,  8.63s/it]\r\n",
      "Evaluating intrasentence task.\r\n",
      "Unconditional start token: <s>\r\n",
      "100%|███████████████████████████████████████| 6392/6392 [17:25<00:00,  6.11it/s]\r\n"
     ]
    }
   ],
   "source": [
    "!python stereoset.py --model \"LlamaForCausalLM\" --model_name_or_path \"meta-llama/Llama-2-7b-chat-hf\" --seed 1 --batch_size 1"
   ]
  },
  {
   "cell_type": "code",
   "execution_count": 2,
   "id": "c5d3050d4601c2a7",
   "metadata": {
    "ExecuteTime": {
     "end_time": "2024-06-03T13:10:53.453475Z",
     "start_time": "2024-06-03T13:02:09.033169Z"
    }
   },
   "outputs": [
    {
     "name": "stdout",
     "output_type": "stream",
     "text": [
      "The token has not been saved to the git credentials helper. Pass `add_to_git_credential=True` in this function directly or `--add-to-git-credential` if using via `huggingface-cli` if you want to set the git credential as well.\r\n",
      "Token is valid (permission: read).\r\n",
      "Your token has been saved to /home/FYP/on0008an/.cache/huggingface/token\r\n",
      "Login successful\r\n",
      "Running StereoSet:\r\n",
      " - persistent_dir: /home/FYP/on0008an/bias-bench-main\r\n",
      " - model: PhiForCausalLM\r\n",
      " - model_name_or_path: microsoft/phi-2\r\n",
      " - batch_size: 1\r\n",
      " - seed: 1\r\n",
      "Loading checkpoint shards: 100%|██████████████████| 2/2 [00:07<00:00,  3.58s/it]\r\n",
      "Special tokens have been added in the vocabulary, make sure the associated word embeddings are fine-tuned or trained.\r\n",
      "Evaluating intrasentence task.\r\n",
      "Unconditional start token: <|endoftext|>\r\n",
      "torch.Size([1, 1, 51200])\r\n",
      "100%|███████████████████████████████████████| 6392/6392 [08:18<00:00, 12.81it/s]\r\n"
     ]
    }
   ],
   "source": [
    "!python stereoset.py --model \"PhiForCausalLM\" --model_name_or_path \"microsoft/phi-2\" --seed 1 --batch_size 1"
   ]
  },
  {
   "cell_type": "code",
   "execution_count": 5,
   "id": "52dd104f5f460b40",
   "metadata": {},
   "outputs": [
    {
     "name": "stdout",
     "output_type": "stream",
     "text": [
      "100%|███████████████████████████████████████| 6392/6392 [09:00<00:00, 11.83it/s]\r\n"
     ]
    }
   ],
   "source": [
    "!python stereoset.py --model \"PhiForCausalLM\" --model_name_or_path \"microsoft/Phi-3-mini-4k-instruct\" --seed 1 --batch_size 1"
   ]
  },
  {
   "cell_type": "code",
   "execution_count": null,
   "id": "9a333bafc2cb9bc2",
   "metadata": {},
   "outputs": [],
   "source": []
  }
 ],
 "metadata": {
  "kernelspec": {
   "display_name": "Python 3",
   "language": "python",
   "name": "python3"
  },
  "language_info": {
   "codemirror_mode": {
    "name": "ipython",
    "version": 2
   },
   "file_extension": ".py",
   "mimetype": "text/x-python",
   "name": "python",
   "nbconvert_exporter": "python",
   "pygments_lexer": "ipython2",
   "version": "2.7.6"
  }
 },
 "nbformat": 4,
 "nbformat_minor": 5
}
