{
 "cells": [
  {
   "cell_type": "markdown",
   "id": "759f59d0e33b63fe",
   "metadata": {},
   "source": [
    "# Run the StereoSet evaluation"
   ]
  },
  {
   "cell_type": "code",
   "execution_count": 3,
   "id": "initial_id",
   "metadata": {
    "ExecuteTime": {
     "end_time": "2024-05-31T16:25:58.618201Z",
     "start_time": "2024-05-31T16:23:05.693769Z"
    },
    "collapsed": true
   },
   "outputs": [
    {
     "name": "stdout",
     "output_type": "stream",
     "text": [
      "Running StereoSet:\r\n",
      " - persistent_dir: /home/FYP/on0008an/bias-bench-main\r\n",
      " - model: BertForMaskedLM\r\n",
      " - model_name_or_path: bert-base-uncased\r\n",
      " - batch_size: 1\r\n",
      " - seed: 1\r\n",
      "Some weights of the model checkpoint at bert-base-uncased were not used when initializing BertForMaskedLM: ['bert.pooler.dense.bias', 'bert.pooler.dense.weight', 'cls.seq_relationship.bias', 'cls.seq_relationship.weight']\r\n",
      "- This IS expected if you are initializing BertForMaskedLM from the checkpoint of a model trained on another task or with another architecture (e.g. initializing a BertForSequenceClassification model from a BertForPreTraining model).\r\n",
      "- This IS NOT expected if you are initializing BertForMaskedLM from the checkpoint of a model that you expect to be exactly identical (initializing a BertForSequenceClassification model from a BertForSequenceClassification model).\r\n",
      "Evaluating intrasentence task.\r\n",
      "100%|████████████████████████████████████| 24464/24464 [02:38<00:00, 154.70it/s]\r\n"
     ]
    }
   ],
   "source": [
    "!python stereoset.py --model \"BertForMaskedLM\" --model_name_or_path \"bert-base-uncased\" --seed 1 --batch_size 1"
   ]
  },
  {
   "cell_type": "code",
   "execution_count": 4,
   "id": "4d7e08bdd656a862",
   "metadata": {
    "ExecuteTime": {
     "end_time": "2024-05-31T16:29:48.990382Z",
     "start_time": "2024-05-31T16:25:58.622804Z"
    }
   },
   "outputs": [
    {
     "name": "stdout",
     "output_type": "stream",
     "text": [
      "Running StereoSet:\r\n",
      " - persistent_dir: /home/FYP/on0008an/bias-bench-main\r\n",
      " - model: AlbertForMaskedLM\r\n",
      " - model_name_or_path: albert-base-v2\r\n",
      " - batch_size: 1\r\n",
      " - seed: 1\r\n",
      "Some weights of the model checkpoint at albert-base-v2 were not used when initializing AlbertForMaskedLM: ['albert.pooler.bias', 'albert.pooler.weight']\r\n",
      "- This IS expected if you are initializing AlbertForMaskedLM from the checkpoint of a model trained on another task or with another architecture (e.g. initializing a BertForSequenceClassification model from a BertForPreTraining model).\r\n",
      "- This IS NOT expected if you are initializing AlbertForMaskedLM from the checkpoint of a model that you expect to be exactly identical (initializing a BertForSequenceClassification model from a BertForSequenceClassification model).\r\n",
      "Evaluating intrasentence task.\r\n",
      "100%|████████████████████████████████████| 24217/24217 [03:35<00:00, 112.35it/s]\r\n"
     ]
    }
   ],
   "source": [
    "!python stereoset.py --model \"AlbertForMaskedLM\" --model_name_or_path \"albert-base-v2\" --seed 1 --batch_size 1"
   ]
  },
  {
   "cell_type": "code",
   "execution_count": 5,
   "id": "98f69762bf9f1286",
   "metadata": {
    "ExecuteTime": {
     "end_time": "2024-05-31T16:33:24.856257Z",
     "start_time": "2024-05-31T16:29:48.992715Z"
    }
   },
   "outputs": [
    {
     "name": "stdout",
     "output_type": "stream",
     "text": [
      "Running StereoSet:\r\n",
      " - persistent_dir: /home/FYP/on0008an/bias-bench-main\r\n",
      " - model: RobertaForMaskedLM\r\n",
      " - model_name_or_path: roberta-base\r\n",
      " - batch_size: 1\r\n",
      " - seed: 1\r\n",
      "Evaluating intrasentence task.\r\n",
      "100%|████████████████████████████████████| 23941/23941 [03:19<00:00, 119.74it/s]\r\n"
     ]
    }
   ],
   "source": [
    "!python stereoset.py --model \"RobertaForMaskedLM\" --model_name_or_path \"roberta-base\" --seed 1 --batch_size 1"
   ]
  },
  {
   "cell_type": "code",
   "execution_count": 6,
   "id": "5e69b1a90505a4a7",
   "metadata": {
    "ExecuteTime": {
     "end_time": "2024-05-31T16:36:24.682501Z",
     "start_time": "2024-05-31T16:33:24.859404Z"
    }
   },
   "outputs": [
    {
     "name": "stdout",
     "output_type": "stream",
     "text": [
      "Running StereoSet:\r\n",
      " - persistent_dir: /home/FYP/on0008an/bias-bench-main\r\n",
      " - model: GPT2LMHeadModel\r\n",
      " - model_name_or_path: gpt2\r\n",
      " - batch_size: 1\r\n",
      " - seed: 1\r\n",
      "Evaluating intrasentence task.\r\n",
      "100%|███████████████████████████████████████| 6392/6392 [02:46<00:00, 38.48it/s]\r\n"
     ]
    }
   ],
   "source": [
    "!python stereoset.py --model \"GPT2LMHeadModel\" --model_name_or_path \"gpt2\" --seed 1 --batch_size 1"
   ]
  },
  {
   "cell_type": "code",
   "execution_count": null,
   "id": "8602849a0ba8b009",
   "metadata": {
    "ExecuteTime": {
     "start_time": "2024-05-31T18:38:56.110141Z"
    },
    "jupyter": {
     "is_executing": true
    }
   },
   "outputs": [],
   "source": [
    "!python stereoset.py --model \"LlamaForCausalLM\" --model_name_or_path \"meta-llama/Llama-2-7b-chat-hf\" --seed 1 --batch_size 1"
   ]
  },
  {
   "cell_type": "code",
   "execution_count": 4,
   "id": "c5d3050d4601c2a7",
   "metadata": {
    "ExecuteTime": {
     "end_time": "2024-05-31T18:33:24.933580Z",
     "start_time": "2024-05-31T18:33:15.626431Z"
    }
   },
   "outputs": [
    {
     "name": "stdout",
     "output_type": "stream",
     "text": [
      "usage: stereoset.py [-h] [--persistent_dir PERSISTENT_DIR]\r\n",
      "                    [--model {BertForMaskedLM,AlbertForMaskedLM,RobertaForMaskedLM,GPT2LMHeadModel,LlamaForCausalLM,AutoModelForCausalLM}]\r\n",
      "                    [--model_name_or_path {bert-base-uncased,albert-base-v2,roberta-base,gpt2,meta-llama/Llama-2-7b-chat-hf}]\r\n",
      "                    [--batch_size BATCH_SIZE] [--seed SEED]\r\n",
      "stereoset.py: error: argument --model_name_or_path: invalid choice: 'microsoft/phi-2' (choose from 'bert-base-uncased', 'albert-base-v2', 'roberta-base', 'gpt2', 'meta-llama/Llama-2-7b-chat-hf')\r\n"
     ]
    }
   ],
   "source": [
    "!python stereoset.py --model \"AutoModelForCausalLM\" --model_name_or_path \"microsoft/phi-2\" --seed 1 --batch_size 1"
   ]
  },
  {
   "cell_type": "code",
   "execution_count": null,
   "id": "b727fe3b916fbc33",
   "metadata": {},
   "outputs": [],
   "source": []
  }
 ],
 "metadata": {
  "kernelspec": {
   "display_name": "Python 3",
   "language": "python",
   "name": "python3"
  },
  "language_info": {
   "codemirror_mode": {
    "name": "ipython",
    "version": 2
   },
   "file_extension": ".py",
   "mimetype": "text/x-python",
   "name": "python",
   "nbconvert_exporter": "python",
   "pygments_lexer": "ipython2",
   "version": "2.7.6"
  }
 },
 "nbformat": 4,
 "nbformat_minor": 5
}
