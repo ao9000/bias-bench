{
 "cells": [
  {
   "cell_type": "code",
   "execution_count": 11,
   "id": "24a144c02ba5321",
   "metadata": {
    "ExecuteTime": {
     "end_time": "2024-08-03T10:15:53.142452Z",
     "start_time": "2024-08-03T10:15:52.373726Z"
    }
   },
   "outputs": [
    {
     "name": "stdout",
     "output_type": "stream",
     "text": [
      "Sat Aug  3 18:15:52 2024       \r\n",
      "+---------------------------------------------------------------------------------------+\r\n",
      "| NVIDIA-SMI 535.183.01             Driver Version: 535.183.01   CUDA Version: 12.2     |\r\n",
      "|-----------------------------------------+----------------------+----------------------+\r\n",
      "| GPU  Name                 Persistence-M | Bus-Id        Disp.A | Volatile Uncorr. ECC |\r\n",
      "| Fan  Temp   Perf          Pwr:Usage/Cap |         Memory-Usage | GPU-Util  Compute M. |\r\n",
      "|                                         |                      |               MIG M. |\r\n",
      "|=========================================+======================+======================|\r\n",
      "|   0  NVIDIA RTX A6000               Off | 00000000:01:00.0 Off |                  Off |\r\n",
      "| 58%   82C    P2             258W / 300W |  30304MiB / 49140MiB |     54%      Default |\r\n",
      "|                                         |                      |                  N/A |\r\n",
      "+-----------------------------------------+----------------------+----------------------+\r\n",
      "|   1  NVIDIA RTX A6000               Off | 00000000:21:00.0 Off |                  Off |\r\n",
      "| 66%   85C    P2             297W / 300W |  40927MiB / 49140MiB |     98%      Default |\r\n",
      "|                                         |                      |                  N/A |\r\n",
      "+-----------------------------------------+----------------------+----------------------+\r\n",
      "|   2  NVIDIA RTX A6000               Off | 00000000:41:00.0 Off |                  Off |\r\n",
      "| 57%   80C    P2             159W / 300W |  42584MiB / 49140MiB |     67%      Default |\r\n",
      "|                                         |                      |                  N/A |\r\n",
      "+-----------------------------------------+----------------------+----------------------+\r\n",
      "|   3  NVIDIA RTX A6000               Off | 00000000:42:00.0 Off |                  Off |\r\n",
      "| 52%   77C    P2             269W / 300W |  29329MiB / 49140MiB |     83%      Default |\r\n",
      "|                                         |                      |                  N/A |\r\n",
      "+-----------------------------------------+----------------------+----------------------+\r\n",
      "                                                                                         \r\n",
      "+---------------------------------------------------------------------------------------+\r\n",
      "| Processes:                                                                            |\r\n",
      "|  GPU   GI   CI        PID   Type   Process name                            GPU Memory |\r\n",
      "|        ID   ID                                                             Usage      |\r\n",
      "|=======================================================================================|\r\n",
      "|    0   N/A  N/A   2852658      C   python                                     1264MiB |\r\n",
      "|    0   N/A  N/A   3247148      C   ...e/vda/anaconda3/envs/mwp/bin/python    28668MiB |\r\n",
      "|    0   N/A  N/A   3250212      C   ...e/vda/anaconda3/envs/mwp/bin/python      360MiB |\r\n",
      "|    1   N/A  N/A   3250212      C   ...e/vda/anaconda3/envs/mwp/bin/python    14790MiB |\r\n",
      "|    1   N/A  N/A   3412209      C   python                                    26128MiB |\r\n",
      "|    2   N/A  N/A   2852658      C   python                                    42578MiB |\r\n",
      "|    3   N/A  N/A   2089965      C   python                                     3084MiB |\r\n",
      "|    3   N/A  N/A   3404097      C   python                                    26236MiB |\r\n",
      "+---------------------------------------------------------------------------------------+\r\n"
     ]
    }
   ],
   "source": [
    "!nvidia-smi"
   ]
  },
  {
   "cell_type": "code",
   "execution_count": 2,
   "id": "51ed21595e337264",
   "metadata": {
    "ExecuteTime": {
     "end_time": "2024-08-03T08:13:14.685347Z",
     "start_time": "2024-08-03T08:13:14.678276Z"
    }
   },
   "outputs": [],
   "source": [
    "import os\n",
    "\n",
    "os.environ['CUDA_VISIBLE_DEVICES'] = '3'"
   ]
  },
  {
   "cell_type": "markdown",
   "id": "759f59d0e33b63fe",
   "metadata": {},
   "source": [
    "# Run the StereoSet evaluation"
   ]
  },
  {
   "cell_type": "code",
   "execution_count": null,
   "id": "initial_id",
   "metadata": {
    "ExecuteTime": {
     "start_time": "2024-06-08T05:24:03.598284Z"
    },
    "collapsed": true
   },
   "outputs": [],
   "source": [
    "!python stereoset.py --model \"BertForMaskedLM\" --model_name_or_path \"bert-base-uncased\" --seed 42 --batch_size 1"
   ]
  },
  {
   "cell_type": "code",
   "execution_count": null,
   "id": "4d7e08bdd656a862",
   "metadata": {},
   "outputs": [],
   "source": [
    "!python stereoset.py --model \"AlbertForMaskedLM\" --model_name_or_path \"albert-base-v2\" --seed 42 --batch_size 1"
   ]
  },
  {
   "cell_type": "code",
   "execution_count": null,
   "id": "98f69762bf9f1286",
   "metadata": {},
   "outputs": [],
   "source": [
    "!python stereoset.py --model \"RobertaForMaskedLM\" --model_name_or_path \"roberta-base\" --seed 42 --batch_size 1"
   ]
  },
  {
   "cell_type": "code",
   "execution_count": 3,
   "id": "5e69b1a90505a4a7",
   "metadata": {
    "ExecuteTime": {
     "end_time": "2024-08-03T08:16:03.296389Z",
     "start_time": "2024-08-03T08:13:17.879146Z"
    }
   },
   "outputs": [
    {
     "name": "stdout",
     "output_type": "stream",
     "text": [
      "The token has not been saved to the git credentials helper. Pass `add_to_git_credential=True` in this function directly or `--add-to-git-credential` if using via `huggingface-cli` if you want to set the git credential as well.\r\n",
      "Token is valid (permission: read).\r\n",
      "Your token has been saved to /home/ongzhiyang/.cache/huggingface/token\r\n",
      "Login successful\r\n",
      "Running StereoSet:\r\n",
      " - persistent_dir: /home/ongzhiyang/bias-bench-main\r\n",
      " - model: GPT2LMHeadModel\r\n",
      " - model_name_or_path: gpt2\r\n",
      " - batch_size: 1\r\n",
      " - seed: 42\r\n",
      "Evaluating intrasentence task.\r\n",
      "Unconditional start token: <|endoftext|>\r\n",
      "torch.Size([1, 1, 50257])\r\n",
      "100%|███████████████████████████████████████| 6392/6392 [02:33<00:00, 41.72it/s]\r\n"
     ]
    }
   ],
   "source": [
    "!python stereoset.py --model \"GPT2LMHeadModel\" --model_name_or_path \"gpt2\" --seed 42 --batch_size 1"
   ]
  },
  {
   "cell_type": "code",
   "execution_count": 4,
   "id": "c5d3050d4601c2a7",
   "metadata": {
    "ExecuteTime": {
     "end_time": "2024-08-03T08:26:05.686727Z",
     "start_time": "2024-08-03T08:16:03.297879Z"
    }
   },
   "outputs": [
    {
     "name": "stdout",
     "output_type": "stream",
     "text": [
      "The token has not been saved to the git credentials helper. Pass `add_to_git_credential=True` in this function directly or `--add-to-git-credential` if using via `huggingface-cli` if you want to set the git credential as well.\r\n",
      "Token is valid (permission: read).\r\n",
      "Your token has been saved to /home/ongzhiyang/.cache/huggingface/token\r\n",
      "Login successful\r\n",
      "Running StereoSet:\r\n",
      " - persistent_dir: /home/ongzhiyang/bias-bench-main\r\n",
      " - model: PhiForCausalLM\r\n",
      " - model_name_or_path: microsoft/phi-2\r\n",
      " - batch_size: 1\r\n",
      " - seed: 42\r\n",
      "Loading checkpoint shards: 100%|██████████████████| 2/2 [00:03<00:00,  1.91s/it]\r\n",
      "Evaluating intrasentence task.\r\n",
      "Unconditional start token: <|endoftext|>\r\n",
      "We detected that you are passing `past_key_values` as a tuple and this is deprecated and will be removed in v4.43. Please use an appropriate `Cache` class (https://huggingface.co/docs/transformers/v4.41.3/en/internal/generation_utils#transformers.Cache)\r\n",
      "torch.Size([1, 1, 51200])\r\n",
      "100%|███████████████████████████████████████| 6392/6392 [09:39<00:00, 11.02it/s]\r\n"
     ]
    }
   ],
   "source": [
    "!python stereoset.py --model \"PhiForCausalLM\" --model_name_or_path \"microsoft/phi-2\" --seed 42 --batch_size 1"
   ]
  },
  {
   "cell_type": "code",
   "execution_count": 5,
   "id": "d8d12c5c9ac871cc",
   "metadata": {
    "ExecuteTime": {
     "end_time": "2024-08-03T08:45:02.811070Z",
     "start_time": "2024-08-03T08:26:05.687858Z"
    }
   },
   "outputs": [
    {
     "name": "stdout",
     "output_type": "stream",
     "text": [
      "The token has not been saved to the git credentials helper. Pass `add_to_git_credential=True` in this function directly or `--add-to-git-credential` if using via `huggingface-cli` if you want to set the git credential as well.\r\n",
      "Token is valid (permission: read).\r\n",
      "Your token has been saved to /home/ongzhiyang/.cache/huggingface/token\r\n",
      "Login successful\r\n",
      "Running StereoSet:\r\n",
      " - persistent_dir: /home/ongzhiyang/bias-bench-main\r\n",
      " - model: LlamaForCausalLM\r\n",
      " - model_name_or_path: meta-llama/Llama-2-7b-hf\r\n",
      " - batch_size: 1\r\n",
      " - seed: 42\r\n",
      "Loading checkpoint shards: 100%|██████████████████| 2/2 [00:05<00:00,  2.81s/it]\r\n",
      "Evaluating intrasentence task.\r\n",
      "Unconditional start token: <s>\r\n",
      "We detected that you are passing `past_key_values` as a tuple and this is deprecated and will be removed in v4.43. Please use an appropriate `Cache` class (https://huggingface.co/docs/transformers/v4.41.3/en/internal/generation_utils#transformers.Cache)\r\n",
      "torch.Size([1, 1, 32000])\r\n",
      "100%|███████████████████████████████████████| 6392/6392 [18:27<00:00,  5.77it/s]\r\n"
     ]
    }
   ],
   "source": [
    "!python stereoset.py --model \"LlamaForCausalLM\" --model_name_or_path \"meta-llama/Llama-2-7b-hf\" --seed 42 --batch_size 1"
   ]
  },
  {
   "cell_type": "code",
   "execution_count": null,
   "id": "47f878c79daff8f1",
   "metadata": {},
   "outputs": [],
   "source": []
  }
 ],
 "metadata": {
  "kernelspec": {
   "display_name": "Python [conda env:fyp] *",
   "language": "python",
   "name": "conda-env-fyp-py"
  },
  "language_info": {
   "codemirror_mode": {
    "name": "ipython",
    "version": 2
   },
   "file_extension": ".py",
   "mimetype": "text/x-python",
   "name": "python",
   "nbconvert_exporter": "python",
   "pygments_lexer": "ipython2",
   "version": "2.7.6"
  }
 },
 "nbformat": 4,
 "nbformat_minor": 5
}
