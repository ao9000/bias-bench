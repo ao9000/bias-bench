{
 "cells": [
  {
   "cell_type": "code",
   "execution_count": 2,
   "id": "63e8b26f66daa7",
   "metadata": {
    "ExecuteTime": {
     "end_time": "2024-06-10T17:58:59.100026Z",
     "start_time": "2024-06-10T15:22:04.332522Z"
    }
   },
   "outputs": [
    {
     "name": "stdout",
     "output_type": "stream",
     "text": [
      "06/10/2024 23:22:13 - WARNING - __main__ - Process rank: 0, device: cuda:0, n_gpu: 1distributed training: True, 16-bits training: False\r\n",
      "06/10/2024 23:22:15 - WARNING - datasets.builder - Using custom data configuration default-8f3a313a0598a372\r\n",
      "06/10/2024 23:22:15 - WARNING - datasets.builder - Reusing dataset text (/home/FYP/on0008an/.cache/huggingface/datasets/text/default-8f3a313a0598a372/0.0.0/08f6fb1dd2dab0a18ea441c359e1d63794ea8cb53e7863e6edf8fc5655e47ec4)\r\n",
      "100%|█████████████████████████████████████████████| 1/1 [00:00<00:00, 80.48it/s]\r\n",
      "06/10/2024 23:22:18 - WARNING - datasets.builder - Using custom data configuration default-8f3a313a0598a372\r\n",
      "06/10/2024 23:22:18 - WARNING - datasets.builder - Reusing dataset text (/home/FYP/on0008an/.cache/huggingface/datasets/text/default-8f3a313a0598a372/0.0.0/08f6fb1dd2dab0a18ea441c359e1d63794ea8cb53e7863e6edf8fc5655e47ec4)\r\n",
      "06/10/2024 23:22:19 - WARNING - datasets.builder - Using custom data configuration default-8f3a313a0598a372\r\n",
      "06/10/2024 23:22:19 - WARNING - datasets.builder - Reusing dataset text (/home/FYP/on0008an/.cache/huggingface/datasets/text/default-8f3a313a0598a372/0.0.0/08f6fb1dd2dab0a18ea441c359e1d63794ea8cb53e7863e6edf8fc5655e47ec4)\r\n",
      "/home/FYP/on0008an/.conda/envs/RunJupyter/lib/python3.10/site-packages/huggingface_hub/file_download.py:1132: FutureWarning: `resume_download` is deprecated and will be removed in version 1.0.0. Downloads always resume when possible. If you want to force a new download, use `force_download=True`.\r\n",
      "  warnings.warn(\r\n",
      "06/10/2024 23:22:20 - WARNING - datasets.fingerprint - Parameter 'function'=<function main.<locals>.tokenize_function at 0x2aab8720bbe0> of the transform datasets.arrow_dataset.Dataset._map_single couldn't be hashed properly, a random hash was used instead. Make sure your transforms and parameters are serializable with pickle or dill for the dataset fingerprinting and caching to work. If you reuse this transform, the caching mechanism will consider it to be different from the previous calls and recompute everything. This warning is only showed once. Subsequent hashing failures won't be showed.\r\n",
      "06/10/2024 23:22:20 - WARNING - datasets.arrow_dataset - Loading cached processed dataset at /home/FYP/on0008an/.cache/huggingface/datasets/text/default-8f3a313a0598a372/0.0.0/08f6fb1dd2dab0a18ea441c359e1d63794ea8cb53e7863e6edf8fc5655e47ec4/cache-629f6fbed82c07cd.arrow\r\n",
      "06/10/2024 23:22:20 - WARNING - datasets.arrow_dataset - Loading cached processed dataset at /home/FYP/on0008an/.cache/huggingface/datasets/text/default-8f3a313a0598a372/0.0.0/08f6fb1dd2dab0a18ea441c359e1d63794ea8cb53e7863e6edf8fc5655e47ec4/cache-e3e70682c2094cac.arrow\r\n",
      "06/10/2024 23:22:20 - WARNING - datasets.arrow_dataset - Loading cached processed dataset at /home/FYP/on0008an/.cache/huggingface/datasets/text/default-8f3a313a0598a372/0.0.0/08f6fb1dd2dab0a18ea441c359e1d63794ea8cb53e7863e6edf8fc5655e47ec4/cache-0a5d2f346baa9455.arrow\r\n",
      "06/10/2024 23:22:20 - WARNING - datasets.arrow_dataset - Loading cached processed dataset at /home/FYP/on0008an/.cache/huggingface/datasets/text/default-8f3a313a0598a372/0.0.0/08f6fb1dd2dab0a18ea441c359e1d63794ea8cb53e7863e6edf8fc5655e47ec4/cache-f728b4fa42485e3a.arrow\r\n",
      "06/10/2024 23:22:20 - WARNING - datasets.arrow_dataset - Loading cached processed dataset at /home/FYP/on0008an/.cache/huggingface/datasets/text/default-8f3a313a0598a372/0.0.0/08f6fb1dd2dab0a18ea441c359e1d63794ea8cb53e7863e6edf8fc5655e47ec4/cache-7c65c1e582e2e662.arrow\r\n",
      "06/10/2024 23:22:20 - WARNING - datasets.arrow_dataset - Loading cached processed dataset at /home/FYP/on0008an/.cache/huggingface/datasets/text/default-8f3a313a0598a372/0.0.0/08f6fb1dd2dab0a18ea441c359e1d63794ea8cb53e7863e6edf8fc5655e47ec4/cache-eb1167b367a9c378.arrow\r\n",
      "06/10/2024 23:22:20 - WARNING - accelerate.utils.other - Detected kernel version 3.10.0, which is below the recommended minimum of 5.5.0; this can cause the process to hang. It is recommended to upgrade the kernel to the minimum version or higher.\r\n",
      "[WARNING|trainer.py:591] 2024-06-10 23:22:21,550 >> max_steps is given, it will override any value given in num_train_epochs\r\n",
      " 15%|█████▏                             | 299/2000 [2:36:27<14:47:12, 31.29s/it]^C\r\n"
     ]
    }
   ],
   "source": [
    "!python run_clm.py --model_name_or_path \"gpt2\" --do_train --train_file \"../data/wikipedia-10.txt\" --max_steps 2000 --per_device_train_batch_size 8 --gradient_accumulation_steps 32 --save_steps 500 --preprocessing_num_workers 1 --counterfactual_augmentation \"gender\" --seed 0 --output_dir \"../results/CDA_checkpoints_seed0_gpt2\" --persistent_dir \"/home/FYP/on0008an/bias-bench-main\" --num_train_epochs 3"
   ]
  },
  {
   "cell_type": "code",
   "execution_count": null,
   "id": "cff3ecbbd2838190",
   "metadata": {
    "ExecuteTime": {
     "start_time": "2024-06-10T18:01:00.134898Z"
    },
    "jupyter": {
     "is_executing": true
    }
   },
   "outputs": [],
   "source": [
    "!python run_clm.py --model_name_or_path \"gpt2\" --do_train --train_file \"../data/wikipedia-10.txt\" --max_steps 500 --per_device_train_batch_size 8 --gradient_accumulation_steps 32 --save_steps 500 --preprocessing_num_workers 1 --counterfactual_augmentation \"gender\" --seed 0 --output_dir \"../results/CDA_checkpoints_seed0_gpt2\" --persistent_dir \"/home/FYP/on0008an/bias-bench-main\" --num_train_epochs 3 --overwrite_output_dir"
   ]
  },
  {
   "cell_type": "code",
   "execution_count": null,
   "id": "cd18f42e9571e44",
   "metadata": {},
   "outputs": [],
   "source": []
  }
 ],
 "metadata": {
  "kernelspec": {
   "display_name": "Python 3",
   "language": "python",
   "name": "python3"
  },
  "language_info": {
   "codemirror_mode": {
    "name": "ipython",
    "version": 2
   },
   "file_extension": ".py",
   "mimetype": "text/x-python",
   "name": "python",
   "nbconvert_exporter": "python",
   "pygments_lexer": "ipython2",
   "version": "2.7.6"
  }
 },
 "nbformat": 4,
 "nbformat_minor": 5
}
