{
 "cells": [
  {
   "cell_type": "markdown",
   "id": "1c6eb240323fd16d",
   "metadata": {},
   "source": [
    "# Train models with CDA data"
   ]
  },
  {
   "cell_type": "markdown",
   "id": "831751c9c9e54dce",
   "metadata": {},
   "source": [
    "## All possible arguments:\n",
    "- https://huggingface.co/docs/transformers/v4.41.3/en/main_classes/trainer#transformers.TrainingArguments\n",
    "- ModelArguments (In the script)\n",
    "- DataTrainingArguments (In the script)"
   ]
  },
  {
   "cell_type": "markdown",
   "id": "202f0337ae517d4a",
   "metadata": {},
   "source": [
    "## For GPT2"
   ]
  },
  {
   "cell_type": "code",
   "execution_count": 9,
   "id": "63e8b26f66daa7",
   "metadata": {
    "ExecuteTime": {
     "end_time": "2024-06-11T12:08:01.077597Z",
     "start_time": "2024-06-11T12:06:42.709480Z"
    }
   },
   "outputs": [
    {
     "name": "stdout",
     "output_type": "stream",
     "text": [
      "/home/FYP/on0008an/.conda/envs/RunJupyter/lib/python3.10/site-packages/scipy/__init__.py:146: UserWarning: A NumPy version >=1.16.5 and <1.23.0 is required for this version of SciPy (detected version 1.26.4\r\n",
      "  warnings.warn(f\"A NumPy version >={np_minversion} and <{np_maxversion}\"\r\n",
      "06/11/2024 20:06:50 - WARNING - __main__ - Process rank: 0, device: cuda:0, n_gpu: 1distributed training: True, 16-bits training: False\r\n",
      "06/11/2024 20:06:51 - WARNING - datasets.builder - Using custom data configuration default-8f3a313a0598a372\r\n",
      "06/11/2024 20:06:51 - WARNING - datasets.builder - Reusing dataset text (/home/FYP/on0008an/.cache/huggingface/datasets/text/default-8f3a313a0598a372/0.0.0/08f6fb1dd2dab0a18ea441c359e1d63794ea8cb53e7863e6edf8fc5655e47ec4)\r\n",
      "100%|█████████████████████████████████████████████| 1/1 [00:00<00:00, 68.90it/s]\r\n",
      "06/11/2024 20:06:52 - WARNING - datasets.builder - Using custom data configuration default-8f3a313a0598a372\r\n",
      "06/11/2024 20:06:52 - WARNING - datasets.builder - Reusing dataset text (/home/FYP/on0008an/.cache/huggingface/datasets/text/default-8f3a313a0598a372/0.0.0/08f6fb1dd2dab0a18ea441c359e1d63794ea8cb53e7863e6edf8fc5655e47ec4)\r\n",
      "06/11/2024 20:06:53 - WARNING - datasets.builder - Using custom data configuration default-8f3a313a0598a372\r\n",
      "06/11/2024 20:06:53 - WARNING - datasets.builder - Reusing dataset text (/home/FYP/on0008an/.cache/huggingface/datasets/text/default-8f3a313a0598a372/0.0.0/08f6fb1dd2dab0a18ea441c359e1d63794ea8cb53e7863e6edf8fc5655e47ec4)\r\n",
      "/home/FYP/on0008an/.conda/envs/RunJupyter/lib/python3.10/site-packages/huggingface_hub/file_download.py:1132: FutureWarning: `resume_download` is deprecated and will be removed in version 1.0.0. Downloads always resume when possible. If you want to force a new download, use `force_download=True`.\r\n",
      "  warnings.warn(\r\n",
      "06/11/2024 20:06:54 - WARNING - datasets.fingerprint - Parameter 'function'=<function main.<locals>.tokenize_function at 0x2aab860a5510> of the transform datasets.arrow_dataset.Dataset._map_single couldn't be hashed properly, a random hash was used instead. Make sure your transforms and parameters are serializable with pickle or dill for the dataset fingerprinting and caching to work. If you reuse this transform, the caching mechanism will consider it to be different from the previous calls and recompute everything. This warning is only showed once. Subsequent hashing failures won't be showed.\r\n",
      "06/11/2024 20:06:54 - WARNING - datasets.arrow_dataset - Loading cached processed dataset at /home/FYP/on0008an/.cache/huggingface/datasets/text/default-8f3a313a0598a372/0.0.0/08f6fb1dd2dab0a18ea441c359e1d63794ea8cb53e7863e6edf8fc5655e47ec4/cache-629f6fbed82c07cd.arrow\r\n",
      "06/11/2024 20:06:54 - WARNING - datasets.arrow_dataset - Loading cached processed dataset at /home/FYP/on0008an/.cache/huggingface/datasets/text/default-8f3a313a0598a372/0.0.0/08f6fb1dd2dab0a18ea441c359e1d63794ea8cb53e7863e6edf8fc5655e47ec4/cache-e3e70682c2094cac.arrow\r\n",
      "06/11/2024 20:06:54 - WARNING - datasets.arrow_dataset - Loading cached processed dataset at /home/FYP/on0008an/.cache/huggingface/datasets/text/default-8f3a313a0598a372/0.0.0/08f6fb1dd2dab0a18ea441c359e1d63794ea8cb53e7863e6edf8fc5655e47ec4/cache-0a5d2f346baa9455.arrow\r\n",
      "06/11/2024 20:06:54 - WARNING - datasets.arrow_dataset - Loading cached processed dataset at /home/FYP/on0008an/.cache/huggingface/datasets/text/default-8f3a313a0598a372/0.0.0/08f6fb1dd2dab0a18ea441c359e1d63794ea8cb53e7863e6edf8fc5655e47ec4/cache-f728b4fa42485e3a.arrow\r\n",
      "06/11/2024 20:06:54 - WARNING - datasets.arrow_dataset - Loading cached processed dataset at /home/FYP/on0008an/.cache/huggingface/datasets/text/default-8f3a313a0598a372/0.0.0/08f6fb1dd2dab0a18ea441c359e1d63794ea8cb53e7863e6edf8fc5655e47ec4/cache-7c65c1e582e2e662.arrow\r\n",
      "06/11/2024 20:06:54 - WARNING - datasets.arrow_dataset - Loading cached processed dataset at /home/FYP/on0008an/.cache/huggingface/datasets/text/default-8f3a313a0598a372/0.0.0/08f6fb1dd2dab0a18ea441c359e1d63794ea8cb53e7863e6edf8fc5655e47ec4/cache-eb1167b367a9c378.arrow\r\n",
      "06/11/2024 20:06:54 - WARNING - accelerate.utils.other - Detected kernel version 3.10.0, which is below the recommended minimum of 5.5.0; this can cause the process to hang. It is recommended to upgrade the kernel to the minimum version or higher.\r\n",
      "[WARNING|trainer.py:591] 2024-06-11 20:06:55,396 >> max_steps is given, it will override any value given in num_train_epochs\r\n",
      "{'loss': 6.885, 'grad_norm': 103.43575286865234, 'learning_rate': 4.99e-05, 'epoch': 0.0}\r\n",
      "{'loss': 3.2194, 'grad_norm': 44.24296188354492, 'learning_rate': 4.9800000000000004e-05, 'epoch': 0.0}\r\n",
      "  0%|▏                                        | 2/500 [01:01<4:17:44, 31.05s/it]^C\r\n",
      "Traceback (most recent call last):\r\n",
      "  File \"/home/FYP/on0008an/bias-bench-main/experiments/run_clm.py\", line 790, in <module>\r\n",
      "    main()\r\n",
      "  File \"/home/FYP/on0008an/bias-bench-main/experiments/run_clm.py\", line 729, in main\r\n",
      "    train_result = trainer.train(resume_from_checkpoint=checkpoint)\r\n",
      "  File \"/home/FYP/on0008an/.conda/envs/RunJupyter/lib/python3.10/site-packages/transformers/trainer.py\", line 1885, in train\r\n",
      "    return inner_training_loop(\r\n",
      "  File \"/home/FYP/on0008an/.conda/envs/RunJupyter/lib/python3.10/site-packages/transformers/trainer.py\", line 2216, in _inner_training_loop\r\n",
      "    tr_loss_step = self.training_step(model, inputs)\r\n",
      "  File \"/home/FYP/on0008an/.conda/envs/RunJupyter/lib/python3.10/site-packages/transformers/trainer.py\", line 3241, in training_step\r\n",
      "    torch.cuda.empty_cache()\r\n",
      "  File \"/home/FYP/on0008an/.conda/envs/RunJupyter/lib/python3.10/site-packages/torch/cuda/memory.py\", line 162, in empty_cache\r\n",
      "    torch._C._cuda_emptyCache()\r\n",
      "KeyboardInterrupt\r\n"
     ]
    }
   ],
   "source": [
    "!python run_clm.py --model_name_or_path \"gpt2\" --do_train --train_file \"../data/wikipedia-10.txt\" --max_steps 500 --per_device_train_batch_size 8 --gradient_accumulation_steps 32 --save_steps 500 --preprocessing_num_workers 1 --counterfactual_augmentation \"gender\" --seed 0 --output_dir \"../results/gpt2_CDA_training_seed0\" --persistent_dir \"/home/FYP/on0008an/bias-bench-main\" --num_train_epochs 3 --overwrite_output_dir --logging_strategy \"steps\" --logging_steps 1"
   ]
  },
  {
   "cell_type": "markdown",
   "id": "9e397262e82ce819",
   "metadata": {},
   "source": [
    "## To continue training from a checkpoint, need to set steps to the number of steps already done + what you want to do"
   ]
  },
  {
   "cell_type": "code",
   "execution_count": 4,
   "id": "49230b93dd58c4e4",
   "metadata": {
    "ExecuteTime": {
     "end_time": "2024-06-11T11:49:36.564034Z",
     "start_time": "2024-06-11T11:44:01.710277Z"
    }
   },
   "outputs": [
    {
     "name": "stdout",
     "output_type": "stream",
     "text": [
      "/home/FYP/on0008an/.conda/envs/RunJupyter/lib/python3.10/site-packages/scipy/__init__.py:146: UserWarning: A NumPy version >=1.16.5 and <1.23.0 is required for this version of SciPy (detected version 1.26.4\r\n",
      "  warnings.warn(f\"A NumPy version >={np_minversion} and <{np_maxversion}\"\r\n",
      "06/11/2024 19:44:10 - WARNING - __main__ - Process rank: 0, device: cuda:0, n_gpu: 1distributed training: True, 16-bits training: False\r\n",
      "06/11/2024 19:44:11 - WARNING - datasets.builder - Using custom data configuration default-8f3a313a0598a372\r\n",
      "06/11/2024 19:44:11 - WARNING - datasets.builder - Reusing dataset text (/home/FYP/on0008an/.cache/huggingface/datasets/text/default-8f3a313a0598a372/0.0.0/08f6fb1dd2dab0a18ea441c359e1d63794ea8cb53e7863e6edf8fc5655e47ec4)\r\n",
      "100%|█████████████████████████████████████████████| 1/1 [00:00<00:00, 71.88it/s]\r\n",
      "06/11/2024 19:44:11 - WARNING - datasets.builder - Using custom data configuration default-8f3a313a0598a372\r\n",
      "06/11/2024 19:44:11 - WARNING - datasets.builder - Reusing dataset text (/home/FYP/on0008an/.cache/huggingface/datasets/text/default-8f3a313a0598a372/0.0.0/08f6fb1dd2dab0a18ea441c359e1d63794ea8cb53e7863e6edf8fc5655e47ec4)\r\n",
      "06/11/2024 19:44:12 - WARNING - datasets.builder - Using custom data configuration default-8f3a313a0598a372\r\n",
      "06/11/2024 19:44:12 - WARNING - datasets.builder - Reusing dataset text (/home/FYP/on0008an/.cache/huggingface/datasets/text/default-8f3a313a0598a372/0.0.0/08f6fb1dd2dab0a18ea441c359e1d63794ea8cb53e7863e6edf8fc5655e47ec4)\r\n",
      "/home/FYP/on0008an/.conda/envs/RunJupyter/lib/python3.10/site-packages/huggingface_hub/file_download.py:1132: FutureWarning: `resume_download` is deprecated and will be removed in version 1.0.0. Downloads always resume when possible. If you want to force a new download, use `force_download=True`.\r\n",
      "  warnings.warn(\r\n",
      "06/11/2024 19:44:14 - WARNING - datasets.fingerprint - Parameter 'function'=<function main.<locals>.tokenize_function at 0x2aab860a5630> of the transform datasets.arrow_dataset.Dataset._map_single couldn't be hashed properly, a random hash was used instead. Make sure your transforms and parameters are serializable with pickle or dill for the dataset fingerprinting and caching to work. If you reuse this transform, the caching mechanism will consider it to be different from the previous calls and recompute everything. This warning is only showed once. Subsequent hashing failures won't be showed.\r\n",
      "06/11/2024 19:44:14 - WARNING - datasets.arrow_dataset - Loading cached processed dataset at /home/FYP/on0008an/.cache/huggingface/datasets/text/default-8f3a313a0598a372/0.0.0/08f6fb1dd2dab0a18ea441c359e1d63794ea8cb53e7863e6edf8fc5655e47ec4/cache-629f6fbed82c07cd.arrow\r\n",
      "06/11/2024 19:44:14 - WARNING - datasets.arrow_dataset - Loading cached processed dataset at /home/FYP/on0008an/.cache/huggingface/datasets/text/default-8f3a313a0598a372/0.0.0/08f6fb1dd2dab0a18ea441c359e1d63794ea8cb53e7863e6edf8fc5655e47ec4/cache-e3e70682c2094cac.arrow\r\n",
      "06/11/2024 19:44:14 - WARNING - datasets.arrow_dataset - Loading cached processed dataset at /home/FYP/on0008an/.cache/huggingface/datasets/text/default-8f3a313a0598a372/0.0.0/08f6fb1dd2dab0a18ea441c359e1d63794ea8cb53e7863e6edf8fc5655e47ec4/cache-0a5d2f346baa9455.arrow\r\n",
      "06/11/2024 19:44:14 - WARNING - datasets.arrow_dataset - Loading cached processed dataset at /home/FYP/on0008an/.cache/huggingface/datasets/text/default-8f3a313a0598a372/0.0.0/08f6fb1dd2dab0a18ea441c359e1d63794ea8cb53e7863e6edf8fc5655e47ec4/cache-f728b4fa42485e3a.arrow\r\n",
      "06/11/2024 19:44:14 - WARNING - datasets.arrow_dataset - Loading cached processed dataset at /home/FYP/on0008an/.cache/huggingface/datasets/text/default-8f3a313a0598a372/0.0.0/08f6fb1dd2dab0a18ea441c359e1d63794ea8cb53e7863e6edf8fc5655e47ec4/cache-7c65c1e582e2e662.arrow\r\n",
      "06/11/2024 19:44:14 - WARNING - datasets.arrow_dataset - Loading cached processed dataset at /home/FYP/on0008an/.cache/huggingface/datasets/text/default-8f3a313a0598a372/0.0.0/08f6fb1dd2dab0a18ea441c359e1d63794ea8cb53e7863e6edf8fc5655e47ec4/cache-eb1167b367a9c378.arrow\r\n",
      "06/11/2024 19:44:14 - WARNING - accelerate.utils.other - Detected kernel version 3.10.0, which is below the recommended minimum of 5.5.0; this can cause the process to hang. It is recommended to upgrade the kernel to the minimum version or higher.\r\n",
      "[WARNING|trainer.py:591] 2024-06-11 19:44:15,116 >> max_steps is given, it will override any value given in num_train_epochs\r\n",
      "[WARNING|trainer.py:2689] 2024-06-11 19:44:15,386 >> There were missing keys in the checkpoint model loaded: ['lm_head.weight'].\r\n",
      "[WARNING|logging.py:329] 2024-06-11 19:44:16,134 >> Warning: The following arguments do not match the ones in the `trainer_state.json` within the checkpoint directory: \r\n",
      "\tlogging_steps: 1.0 (from args) != 500 (from trainer_state.json)\r\n",
      "{'train_runtime': 313.4842, 'train_samples_per_second': 416.48, 'train_steps_per_second': 1.627, 'train_loss': 0.012714877783083448, 'epoch': 0.12}\r\n",
      "100%|█████████████████████████████████████████| 510/510 [05:13<00:00,  1.63it/s]\r\n",
      "***** train metrics *****\r\n",
      "  epoch                    =     0.1249\r\n",
      "  total_flos               = 63542812GF\r\n",
      "  train_loss               =     0.0127\r\n",
      "  train_runtime            = 0:05:13.48\r\n",
      "  train_samples            =    1045318\r\n",
      "  train_samples_per_second =     416.48\r\n",
      "  train_steps_per_second   =      1.627\r\n"
     ]
    }
   ],
   "source": [
    "# Continue from checkpoint\n",
    "!python run_clm.py --model_name_or_path \"gpt2\" --do_train --train_file \"../data/wikipedia-10.txt\" --max_steps 510 --per_device_train_batch_size 8 --gradient_accumulation_steps 32 --save_steps 500 --preprocessing_num_workers 1 --counterfactual_augmentation \"gender\" --seed 0 --output_dir \"../results/CDA_checkpoints_seed0_gpt2_test_continue_from_ckpt\" --persistent_dir \"/home/FYP/on0008an/bias-bench-main\" --num_train_epochs 3 --overwrite_output_dir --logging_strategy \"steps\" --logging_steps 1 --resume_from_checkpoint \"../results/CDA_checkpoints_seed0_gpt2/checkpoint-500\""
   ]
  },
  {
   "cell_type": "markdown",
   "id": "9d843bbb2f5f2d89",
   "metadata": {},
   "source": [
    "# Plot training graphs"
   ]
  },
  {
   "cell_type": "code",
   "execution_count": 7,
   "id": "cbd7c8aec371a007",
   "metadata": {
    "ExecuteTime": {
     "end_time": "2024-06-11T11:18:58.574712Z",
     "start_time": "2024-06-11T11:18:56.109808Z"
    }
   },
   "outputs": [],
   "source": [
    "!python plot_training_loss_graph.py --model_output \"../results/CDA_checkpoints_seed0_gpt2_test\""
   ]
  },
  {
   "cell_type": "markdown",
   "id": "1c27624487fe693c",
   "metadata": {},
   "source": [
    "## For llama 2"
   ]
  },
  {
   "cell_type": "code",
   "execution_count": 16,
   "id": "9094d64abda4529f",
   "metadata": {
    "ExecuteTime": {
     "end_time": "2024-06-11T12:19:57.725224Z",
     "start_time": "2024-06-11T12:19:57.721896Z"
    }
   },
   "outputs": [
    {
     "name": "stdout",
     "output_type": "stream",
     "text": [
      "env: CUDA_LAUNCH_BLOCKING=1\n"
     ]
    }
   ],
   "source": [
    "%env CUDA_LAUNCH_BLOCKING=1"
   ]
  },
  {
   "cell_type": "code",
   "execution_count": 17,
   "id": "8f15e372af447bd6",
   "metadata": {
    "ExecuteTime": {
     "end_time": "2024-06-11T12:20:28.412262Z",
     "start_time": "2024-06-11T12:19:59.334080Z"
    }
   },
   "outputs": [
    {
     "name": "stdout",
     "output_type": "stream",
     "text": [
      "/home/FYP/on0008an/.conda/envs/RunJupyter/lib/python3.10/site-packages/scipy/__init__.py:146: UserWarning: A NumPy version >=1.16.5 and <1.23.0 is required for this version of SciPy (detected version 1.26.4\r\n",
      "  warnings.warn(f\"A NumPy version >={np_minversion} and <{np_maxversion}\"\r\n",
      "06/11/2024 20:20:07 - WARNING - __main__ - Process rank: 0, device: cuda:0, n_gpu: 1distributed training: True, 16-bits training: False\r\n",
      "06/11/2024 20:20:08 - WARNING - datasets.builder - Using custom data configuration default-8f3a313a0598a372\r\n",
      "06/11/2024 20:20:08 - WARNING - datasets.builder - Reusing dataset text (/home/FYP/on0008an/.cache/huggingface/datasets/text/default-8f3a313a0598a372/0.0.0/08f6fb1dd2dab0a18ea441c359e1d63794ea8cb53e7863e6edf8fc5655e47ec4)\r\n",
      "100%|█████████████████████████████████████████████| 1/1 [00:00<00:00, 67.32it/s]\r\n",
      "06/11/2024 20:20:08 - WARNING - datasets.builder - Using custom data configuration default-8f3a313a0598a372\r\n",
      "06/11/2024 20:20:08 - WARNING - datasets.builder - Reusing dataset text (/home/FYP/on0008an/.cache/huggingface/datasets/text/default-8f3a313a0598a372/0.0.0/08f6fb1dd2dab0a18ea441c359e1d63794ea8cb53e7863e6edf8fc5655e47ec4)\r\n",
      "06/11/2024 20:20:09 - WARNING - datasets.builder - Using custom data configuration default-8f3a313a0598a372\r\n",
      "06/11/2024 20:20:09 - WARNING - datasets.builder - Reusing dataset text (/home/FYP/on0008an/.cache/huggingface/datasets/text/default-8f3a313a0598a372/0.0.0/08f6fb1dd2dab0a18ea441c359e1d63794ea8cb53e7863e6edf8fc5655e47ec4)\r\n",
      "/home/FYP/on0008an/.conda/envs/RunJupyter/lib/python3.10/site-packages/huggingface_hub/file_download.py:1132: FutureWarning: `resume_download` is deprecated and will be removed in version 1.0.0. Downloads always resume when possible. If you want to force a new download, use `force_download=True`.\r\n",
      "  warnings.warn(\r\n",
      "Loading checkpoint shards: 100%|██████████████████| 2/2 [00:08<00:00,  4.34s/it]\r\n",
      "06/11/2024 20:20:19 - WARNING - datasets.fingerprint - Parameter 'function'=<function main.<locals>.tokenize_function at 0x2aab87335b40> of the transform datasets.arrow_dataset.Dataset._map_single couldn't be hashed properly, a random hash was used instead. Make sure your transforms and parameters are serializable with pickle or dill for the dataset fingerprinting and caching to work. If you reuse this transform, the caching mechanism will consider it to be different from the previous calls and recompute everything. This warning is only showed once. Subsequent hashing failures won't be showed.\r\n",
      "06/11/2024 20:20:19 - WARNING - datasets.arrow_dataset - Loading cached processed dataset at /home/FYP/on0008an/.cache/huggingface/datasets/text/default-8f3a313a0598a372/0.0.0/08f6fb1dd2dab0a18ea441c359e1d63794ea8cb53e7863e6edf8fc5655e47ec4/cache-629f6fbed82c07cd.arrow\r\n",
      "06/11/2024 20:20:19 - WARNING - datasets.arrow_dataset - Loading cached processed dataset at /home/FYP/on0008an/.cache/huggingface/datasets/text/default-8f3a313a0598a372/0.0.0/08f6fb1dd2dab0a18ea441c359e1d63794ea8cb53e7863e6edf8fc5655e47ec4/cache-e3e70682c2094cac.arrow\r\n",
      "06/11/2024 20:20:19 - WARNING - __main__ - The tokenizer picked seems to have a very large `model_max_length` (1000000000000000019884624838656). Picking 1024 instead. You can change that default value by passing --block_size xxx.\r\n",
      "06/11/2024 20:20:19 - WARNING - datasets.arrow_dataset - Loading cached processed dataset at /home/FYP/on0008an/.cache/huggingface/datasets/text/default-8f3a313a0598a372/0.0.0/08f6fb1dd2dab0a18ea441c359e1d63794ea8cb53e7863e6edf8fc5655e47ec4/cache-0a5d2f346baa9455.arrow\r\n",
      "06/11/2024 20:20:19 - WARNING - datasets.arrow_dataset - Loading cached processed dataset at /home/FYP/on0008an/.cache/huggingface/datasets/text/default-8f3a313a0598a372/0.0.0/08f6fb1dd2dab0a18ea441c359e1d63794ea8cb53e7863e6edf8fc5655e47ec4/cache-f728b4fa42485e3a.arrow\r\n",
      "06/11/2024 20:20:19 - WARNING - datasets.arrow_dataset - Loading cached processed dataset at /home/FYP/on0008an/.cache/huggingface/datasets/text/default-8f3a313a0598a372/0.0.0/08f6fb1dd2dab0a18ea441c359e1d63794ea8cb53e7863e6edf8fc5655e47ec4/cache-7c65c1e582e2e662.arrow\r\n",
      "06/11/2024 20:20:19 - WARNING - datasets.arrow_dataset - Loading cached processed dataset at /home/FYP/on0008an/.cache/huggingface/datasets/text/default-8f3a313a0598a372/0.0.0/08f6fb1dd2dab0a18ea441c359e1d63794ea8cb53e7863e6edf8fc5655e47ec4/cache-eb1167b367a9c378.arrow\r\n",
      "06/11/2024 20:20:19 - WARNING - accelerate.utils.other - Detected kernel version 3.10.0, which is below the recommended minimum of 5.5.0; this can cause the process to hang. It is recommended to upgrade the kernel to the minimum version or higher.\r\n",
      "[WARNING|trainer.py:591] 2024-06-11 20:20:26,300 >> max_steps is given, it will override any value given in num_train_epochs\r\n",
      "  0%|                                                   | 0/500 [00:00<?, ?it/s]../aten/src/ATen/native/cuda/Indexing.cu:1289: indexSelectLargeIndex: block: [164,0,0], thread: [0,0,0] Assertion `srcIndex < srcSelectDimSize` failed.\r\n",
      "../aten/src/ATen/native/cuda/Indexing.cu:1289: indexSelectLargeIndex: block: [164,0,0], thread: [1,0,0] Assertion `srcIndex < srcSelectDimSize` failed.\r\n",
      "../aten/src/ATen/native/cuda/Indexing.cu:1289: indexSelectLargeIndex: block: [164,0,0], thread: [2,0,0] Assertion `srcIndex < srcSelectDimSize` failed.\r\n",
      "../aten/src/ATen/native/cuda/Indexing.cu:1289: indexSelectLargeIndex: block: [164,0,0], thread: [3,0,0] Assertion `srcIndex < srcSelectDimSize` failed.\r\n",
      "../aten/src/ATen/native/cuda/Indexing.cu:1289: indexSelectLargeIndex: block: [164,0,0], thread: [4,0,0] Assertion `srcIndex < srcSelectDimSize` failed.\r\n",
      "../aten/src/ATen/native/cuda/Indexing.cu:1289: indexSelectLargeIndex: block: [164,0,0], thread: [5,0,0] Assertion `srcIndex < srcSelectDimSize` failed.\r\n",
      "../aten/src/ATen/native/cuda/Indexing.cu:1289: indexSelectLargeIndex: block: [164,0,0], thread: [6,0,0] Assertion `srcIndex < srcSelectDimSize` failed.\r\n",
      "../aten/src/ATen/native/cuda/Indexing.cu:1289: indexSelectLargeIndex: block: [164,0,0], thread: [7,0,0] Assertion `srcIndex < srcSelectDimSize` failed.\r\n",
      "../aten/src/ATen/native/cuda/Indexing.cu:1289: indexSelectLargeIndex: block: [164,0,0], thread: [8,0,0] Assertion `srcIndex < srcSelectDimSize` failed.\r\n",
      "../aten/src/ATen/native/cuda/Indexing.cu:1289: indexSelectLargeIndex: block: [164,0,0], thread: [9,0,0] Assertion `srcIndex < srcSelectDimSize` failed.\r\n",
      "../aten/src/ATen/native/cuda/Indexing.cu:1289: indexSelectLargeIndex: block: [164,0,0], thread: [10,0,0] Assertion `srcIndex < srcSelectDimSize` failed.\r\n",
      "../aten/src/ATen/native/cuda/Indexing.cu:1289: indexSelectLargeIndex: block: [164,0,0], thread: [11,0,0] Assertion `srcIndex < srcSelectDimSize` failed.\r\n",
      "../aten/src/ATen/native/cuda/Indexing.cu:1289: indexSelectLargeIndex: block: [164,0,0], thread: [12,0,0] Assertion `srcIndex < srcSelectDimSize` failed.\r\n",
      "../aten/src/ATen/native/cuda/Indexing.cu:1289: indexSelectLargeIndex: block: [164,0,0], thread: [13,0,0] Assertion `srcIndex < srcSelectDimSize` failed.\r\n",
      "../aten/src/ATen/native/cuda/Indexing.cu:1289: indexSelectLargeIndex: block: [164,0,0], thread: [14,0,0] Assertion `srcIndex < srcSelectDimSize` failed.\r\n",
      "../aten/src/ATen/native/cuda/Indexing.cu:1289: indexSelectLargeIndex: block: [164,0,0], thread: [15,0,0] Assertion `srcIndex < srcSelectDimSize` failed.\r\n",
      "../aten/src/ATen/native/cuda/Indexing.cu:1289: indexSelectLargeIndex: block: [164,0,0], thread: [16,0,0] Assertion `srcIndex < srcSelectDimSize` failed.\r\n",
      "../aten/src/ATen/native/cuda/Indexing.cu:1289: indexSelectLargeIndex: block: [164,0,0], thread: [17,0,0] Assertion `srcIndex < srcSelectDimSize` failed.\r\n",
      "../aten/src/ATen/native/cuda/Indexing.cu:1289: indexSelectLargeIndex: block: [164,0,0], thread: [18,0,0] Assertion `srcIndex < srcSelectDimSize` failed.\r\n",
      "../aten/src/ATen/native/cuda/Indexing.cu:1289: indexSelectLargeIndex: block: [164,0,0], thread: [19,0,0] Assertion `srcIndex < srcSelectDimSize` failed.\r\n",
      "../aten/src/ATen/native/cuda/Indexing.cu:1289: indexSelectLargeIndex: block: [164,0,0], thread: [20,0,0] Assertion `srcIndex < srcSelectDimSize` failed.\r\n",
      "../aten/src/ATen/native/cuda/Indexing.cu:1289: indexSelectLargeIndex: block: [164,0,0], thread: [21,0,0] Assertion `srcIndex < srcSelectDimSize` failed.\r\n",
      "../aten/src/ATen/native/cuda/Indexing.cu:1289: indexSelectLargeIndex: block: [164,0,0], thread: [22,0,0] Assertion `srcIndex < srcSelectDimSize` failed.\r\n",
      "../aten/src/ATen/native/cuda/Indexing.cu:1289: indexSelectLargeIndex: block: [164,0,0], thread: [23,0,0] Assertion `srcIndex < srcSelectDimSize` failed.\r\n",
      "../aten/src/ATen/native/cuda/Indexing.cu:1289: indexSelectLargeIndex: block: [164,0,0], thread: [24,0,0] Assertion `srcIndex < srcSelectDimSize` failed.\r\n",
      "../aten/src/ATen/native/cuda/Indexing.cu:1289: indexSelectLargeIndex: block: [164,0,0], thread: [25,0,0] Assertion `srcIndex < srcSelectDimSize` failed.\r\n",
      "../aten/src/ATen/native/cuda/Indexing.cu:1289: indexSelectLargeIndex: block: [164,0,0], thread: [26,0,0] Assertion `srcIndex < srcSelectDimSize` failed.\r\n",
      "../aten/src/ATen/native/cuda/Indexing.cu:1289: indexSelectLargeIndex: block: [164,0,0], thread: [27,0,0] Assertion `srcIndex < srcSelectDimSize` failed.\r\n",
      "../aten/src/ATen/native/cuda/Indexing.cu:1289: indexSelectLargeIndex: block: [164,0,0], thread: [28,0,0] Assertion `srcIndex < srcSelectDimSize` failed.\r\n",
      "../aten/src/ATen/native/cuda/Indexing.cu:1289: indexSelectLargeIndex: block: [164,0,0], thread: [29,0,0] Assertion `srcIndex < srcSelectDimSize` failed.\r\n",
      "../aten/src/ATen/native/cuda/Indexing.cu:1289: indexSelectLargeIndex: block: [164,0,0], thread: [30,0,0] Assertion `srcIndex < srcSelectDimSize` failed.\r\n",
      "../aten/src/ATen/native/cuda/Indexing.cu:1289: indexSelectLargeIndex: block: [164,0,0], thread: [31,0,0] Assertion `srcIndex < srcSelectDimSize` failed.\r\n",
      "../aten/src/ATen/native/cuda/Indexing.cu:1289: indexSelectLargeIndex: block: [124,0,0], thread: [96,0,0] Assertion `srcIndex < srcSelectDimSize` failed.\r\n",
      "../aten/src/ATen/native/cuda/Indexing.cu:1289: indexSelectLargeIndex: block: [124,0,0], thread: [97,0,0] Assertion `srcIndex < srcSelectDimSize` failed.\r\n",
      "../aten/src/ATen/native/cuda/Indexing.cu:1289: indexSelectLargeIndex: block: [124,0,0], thread: [98,0,0] Assertion `srcIndex < srcSelectDimSize` failed.\r\n",
      "../aten/src/ATen/native/cuda/Indexing.cu:1289: indexSelectLargeIndex: block: [124,0,0], thread: [99,0,0] Assertion `srcIndex < srcSelectDimSize` failed.\r\n",
      "../aten/src/ATen/native/cuda/Indexing.cu:1289: indexSelectLargeIndex: block: [124,0,0], thread: [100,0,0] Assertion `srcIndex < srcSelectDimSize` failed.\r\n",
      "../aten/src/ATen/native/cuda/Indexing.cu:1289: indexSelectLargeIndex: block: [124,0,0], thread: [101,0,0] Assertion `srcIndex < srcSelectDimSize` failed.\r\n",
      "../aten/src/ATen/native/cuda/Indexing.cu:1289: indexSelectLargeIndex: block: [124,0,0], thread: [102,0,0] Assertion `srcIndex < srcSelectDimSize` failed.\r\n",
      "../aten/src/ATen/native/cuda/Indexing.cu:1289: indexSelectLargeIndex: block: [124,0,0], thread: [103,0,0] Assertion `srcIndex < srcSelectDimSize` failed.\r\n",
      "../aten/src/ATen/native/cuda/Indexing.cu:1289: indexSelectLargeIndex: block: [124,0,0], thread: [104,0,0] Assertion `srcIndex < srcSelectDimSize` failed.\r\n",
      "../aten/src/ATen/native/cuda/Indexing.cu:1289: indexSelectLargeIndex: block: [124,0,0], thread: [105,0,0] Assertion `srcIndex < srcSelectDimSize` failed.\r\n",
      "../aten/src/ATen/native/cuda/Indexing.cu:1289: indexSelectLargeIndex: block: [124,0,0], thread: [106,0,0] Assertion `srcIndex < srcSelectDimSize` failed.\r\n",
      "../aten/src/ATen/native/cuda/Indexing.cu:1289: indexSelectLargeIndex: block: [124,0,0], thread: [107,0,0] Assertion `srcIndex < srcSelectDimSize` failed.\r\n",
      "../aten/src/ATen/native/cuda/Indexing.cu:1289: indexSelectLargeIndex: block: [124,0,0], thread: [108,0,0] Assertion `srcIndex < srcSelectDimSize` failed.\r\n",
      "../aten/src/ATen/native/cuda/Indexing.cu:1289: indexSelectLargeIndex: block: [124,0,0], thread: [109,0,0] Assertion `srcIndex < srcSelectDimSize` failed.\r\n",
      "../aten/src/ATen/native/cuda/Indexing.cu:1289: indexSelectLargeIndex: block: [124,0,0], thread: [110,0,0] Assertion `srcIndex < srcSelectDimSize` failed.\r\n",
      "../aten/src/ATen/native/cuda/Indexing.cu:1289: indexSelectLargeIndex: block: [124,0,0], thread: [111,0,0] Assertion `srcIndex < srcSelectDimSize` failed.\r\n",
      "../aten/src/ATen/native/cuda/Indexing.cu:1289: indexSelectLargeIndex: block: [124,0,0], thread: [112,0,0] Assertion `srcIndex < srcSelectDimSize` failed.\r\n",
      "../aten/src/ATen/native/cuda/Indexing.cu:1289: indexSelectLargeIndex: block: [124,0,0], thread: [113,0,0] Assertion `srcIndex < srcSelectDimSize` failed.\r\n",
      "../aten/src/ATen/native/cuda/Indexing.cu:1289: indexSelectLargeIndex: block: [124,0,0], thread: [114,0,0] Assertion `srcIndex < srcSelectDimSize` failed.\r\n",
      "../aten/src/ATen/native/cuda/Indexing.cu:1289: indexSelectLargeIndex: block: [124,0,0], thread: [115,0,0] Assertion `srcIndex < srcSelectDimSize` failed.\r\n",
      "../aten/src/ATen/native/cuda/Indexing.cu:1289: indexSelectLargeIndex: block: [124,0,0], thread: [116,0,0] Assertion `srcIndex < srcSelectDimSize` failed.\r\n",
      "../aten/src/ATen/native/cuda/Indexing.cu:1289: indexSelectLargeIndex: block: [124,0,0], thread: [117,0,0] Assertion `srcIndex < srcSelectDimSize` failed.\r\n",
      "../aten/src/ATen/native/cuda/Indexing.cu:1289: indexSelectLargeIndex: block: [124,0,0], thread: [118,0,0] Assertion `srcIndex < srcSelectDimSize` failed.\r\n",
      "../aten/src/ATen/native/cuda/Indexing.cu:1289: indexSelectLargeIndex: block: [124,0,0], thread: [119,0,0] Assertion `srcIndex < srcSelectDimSize` failed.\r\n",
      "../aten/src/ATen/native/cuda/Indexing.cu:1289: indexSelectLargeIndex: block: [124,0,0], thread: [120,0,0] Assertion `srcIndex < srcSelectDimSize` failed.\r\n",
      "../aten/src/ATen/native/cuda/Indexing.cu:1289: indexSelectLargeIndex: block: [124,0,0], thread: [121,0,0] Assertion `srcIndex < srcSelectDimSize` failed.\r\n",
      "../aten/src/ATen/native/cuda/Indexing.cu:1289: indexSelectLargeIndex: block: [124,0,0], thread: [122,0,0] Assertion `srcIndex < srcSelectDimSize` failed.\r\n",
      "../aten/src/ATen/native/cuda/Indexing.cu:1289: indexSelectLargeIndex: block: [124,0,0], thread: [123,0,0] Assertion `srcIndex < srcSelectDimSize` failed.\r\n",
      "../aten/src/ATen/native/cuda/Indexing.cu:1289: indexSelectLargeIndex: block: [124,0,0], thread: [124,0,0] Assertion `srcIndex < srcSelectDimSize` failed.\r\n",
      "../aten/src/ATen/native/cuda/Indexing.cu:1289: indexSelectLargeIndex: block: [124,0,0], thread: [125,0,0] Assertion `srcIndex < srcSelectDimSize` failed.\r\n",
      "../aten/src/ATen/native/cuda/Indexing.cu:1289: indexSelectLargeIndex: block: [124,0,0], thread: [126,0,0] Assertion `srcIndex < srcSelectDimSize` failed.\r\n",
      "../aten/src/ATen/native/cuda/Indexing.cu:1289: indexSelectLargeIndex: block: [124,0,0], thread: [127,0,0] Assertion `srcIndex < srcSelectDimSize` failed.\r\n",
      "Traceback (most recent call last):\r\n",
      "  File \"/home/FYP/on0008an/bias-bench-main/experiments/run_clm.py\", line 789, in <module>\r\n",
      "    main()\r\n",
      "  File \"/home/FYP/on0008an/bias-bench-main/experiments/run_clm.py\", line 728, in main\r\n",
      "    train_result = trainer.train(resume_from_checkpoint=checkpoint)\r\n",
      "  File \"/home/FYP/on0008an/.conda/envs/RunJupyter/lib/python3.10/site-packages/transformers/trainer.py\", line 1885, in train\r\n",
      "    return inner_training_loop(\r\n",
      "  File \"/home/FYP/on0008an/.conda/envs/RunJupyter/lib/python3.10/site-packages/transformers/trainer.py\", line 2216, in _inner_training_loop\r\n",
      "    tr_loss_step = self.training_step(model, inputs)\r\n",
      "  File \"/home/FYP/on0008an/.conda/envs/RunJupyter/lib/python3.10/site-packages/transformers/trainer.py\", line 3238, in training_step\r\n",
      "    loss = self.compute_loss(model, inputs)\r\n",
      "  File \"/home/FYP/on0008an/.conda/envs/RunJupyter/lib/python3.10/site-packages/transformers/trainer.py\", line 3264, in compute_loss\r\n",
      "    outputs = model(**inputs)\r\n",
      "  File \"/home/FYP/on0008an/.conda/envs/RunJupyter/lib/python3.10/site-packages/torch/nn/modules/module.py\", line 1532, in _wrapped_call_impl\r\n",
      "    return self._call_impl(*args, **kwargs)\r\n",
      "  File \"/home/FYP/on0008an/.conda/envs/RunJupyter/lib/python3.10/site-packages/torch/nn/modules/module.py\", line 1541, in _call_impl\r\n",
      "    return forward_call(*args, **kwargs)\r\n",
      "  File \"/home/FYP/on0008an/.conda/envs/RunJupyter/lib/python3.10/site-packages/transformers/models/llama/modeling_llama.py\", line 1164, in forward\r\n",
      "    outputs = self.model(\r\n",
      "  File \"/home/FYP/on0008an/.conda/envs/RunJupyter/lib/python3.10/site-packages/torch/nn/modules/module.py\", line 1532, in _wrapped_call_impl\r\n",
      "    return self._call_impl(*args, **kwargs)\r\n",
      "  File \"/home/FYP/on0008an/.conda/envs/RunJupyter/lib/python3.10/site-packages/torch/nn/modules/module.py\", line 1541, in _call_impl\r\n",
      "    return forward_call(*args, **kwargs)\r\n",
      "  File \"/home/FYP/on0008an/.conda/envs/RunJupyter/lib/python3.10/site-packages/transformers/models/llama/modeling_llama.py\", line 925, in forward\r\n",
      "    inputs_embeds = self.embed_tokens(input_ids)\r\n",
      "  File \"/home/FYP/on0008an/.conda/envs/RunJupyter/lib/python3.10/site-packages/torch/nn/modules/module.py\", line 1532, in _wrapped_call_impl\r\n",
      "    return self._call_impl(*args, **kwargs)\r\n",
      "  File \"/home/FYP/on0008an/.conda/envs/RunJupyter/lib/python3.10/site-packages/torch/nn/modules/module.py\", line 1541, in _call_impl\r\n",
      "    return forward_call(*args, **kwargs)\r\n",
      "  File \"/home/FYP/on0008an/.conda/envs/RunJupyter/lib/python3.10/site-packages/torch/nn/modules/sparse.py\", line 163, in forward\r\n",
      "    return F.embedding(\r\n",
      "  File \"/home/FYP/on0008an/.conda/envs/RunJupyter/lib/python3.10/site-packages/torch/nn/functional.py\", line 2264, in embedding\r\n",
      "    return torch.embedding(weight, input, padding_idx, scale_grad_by_freq, sparse)\r\n",
      "RuntimeError: CUDA error: device-side assert triggered\r\n",
      "Compile with `TORCH_USE_CUDA_DSA` to enable device-side assertions.\r\n",
      "\r\n",
      "  0%|                                                   | 0/500 [00:01<?, ?it/s]\r\n"
     ]
    }
   ],
   "source": [
    "!python run_clm.py --model_name_or_path \"meta-llama/Llama-2-7b-chat-hf\" --tokenizer_name \"meta-llama/Llama-2-7b-chat-hf\" --do_train --train_file \"../data/wikipedia-10.txt\" --max_steps 500 --per_device_train_batch_size 1 --gradient_accumulation_steps 32 --save_steps 500 --preprocessing_num_workers 1 --counterfactual_augmentation \"gender\" --seed 0 --output_dir \"../results/llama2_CDA_training_seed0\" --persistent_dir \"/home/FYP/on0008an/bias-bench-main\" --num_train_epochs 3 --overwrite_output_dir --logging_strategy \"steps\" --logging_steps 1"
   ]
  },
  {
   "cell_type": "code",
   "execution_count": null,
   "id": "5bc2d34ea0e1a959",
   "metadata": {},
   "outputs": [],
   "source": []
  }
 ],
 "metadata": {
  "kernelspec": {
   "display_name": "Python 3",
   "language": "python",
   "name": "python3"
  },
  "language_info": {
   "codemirror_mode": {
    "name": "ipython",
    "version": 2
   },
   "file_extension": ".py",
   "mimetype": "text/x-python",
   "name": "python",
   "nbconvert_exporter": "python",
   "pygments_lexer": "ipython2",
   "version": "2.7.6"
  }
 },
 "nbformat": 4,
 "nbformat_minor": 5
}
