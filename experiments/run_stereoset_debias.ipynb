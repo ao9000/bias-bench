{
 "cells": [
  {
   "cell_type": "code",
   "execution_count": 4,
   "id": "initial_id",
   "metadata": {
    "ExecuteTime": {
     "end_time": "2024-06-07T18:18:30.809596Z",
     "start_time": "2024-06-07T18:13:16.511114Z"
    },
    "collapsed": true
   },
   "outputs": [
    {
     "name": "stdout",
     "output_type": "stream",
     "text": [
      "The token has not been saved to the git credentials helper. Pass `add_to_git_credential=True` in this function directly or `--add-to-git-credential` if using via `huggingface-cli` if you want to set the git credential as well.\r\n",
      "Token is valid (permission: read).\r\n",
      "Your token has been saved to /home/FYP/on0008an/.cache/huggingface/token\r\n",
      "Login successful\r\n",
      "Running StereoSet:\r\n",
      " - persistent_dir: /home/FYP/on0008an/bias-bench-main\r\n",
      " - model: SelfDebiasGPT2LMHeadModel\r\n",
      " - model_name_or_path: gpt2\r\n",
      " - bias_direction: None\r\n",
      " - projection_matrix: None\r\n",
      " - load_path: None\r\n",
      " - batch_size: 1\r\n",
      " - bias_type: gender\r\n",
      " - seed: None\r\n",
      "Evaluating intrasentence task.\r\n",
      "Unconditional start token: <|endoftext|>\r\n",
      "100%|███████████████████████████████████████| 6392/6392 [05:01<00:00, 21.18it/s]\r\n"
     ]
    }
   ],
   "source": [
    "!python stereoset_debias.py --model \"SelfDebiasGPT2LMHeadModel\" --model_name_or_path \"gpt2\" --bias_type \"gender\" --batch_size 1 --seed 1"
   ]
  },
  {
   "cell_type": "code",
   "execution_count": null,
   "id": "88a5251c0ba7a59e",
   "metadata": {
    "ExecuteTime": {
     "start_time": "2024-06-08T03:23:51.524636Z"
    },
    "jupyter": {
     "is_executing": true
    }
   },
   "outputs": [
    {
     "name": "stdout",
     "output_type": "stream",
     "text": [
      "The token has not been saved to the git credentials helper. Pass `add_to_git_credential=True` in this function directly or `--add-to-git-credential` if using via `huggingface-cli` if you want to set the git credential as well.\r\n",
      "Token is valid (permission: read).\r\n",
      "Your token has been saved to /home/FYP/on0008an/.cache/huggingface/token\r\n",
      "Login successful\r\n",
      "Running StereoSet:\r\n",
      " - persistent_dir: /home/FYP/on0008an/bias-bench-main\r\n",
      " - model: SelfDebiasLlamaLMHeadModel\r\n",
      " - model_name_or_path: meta-llama/Llama-2-7b-chat-hf\r\n",
      " - bias_direction: None\r\n",
      " - projection_matrix: None\r\n",
      " - load_path: None\r\n",
      " - batch_size: 1\r\n",
      " - bias_type: gender\r\n",
      " - seed: 1\r\n",
      "Loading checkpoint shards: 100%|██████████████████| 2/2 [00:08<00:00,  4.22s/it]\r\n",
      "Evaluating intrasentence task.\r\n",
      "Unconditional start token: <s>\r\n",
      "  5%|█▊                                      | 296/6392 [01:36<31:11,  3.26it/s]"
     ]
    }
   ],
   "source": [
    "!python stereoset_debias.py --model \"SelfDebiasLlamaLMHeadModel\" --model_name_or_path \"meta-llama/Llama-2-7b-chat-hf\" --bias_type \"gender\" --batch_size 1 --seed 1"
   ]
  },
  {
   "cell_type": "code",
   "execution_count": null,
   "id": "3e7e5322544efd95",
   "metadata": {},
   "outputs": [],
   "source": []
  }
 ],
 "metadata": {
  "kernelspec": {
   "display_name": "Python 3",
   "language": "python",
   "name": "python3"
  },
  "language_info": {
   "codemirror_mode": {
    "name": "ipython",
    "version": 2
   },
   "file_extension": ".py",
   "mimetype": "text/x-python",
   "name": "python",
   "nbconvert_exporter": "python",
   "pygments_lexer": "ipython2",
   "version": "2.7.6"
  }
 },
 "nbformat": 4,
 "nbformat_minor": 5
}
