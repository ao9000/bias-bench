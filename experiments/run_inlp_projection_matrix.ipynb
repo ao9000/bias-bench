{
 "cells": [
  {
   "cell_type": "markdown",
   "id": "4eac3c33840bb047",
   "metadata": {},
   "source": [
    "# n_classifiers = 80"
   ]
  },
  {
   "cell_type": "code",
   "execution_count": null,
   "id": "87492417afecacd1",
   "metadata": {},
   "outputs": [],
   "source": [
    "bias_types = [\n",
    "    \"gender\", \n",
    "    \"religion\", \n",
    "    \"race-color\"\n",
    "]\n",
    "\n",
    "for bias in bias_types:\n",
    "    command = f\"python inlp_projection_matrix.py --bias_type '{bias}' --model 'GPT2Model' --model_name_or_path 'gpt2' --seed 42 --n_classifiers 80  --sample --persistent_dir '/home/FYP/on0008an/bias-bench-main'\"\n",
    "    print(f\"Executing: {command}\")\n",
    "    get_ipython().system(command)"
   ]
  },
  {
   "cell_type": "code",
   "execution_count": null,
   "id": "bb98489d26f79d17",
   "metadata": {},
   "outputs": [],
   "source": [
    "bias_types = [\n",
    "    \"gender\", \n",
    "    \"religion\", \n",
    "    \"race-color\"\n",
    "]\n",
    "\n",
    "for bias in bias_types:\n",
    "    command = f\"python inlp_projection_matrix.py --bias_type '{bias}' --model 'PhiForCausalLM_NonBFloat16' --model_name_or_path 'microsoft/phi-2' --seed 42 --n_classifiers 80  --sample --persistent_dir '/home/FYP/on0008an/bias-bench-main'\"\n",
    "    print(f\"Executing: {command}\")\n",
    "    get_ipython().system(command)"
   ]
  },
  {
   "cell_type": "code",
   "execution_count": null,
   "id": "ced180ec4404a475",
   "metadata": {},
   "outputs": [],
   "source": [
    "bias_types = [\n",
    "    \"gender\", \n",
    "    \"religion\", \n",
    "    \"race-color\"\n",
    "]\n",
    "\n",
    "for bias in bias_types:\n",
    "    command = f\"python inlp_projection_matrix.py --bias_type '{bias}' --model 'LlamaForCausalLM_NonBFloat16' --model_name_or_path 'meta-llama/Llama-2-7b-hf' --seed 42 --n_classifiers 80  --sample --persistent_dir '/home/FYP/on0008an/bias-bench-main'\"\n",
    "    print(f\"Executing: {command}\")\n",
    "    get_ipython().system(command)"
   ]
  },
  {
   "cell_type": "code",
   "execution_count": null,
   "id": "fb8897e066df456e",
   "metadata": {
    "ExecuteTime": {
     "start_time": "2024-06-25T19:18:08.032872Z"
    },
    "jupyter": {
     "is_executing": true
    }
   },
   "outputs": [],
   "source": [
    "!python inlp_projection_matrix.py --bias_type 'race-color' --model 'LlamaForCausalLM_NonBFloat16' --model_name_or_path 'meta-llama/Llama-2-7b-hf' --seed 42 --n_classifiers 80  --sample --persistent_dir '/home/FYP/on0008an/bias-bench-main'"
   ]
  },
  {
   "cell_type": "markdown",
   "id": "bedeffb5f7226d19",
   "metadata": {},
   "source": [
    "# n_classifiers = 10"
   ]
  },
  {
   "cell_type": "code",
   "execution_count": null,
   "id": "98a2f0b591068a1a",
   "metadata": {
    "ExecuteTime": {
     "start_time": "2024-06-26T04:56:41.543381Z"
    },
    "jupyter": {
     "is_executing": true
    }
   },
   "outputs": [
    {
     "name": "stdout",
     "output_type": "stream",
     "text": [
      "Executing: python inlp_projection_matrix.py --bias_type 'gender' --model 'GPT2Model' --model_name_or_path 'gpt2' --seed 42 --n_classifiers 10  --sample --persistent_dir '/home/FYP/on0008an/bias-bench-main'\n"
     ]
    }
   ],
   "source": [
    "bias_types = [\n",
    "    \"gender\", \n",
    "    \"religion\", \n",
    "    \"race-color\"\n",
    "]\n",
    "\n",
    "for bias in bias_types:\n",
    "    command = f\"python inlp_projection_matrix.py --bias_type '{bias}' --model 'GPT2Model' --model_name_or_path 'gpt2' --seed 42 --n_classifiers 10  --sample --persistent_dir '/home/FYP/on0008an/bias-bench-main'\"\n",
    "    print(f\"Executing: {command}\")\n",
    "    get_ipython().system(command)"
   ]
  },
  {
   "cell_type": "code",
   "execution_count": null,
   "id": "cb3fb7671baa86af",
   "metadata": {
    "jupyter": {
     "is_executing": true
    }
   },
   "outputs": [],
   "source": [
    "bias_types = [\n",
    "    \"gender\", \n",
    "    \"religion\", \n",
    "    \"race-color\"\n",
    "]\n",
    "\n",
    "for bias in bias_types:\n",
    "    command = f\"python inlp_projection_matrix.py --bias_type '{bias}' --model 'PhiForCausalLM_NonBFloat16' --model_name_or_path 'microsoft/phi-2' --seed 42 --n_classifiers 10  --sample --persistent_dir '/home/FYP/on0008an/bias-bench-main'\"\n",
    "    print(f\"Executing: {command}\")\n",
    "    get_ipython().system(command)"
   ]
  },
  {
   "cell_type": "code",
   "execution_count": 1,
   "id": "fe14404566bbeb70",
   "metadata": {
    "ExecuteTime": {
     "end_time": "2024-06-26T14:22:07.304280Z",
     "start_time": "2024-06-26T12:43:27.035395Z"
    }
   },
   "outputs": [
    {
     "name": "stdout",
     "output_type": "stream",
     "text": [
      "Executing: python inlp_projection_matrix.py --bias_type 'race-color' --model 'LlamaForCausalLM_NonBFloat16' --model_name_or_path 'meta-llama/Llama-2-7b-hf' --seed 42 --n_classifiers 10  --sample --persistent_dir '/home/FYP/on0008an/bias-bench-main'\n",
      "/home/FYP/on0008an/.conda/envs/RunJupyter/lib/python3.10/site-packages/scipy/__init__.py:146: UserWarning: A NumPy version >=1.16.5 and <1.23.0 is required for this version of SciPy (detected version 1.26.4\r\n",
      "  warnings.warn(f\"A NumPy version >={np_minversion} and <{np_maxversion}\"\r\n",
      "The token has not been saved to the git credentials helper. Pass `add_to_git_credential=True` in this function directly or `--add-to-git-credential` if using via `huggingface-cli` if you want to set the git credential as well.\r\n",
      "Token is valid (permission: read).\r\n",
      "Your token has been saved to /home/FYP/on0008an/.cache/huggingface/token\r\n",
      "Login successful\r\n",
      "Computing projection matrix:\r\n",
      " - persistent_dir: /home/FYP/on0008an/bias-bench-main\r\n",
      " - model: LlamaForCausalLM_NonBFloat16\r\n",
      " - model_name_or_path: meta-llama/Llama-2-7b-hf\r\n",
      " - bias_type: race-color\r\n",
      " - n_classifiers: 10\r\n",
      " - seed: 42\r\n",
      "Loading dataset from /home/FYP/on0008an/bias-bench-main/data/wikipedia-2.5_sample.txt\r\n",
      "Loading INLP data:  83%|██████████▊  | 283818/343158 [00:15<00:03, 18071.92it/s]INLP dataset collected:\r\n",
      " - Num. bias sentences: 10000\r\n",
      " - Num. neutral sentences: 10000\r\n",
      "Loading INLP data:  83%|██████████▊  | 284766/343158 [00:15<00:03, 18696.30it/s]\r\n",
      "Loading checkpoint shards: 100%|██████████████████| 2/2 [00:08<00:00,  4.18s/it]\r\n",
      "Encoding bias sentences:   0%|                        | 0/10000 [00:00<?, ?it/s]Asking to truncate to max_length but no maximum length is provided and the model has no predefined maximum length. Default to no truncation.\r\n",
      "Encoding bias sentences: 100%|████████████| 10000/10000 [24:59<00:00,  6.67it/s]\r\n",
      "Encoding neutral sentences: 100%|█████████| 10000/10000 [20:04<00:00,  8.31it/s]\r\n",
      "Dataset split sizes:\r\n",
      "Train size: 9800; Dev size: 4200; Test size: 6000\r\n",
      "Model input dimension: 4096\r\n",
      "Starting from scratch\r\n",
      "iteration: 9, accuracy: 0.8530952380952381: 100%|█| 10/10 [52:11<00:00, 313.11s/\r\n",
      "Saving computed projection matrix to: /home/FYP/on0008an/bias-bench-main/results/projection_matrix/projection_m-LlamaForCausalLM_NonBFloat16_c-meta-llama_Llama-2-7b-hf_t-race-color_s-42.pt\r\n"
     ]
    }
   ],
   "source": [
    "bias_types = [\n",
    "    # \"gender\", \n",
    "    # \"religion\", \n",
    "    \"race-color\"\n",
    "]\n",
    "\n",
    "for bias in bias_types:\n",
    "    command = f\"python inlp_projection_matrix.py --bias_type '{bias}' --model 'LlamaForCausalLM_NonBFloat16' --model_name_or_path 'meta-llama/Llama-2-7b-hf' --seed 42 --n_classifiers 10  --sample --persistent_dir '/home/FYP/on0008an/bias-bench-main'\"\n",
    "    print(f\"Executing: {command}\")\n",
    "    get_ipython().system(command)"
   ]
  },
  {
   "cell_type": "code",
   "execution_count": null,
   "id": "81e4aedcc05d21ab",
   "metadata": {},
   "outputs": [],
   "source": []
  }
 ],
 "metadata": {
  "kernelspec": {
   "display_name": "Python 3",
   "language": "python",
   "name": "python3"
  },
  "language_info": {
   "codemirror_mode": {
    "name": "ipython",
    "version": 2
   },
   "file_extension": ".py",
   "mimetype": "text/x-python",
   "name": "python",
   "nbconvert_exporter": "python",
   "pygments_lexer": "ipython2",
   "version": "2.7.6"
  }
 },
 "nbformat": 4,
 "nbformat_minor": 5
}
