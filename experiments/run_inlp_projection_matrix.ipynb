{
 "cells": [
  {
   "cell_type": "code",
   "execution_count": 1,
   "id": "initial_id",
   "metadata": {
    "ExecuteTime": {
     "end_time": "2024-06-20T08:55:25.953623Z",
     "start_time": "2024-06-20T08:25:39.232802Z"
    },
    "collapsed": true
   },
   "outputs": [
    {
     "name": "stdout",
     "output_type": "stream",
     "text": [
      "/home/FYP/on0008an/.conda/envs/RunJupyter/lib/python3.10/site-packages/scipy/__init__.py:146: UserWarning: A NumPy version >=1.16.5 and <1.23.0 is required for this version of SciPy (detected version 1.26.4\r\n",
      "  warnings.warn(f\"A NumPy version >={np_minversion} and <{np_maxversion}\"\r\n",
      "The token has not been saved to the git credentials helper. Pass `add_to_git_credential=True` in this function directly or `--add-to-git-credential` if using via `huggingface-cli` if you want to set the git credential as well.\r\n",
      "Token is valid (permission: read).\r\n",
      "Your token has been saved to /home/FYP/on0008an/.cache/huggingface/token\r\n",
      "Login successful\r\n",
      "Computing projection matrix:\r\n",
      " - persistent_dir: /home/FYP/on0008an/bias-bench-main\r\n",
      " - model: GPT2Model\r\n",
      " - model_name_or_path: gpt2\r\n",
      " - bias_type: gender\r\n",
      " - n_classifiers: 80\r\n",
      " - seed: 0\r\n",
      "Loading INLP data: 100%|███████████████| 30000/30000 [00:02<00:00, 11691.07it/s]\r\n",
      "Encoding male sentences: 100%|███████████| 10000/10000 [01:23<00:00, 119.38it/s]\r\n",
      "Encoding female sentences: 100%|███████████| 2480/2480 [00:20<00:00, 122.78it/s]\r\n",
      "Encoding neutral sentences: 100%|████████| 10000/10000 [01:26<00:00, 114.97it/s]\r\n",
      "Dataset split sizes:\r\n",
      "Train size: 11015; Dev size: 4721; Test size: 6744\r\n",
      "iteration: 79, accuracy: 0.47532302478288496: 100%|█| 80/80 [26:20<00:00, 19.75s\r\n",
      "Saving computed projection matrix to: /home/FYP/on0008an/bias-bench-main/results/projection_matrix/projection_m-GPT2Model_c-gpt2_t-gender_s-0.pt\r\n"
     ]
    }
   ],
   "source": [
    "!python inlp_projection_matrix.py --model \"GPT2Model\" --model_name_or_path \"gpt2\" --bias_type \"gender\" --seed 42 --n_classifiers 80"
   ]
  },
  {
   "cell_type": "code",
   "execution_count": 1,
   "id": "ced180ec4404a475",
   "metadata": {
    "ExecuteTime": {
     "end_time": "2024-06-20T10:31:58.191888Z",
     "start_time": "2024-06-20T10:29:13.649358Z"
    }
   },
   "outputs": [
    {
     "name": "stdout",
     "output_type": "stream",
     "text": [
      "/home/FYP/on0008an/.conda/envs/RunJupyter/lib/python3.10/site-packages/scipy/__init__.py:146: UserWarning: A NumPy version >=1.16.5 and <1.23.0 is required for this version of SciPy (detected version 1.26.4\r\n",
      "  warnings.warn(f\"A NumPy version >={np_minversion} and <{np_maxversion}\"\r\n",
      "The token has not been saved to the git credentials helper. Pass `add_to_git_credential=True` in this function directly or `--add-to-git-credential` if using via `huggingface-cli` if you want to set the git credential as well.\r\n",
      "Token is valid (permission: read).\r\n",
      "Your token has been saved to /home/FYP/on0008an/.cache/huggingface/token\r\n",
      "Login successful\r\n",
      "Computing projection matrix:\r\n",
      " - persistent_dir: /home/FYP/on0008an/bias-bench-main\r\n",
      " - model: PhiForCausalLM_NonBFloat16\r\n",
      " - model_name_or_path: microsoft/phi-2\r\n",
      " - bias_type: gender\r\n",
      " - n_classifiers: 1\r\n",
      " - seed: 42\r\n",
      "Loading INLP data: 100%|█████████████████| 1000/1000 [00:00<00:00, 13240.60it/s]\r\n",
      "Loading checkpoint shards: 100%|██████████████████| 2/2 [00:06<00:00,  3.22s/it]\r\n",
      "Special tokens have been added in the vocabulary, make sure the associated word embeddings are fine-tuned or trained.\r\n",
      "Encoding male sentences: 100%|████████████████| 437/437 [00:26<00:00, 16.26it/s]\r\n",
      "Encoding female sentences: 100%|████████████████| 41/41 [00:02<00:00, 17.24it/s]\r\n",
      "Encoding neutral sentences: 100%|███████████| 1669/1669 [01:32<00:00, 18.09it/s]\r\n",
      "Dataset split sizes:\r\n",
      "Train size: 1051; Dev size: 451; Test size: 645\r\n",
      "Model input dimension: 2560\r\n",
      "iteration: 0, accuracy: 0.8869179600886918: 100%|█| 1/1 [00:12<00:00, 12.21s/it]\r\n",
      "Saving computed projection matrix to: /home/FYP/on0008an/bias-bench-main/results/projection_matrix/projection_m-PhiForCausalLM_NonBFloat16_c-microsoft_phi-2_t-gender_s-42.pt\r\n"
     ]
    }
   ],
   "source": [
    "!python inlp_projection_matrix.py --model \"PhiForCausalLM_NonBFloat16\" --model_name_or_path \"microsoft/phi-2\" --bias_type \"gender\" --seed 42 --n_classifiers 1"
   ]
  },
  {
   "cell_type": "code",
   "execution_count": null,
   "id": "fb8897e066df456e",
   "metadata": {},
   "outputs": [],
   "source": []
  }
 ],
 "metadata": {
  "kernelspec": {
   "display_name": "Python 3",
   "language": "python",
   "name": "python3"
  },
  "language_info": {
   "codemirror_mode": {
    "name": "ipython",
    "version": 2
   },
   "file_extension": ".py",
   "mimetype": "text/x-python",
   "name": "python",
   "nbconvert_exporter": "python",
   "pygments_lexer": "ipython2",
   "version": "2.7.6"
  }
 },
 "nbformat": 4,
 "nbformat_minor": 5
}
