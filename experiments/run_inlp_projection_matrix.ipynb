{
 "cells": [
  {
   "cell_type": "markdown",
   "id": "4eac3c33840bb047",
   "metadata": {},
   "source": [
    "# n_classifiers = 80"
   ]
  },
  {
   "cell_type": "code",
   "execution_count": null,
   "id": "87492417afecacd1",
   "metadata": {},
   "outputs": [],
   "source": [
    "bias_types = [\n",
    "    \"gender\", \n",
    "    \"religion\", \n",
    "    \"race-color\"\n",
    "]\n",
    "\n",
    "for bias in bias_types:\n",
    "    command = f\"python inlp_projection_matrix.py --bias_type '{bias}' --model 'GPT2Model' --model_name_or_path 'gpt2' --seed 42 --n_classifiers 80  --sample --persistent_dir '/home/FYP/on0008an/bias-bench-main'\"\n",
    "    print(f\"Executing: {command}\")\n",
    "    get_ipython().system(command)"
   ]
  },
  {
   "cell_type": "code",
   "execution_count": null,
   "id": "bb98489d26f79d17",
   "metadata": {},
   "outputs": [],
   "source": [
    "bias_types = [\n",
    "    \"gender\", \n",
    "    \"religion\", \n",
    "    \"race-color\"\n",
    "]\n",
    "\n",
    "for bias in bias_types:\n",
    "    command = f\"python inlp_projection_matrix.py --bias_type '{bias}' --model 'PhiForCausalLM_NonBFloat16' --model_name_or_path 'microsoft/phi-2' --seed 42 --n_classifiers 80  --sample --persistent_dir '/home/FYP/on0008an/bias-bench-main'\"\n",
    "    print(f\"Executing: {command}\")\n",
    "    get_ipython().system(command)"
   ]
  },
  {
   "cell_type": "code",
   "execution_count": null,
   "id": "ced180ec4404a475",
   "metadata": {},
   "outputs": [],
   "source": [
    "bias_types = [\n",
    "    \"gender\", \n",
    "    \"religion\", \n",
    "    \"race-color\"\n",
    "]\n",
    "\n",
    "for bias in bias_types:\n",
    "    command = f\"python inlp_projection_matrix.py --bias_type '{bias}' --model 'LlamaForCausalLM_NonBFloat16' --model_name_or_path 'meta-llama/Llama-2-7b-hf' --seed 42 --n_classifiers 80  --sample --persistent_dir '/home/FYP/on0008an/bias-bench-main'\"\n",
    "    print(f\"Executing: {command}\")\n",
    "    get_ipython().system(command)"
   ]
  },
  {
   "cell_type": "code",
   "execution_count": null,
   "id": "fb8897e066df456e",
   "metadata": {
    "ExecuteTime": {
     "start_time": "2024-06-25T19:18:08.032872Z"
    },
    "jupyter": {
     "is_executing": true
    }
   },
   "outputs": [],
   "source": [
    "!python inlp_projection_matrix.py --bias_type 'race-color' --model 'LlamaForCausalLM_NonBFloat16' --model_name_or_path 'meta-llama/Llama-2-7b-hf' --seed 42 --n_classifiers 80  --sample --persistent_dir '/home/FYP/on0008an/bias-bench-main'"
   ]
  },
  {
   "cell_type": "code",
   "execution_count": null,
   "id": "f9699745193f5951",
   "metadata": {},
   "outputs": [],
   "source": []
  },
  {
   "cell_type": "markdown",
   "id": "bedeffb5f7226d19",
   "metadata": {},
   "source": [
    "# n_classifiers = 10"
   ]
  },
  {
   "cell_type": "code",
   "execution_count": null,
   "id": "98a2f0b591068a1a",
   "metadata": {},
   "outputs": [],
   "source": []
  }
 ],
 "metadata": {
  "kernelspec": {
   "display_name": "Python 3",
   "language": "python",
   "name": "python3"
  },
  "language_info": {
   "codemirror_mode": {
    "name": "ipython",
    "version": 2
   },
   "file_extension": ".py",
   "mimetype": "text/x-python",
   "name": "python",
   "nbconvert_exporter": "python",
   "pygments_lexer": "ipython2",
   "version": "2.7.6"
  }
 },
 "nbformat": 4,
 "nbformat_minor": 5
}
